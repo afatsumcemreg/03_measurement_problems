{
 "cells": [
  {
   "cell_type": "code",
   "execution_count": 1,
   "id": "5e93562d",
   "metadata": {
    "_cell_guid": "b1076dfc-b9ad-4769-8c92-a6c4dae69d19",
    "_uuid": "8f2839f25d086af736a60e9eeb907d3b93b6e0e5",
    "execution": {
     "iopub.execute_input": "2022-11-08T00:04:55.664810Z",
     "iopub.status.busy": "2022-11-08T00:04:55.664271Z",
     "iopub.status.idle": "2022-11-08T00:04:57.064946Z",
     "shell.execute_reply": "2022-11-08T00:04:57.063547Z"
    },
    "papermill": {
     "duration": 1.417441,
     "end_time": "2022-11-08T00:04:57.068419",
     "exception": false,
     "start_time": "2022-11-08T00:04:55.650978",
     "status": "completed"
    },
    "tags": []
   },
   "outputs": [],
   "source": [
    "# Importing libraries\n",
    "import pandas as pd\n",
    "import matplotlib.pyplot as plt\n",
    "import seaborn as sns\n",
    "import statsmodels.stats.api as sms\n",
    "from scipy.stats import shapiro, levene, ttest_ind\n",
    "\n",
    "pd.set_option('display.max_columns', None)\n",
    "pd.set_option('display.max_rows', 10)\n",
    "pd.set_option('display.width', 500)\n",
    "pd.set_option('display.float_format', lambda x: '%.3f' % x)"
   ]
  },
  {
   "cell_type": "markdown",
   "id": "fe34556c",
   "metadata": {
    "papermill": {
     "duration": 0.009806,
     "end_time": "2022-11-08T00:04:57.088713",
     "exception": false,
     "start_time": "2022-11-08T00:04:57.078907",
     "status": "completed"
    },
    "tags": []
   },
   "source": [
    "# Business problem\n",
    "\n",
    "* Facebook recently introduced a new bidding type, 'average bidding', as an alternative to the existing bidding type called 'maximum bidding'.\n",
    "* One of our clients, bombabomba.com, decided to test this new feature and would like to run an A/B test to see if average bidding converts more than maximum bidding.\n",
    "* The A/B test has been going on for 1 month and bombabomba.com is now waiting for you to analyze the results of this A/B test. \n",
    "* The ultimate success criterion for Bombabomba.com is Purchase. \n",
    "* Therefore, the focus should be on the Purchase metric for statistical testing."
   ]
  },
  {
   "cell_type": "markdown",
   "id": "d3fca66e",
   "metadata": {
    "papermill": {
     "duration": 0.011525,
     "end_time": "2022-11-08T00:04:57.110263",
     "exception": false,
     "start_time": "2022-11-08T00:04:57.098738",
     "status": "completed"
    },
    "tags": []
   },
   "source": [
    "# Dataset Story\n",
    "* In this data set, which includes the website information of a company, there is information such as the number of advertisements that users see and click, as well as earnings information from here. \n",
    "* There are two separate data sets, the control and test groups. \n",
    "* These datasets are in separate sheets of the ab_testing.xlsx excel. \n",
    "* Maximum Bidding was applied to the control group and Average Bidding was applied to the test group.\n",
    "\n",
    "### Explanation of the variables in the dataset\n",
    "\n",
    "* Impression:     Number of ad views\n",
    "* Click:          Number of clicks on the displayed ad\n",
    "* Purchase:       The number of products purchased after the ads clicked\n",
    "* Earning:        Earnings after purchased products"
   ]
  },
  {
   "cell_type": "markdown",
   "id": "d67173b0",
   "metadata": {
    "papermill": {
     "duration": 0.010981,
     "end_time": "2022-11-08T00:04:57.132610",
     "exception": false,
     "start_time": "2022-11-08T00:04:57.121629",
     "status": "completed"
    },
    "tags": []
   },
   "source": [
    "## Task 1: Preparing and Analyzing Data"
   ]
  },
  {
   "cell_type": "markdown",
   "id": "9242bc0b",
   "metadata": {
    "papermill": {
     "duration": 0.010411,
     "end_time": "2022-11-08T00:04:57.153608",
     "exception": false,
     "start_time": "2022-11-08T00:04:57.143197",
     "status": "completed"
    },
    "tags": []
   },
   "source": [
    "### Step 1: Read the dataset ab_testing_data.xlsx consisting of control and test group data. Assign control and test group data to separate variables."
   ]
  },
  {
   "cell_type": "code",
   "execution_count": 2,
   "id": "1743cd23",
   "metadata": {
    "execution": {
     "iopub.execute_input": "2022-11-08T00:04:57.176398Z",
     "iopub.status.busy": "2022-11-08T00:04:57.175989Z",
     "iopub.status.idle": "2022-11-08T00:04:57.620916Z",
     "shell.execute_reply": "2022-11-08T00:04:57.619630Z"
    },
    "papermill": {
     "duration": 0.459781,
     "end_time": "2022-11-08T00:04:57.623605",
     "exception": false,
     "start_time": "2022-11-08T00:04:57.163824",
     "status": "completed"
    },
    "tags": []
   },
   "outputs": [],
   "source": [
    "df_control = pd.read_excel('/kaggle/input/ab-testing-purchase/ab_testing.xlsx', sheet_name='Control Group')\n",
    "df_test = pd.read_excel('/kaggle/input/ab-testing-purchase/ab_testing.xlsx', sheet_name='Test Group')"
   ]
  },
  {
   "cell_type": "code",
   "execution_count": 3,
   "id": "12824a6c",
   "metadata": {
    "execution": {
     "iopub.execute_input": "2022-11-08T00:04:57.646606Z",
     "iopub.status.busy": "2022-11-08T00:04:57.646161Z",
     "iopub.status.idle": "2022-11-08T00:04:57.664669Z",
     "shell.execute_reply": "2022-11-08T00:04:57.663437Z"
    },
    "papermill": {
     "duration": 0.033537,
     "end_time": "2022-11-08T00:04:57.667767",
     "exception": false,
     "start_time": "2022-11-08T00:04:57.634230",
     "status": "completed"
    },
    "tags": []
   },
   "outputs": [
    {
     "data": {
      "text/html": [
       "<div>\n",
       "<style scoped>\n",
       "    .dataframe tbody tr th:only-of-type {\n",
       "        vertical-align: middle;\n",
       "    }\n",
       "\n",
       "    .dataframe tbody tr th {\n",
       "        vertical-align: top;\n",
       "    }\n",
       "\n",
       "    .dataframe thead th {\n",
       "        text-align: right;\n",
       "    }\n",
       "</style>\n",
       "<table border=\"1\" class=\"dataframe\">\n",
       "  <thead>\n",
       "    <tr style=\"text-align: right;\">\n",
       "      <th></th>\n",
       "      <th>Impression</th>\n",
       "      <th>Click</th>\n",
       "      <th>Purchase</th>\n",
       "      <th>Earning</th>\n",
       "    </tr>\n",
       "  </thead>\n",
       "  <tbody>\n",
       "    <tr>\n",
       "      <th>0</th>\n",
       "      <td>82529.459</td>\n",
       "      <td>6090.077</td>\n",
       "      <td>665.211</td>\n",
       "      <td>2311.277</td>\n",
       "    </tr>\n",
       "    <tr>\n",
       "      <th>1</th>\n",
       "      <td>98050.452</td>\n",
       "      <td>3382.862</td>\n",
       "      <td>315.085</td>\n",
       "      <td>1742.807</td>\n",
       "    </tr>\n",
       "    <tr>\n",
       "      <th>2</th>\n",
       "      <td>82696.024</td>\n",
       "      <td>4167.966</td>\n",
       "      <td>458.084</td>\n",
       "      <td>1797.827</td>\n",
       "    </tr>\n",
       "    <tr>\n",
       "      <th>3</th>\n",
       "      <td>109914.400</td>\n",
       "      <td>4910.882</td>\n",
       "      <td>487.091</td>\n",
       "      <td>1696.229</td>\n",
       "    </tr>\n",
       "    <tr>\n",
       "      <th>4</th>\n",
       "      <td>108457.763</td>\n",
       "      <td>5987.656</td>\n",
       "      <td>441.034</td>\n",
       "      <td>1543.720</td>\n",
       "    </tr>\n",
       "  </tbody>\n",
       "</table>\n",
       "</div>"
      ],
      "text/plain": [
       "   Impression    Click  Purchase  Earning\n",
       "0   82529.459 6090.077   665.211 2311.277\n",
       "1   98050.452 3382.862   315.085 1742.807\n",
       "2   82696.024 4167.966   458.084 1797.827\n",
       "3  109914.400 4910.882   487.091 1696.229\n",
       "4  108457.763 5987.656   441.034 1543.720"
      ]
     },
     "execution_count": 3,
     "metadata": {},
     "output_type": "execute_result"
    }
   ],
   "source": [
    "df_control.head()"
   ]
  },
  {
   "cell_type": "code",
   "execution_count": 4,
   "id": "84d0ae92",
   "metadata": {
    "execution": {
     "iopub.execute_input": "2022-11-08T00:04:57.690952Z",
     "iopub.status.busy": "2022-11-08T00:04:57.690409Z",
     "iopub.status.idle": "2022-11-08T00:04:57.701793Z",
     "shell.execute_reply": "2022-11-08T00:04:57.700492Z"
    },
    "papermill": {
     "duration": 0.025945,
     "end_time": "2022-11-08T00:04:57.704323",
     "exception": false,
     "start_time": "2022-11-08T00:04:57.678378",
     "status": "completed"
    },
    "tags": []
   },
   "outputs": [
    {
     "data": {
      "text/html": [
       "<div>\n",
       "<style scoped>\n",
       "    .dataframe tbody tr th:only-of-type {\n",
       "        vertical-align: middle;\n",
       "    }\n",
       "\n",
       "    .dataframe tbody tr th {\n",
       "        vertical-align: top;\n",
       "    }\n",
       "\n",
       "    .dataframe thead th {\n",
       "        text-align: right;\n",
       "    }\n",
       "</style>\n",
       "<table border=\"1\" class=\"dataframe\">\n",
       "  <thead>\n",
       "    <tr style=\"text-align: right;\">\n",
       "      <th></th>\n",
       "      <th>Impression</th>\n",
       "      <th>Click</th>\n",
       "      <th>Purchase</th>\n",
       "      <th>Earning</th>\n",
       "    </tr>\n",
       "  </thead>\n",
       "  <tbody>\n",
       "    <tr>\n",
       "      <th>0</th>\n",
       "      <td>120103.504</td>\n",
       "      <td>3216.548</td>\n",
       "      <td>702.160</td>\n",
       "      <td>1939.611</td>\n",
       "    </tr>\n",
       "    <tr>\n",
       "      <th>1</th>\n",
       "      <td>134775.943</td>\n",
       "      <td>3635.082</td>\n",
       "      <td>834.054</td>\n",
       "      <td>2929.406</td>\n",
       "    </tr>\n",
       "    <tr>\n",
       "      <th>2</th>\n",
       "      <td>107806.621</td>\n",
       "      <td>3057.144</td>\n",
       "      <td>422.934</td>\n",
       "      <td>2526.245</td>\n",
       "    </tr>\n",
       "    <tr>\n",
       "      <th>3</th>\n",
       "      <td>116445.276</td>\n",
       "      <td>4650.474</td>\n",
       "      <td>429.034</td>\n",
       "      <td>2281.429</td>\n",
       "    </tr>\n",
       "    <tr>\n",
       "      <th>4</th>\n",
       "      <td>145082.517</td>\n",
       "      <td>5201.388</td>\n",
       "      <td>749.860</td>\n",
       "      <td>2781.698</td>\n",
       "    </tr>\n",
       "  </tbody>\n",
       "</table>\n",
       "</div>"
      ],
      "text/plain": [
       "   Impression    Click  Purchase  Earning\n",
       "0  120103.504 3216.548   702.160 1939.611\n",
       "1  134775.943 3635.082   834.054 2929.406\n",
       "2  107806.621 3057.144   422.934 2526.245\n",
       "3  116445.276 4650.474   429.034 2281.429\n",
       "4  145082.517 5201.388   749.860 2781.698"
      ]
     },
     "execution_count": 4,
     "metadata": {},
     "output_type": "execute_result"
    }
   ],
   "source": [
    "df_test.head()"
   ]
  },
  {
   "cell_type": "markdown",
   "id": "4f4a0e51",
   "metadata": {
    "papermill": {
     "duration": 0.010434,
     "end_time": "2022-11-08T00:04:57.726086",
     "exception": false,
     "start_time": "2022-11-08T00:04:57.715652",
     "status": "completed"
    },
    "tags": []
   },
   "source": [
    "### Step 2: Analyze control and test group data."
   ]
  },
  {
   "cell_type": "code",
   "execution_count": 5,
   "id": "dbc16662",
   "metadata": {
    "execution": {
     "iopub.execute_input": "2022-11-08T00:04:57.749451Z",
     "iopub.status.busy": "2022-11-08T00:04:57.749017Z",
     "iopub.status.idle": "2022-11-08T00:04:57.754787Z",
     "shell.execute_reply": "2022-11-08T00:04:57.753503Z"
    },
    "papermill": {
     "duration": 0.020635,
     "end_time": "2022-11-08T00:04:57.757455",
     "exception": false,
     "start_time": "2022-11-08T00:04:57.736820",
     "status": "completed"
    },
    "tags": []
   },
   "outputs": [],
   "source": [
    "# descriptive statistics\n",
    "def descriptive_statistics(dataframe):\n",
    "    quantiles = [0.05, 0.1, 0.25, 0.50, 0.75, 0.90, 0.95, 0.99]\n",
    "    return dataframe.describe(quantiles).T"
   ]
  },
  {
   "cell_type": "code",
   "execution_count": 6,
   "id": "c9224a0e",
   "metadata": {
    "execution": {
     "iopub.execute_input": "2022-11-08T00:04:57.781048Z",
     "iopub.status.busy": "2022-11-08T00:04:57.780613Z",
     "iopub.status.idle": "2022-11-08T00:04:57.839531Z",
     "shell.execute_reply": "2022-11-08T00:04:57.838259Z"
    },
    "papermill": {
     "duration": 0.07376,
     "end_time": "2022-11-08T00:04:57.842230",
     "exception": false,
     "start_time": "2022-11-08T00:04:57.768470",
     "status": "completed"
    },
    "tags": []
   },
   "outputs": [
    {
     "data": {
      "text/html": [
       "<div>\n",
       "<style scoped>\n",
       "    .dataframe tbody tr th:only-of-type {\n",
       "        vertical-align: middle;\n",
       "    }\n",
       "\n",
       "    .dataframe tbody tr th {\n",
       "        vertical-align: top;\n",
       "    }\n",
       "\n",
       "    .dataframe thead th {\n",
       "        text-align: right;\n",
       "    }\n",
       "</style>\n",
       "<table border=\"1\" class=\"dataframe\">\n",
       "  <thead>\n",
       "    <tr style=\"text-align: right;\">\n",
       "      <th></th>\n",
       "      <th>count</th>\n",
       "      <th>mean</th>\n",
       "      <th>std</th>\n",
       "      <th>min</th>\n",
       "      <th>5%</th>\n",
       "      <th>10%</th>\n",
       "      <th>25%</th>\n",
       "      <th>50%</th>\n",
       "      <th>75%</th>\n",
       "      <th>90%</th>\n",
       "      <th>95%</th>\n",
       "      <th>99%</th>\n",
       "      <th>max</th>\n",
       "    </tr>\n",
       "  </thead>\n",
       "  <tbody>\n",
       "    <tr>\n",
       "      <th>Impression</th>\n",
       "      <td>40.000</td>\n",
       "      <td>101711.449</td>\n",
       "      <td>20302.158</td>\n",
       "      <td>45475.943</td>\n",
       "      <td>79412.018</td>\n",
       "      <td>81711.120</td>\n",
       "      <td>85726.690</td>\n",
       "      <td>99790.701</td>\n",
       "      <td>115212.817</td>\n",
       "      <td>129438.443</td>\n",
       "      <td>132950.532</td>\n",
       "      <td>143105.791</td>\n",
       "      <td>147539.336</td>\n",
       "    </tr>\n",
       "    <tr>\n",
       "      <th>Click</th>\n",
       "      <td>40.000</td>\n",
       "      <td>5100.657</td>\n",
       "      <td>1329.985</td>\n",
       "      <td>2189.753</td>\n",
       "      <td>3367.484</td>\n",
       "      <td>3582.087</td>\n",
       "      <td>4124.304</td>\n",
       "      <td>5001.221</td>\n",
       "      <td>5923.804</td>\n",
       "      <td>7010.163</td>\n",
       "      <td>7374.361</td>\n",
       "      <td>7761.795</td>\n",
       "      <td>7959.125</td>\n",
       "    </tr>\n",
       "    <tr>\n",
       "      <th>Purchase</th>\n",
       "      <td>40.000</td>\n",
       "      <td>550.894</td>\n",
       "      <td>134.108</td>\n",
       "      <td>267.029</td>\n",
       "      <td>328.662</td>\n",
       "      <td>381.993</td>\n",
       "      <td>470.096</td>\n",
       "      <td>531.206</td>\n",
       "      <td>637.957</td>\n",
       "      <td>740.182</td>\n",
       "      <td>748.271</td>\n",
       "      <td>790.188</td>\n",
       "      <td>801.795</td>\n",
       "    </tr>\n",
       "    <tr>\n",
       "      <th>Earning</th>\n",
       "      <td>40.000</td>\n",
       "      <td>1908.568</td>\n",
       "      <td>302.918</td>\n",
       "      <td>1253.990</td>\n",
       "      <td>1329.577</td>\n",
       "      <td>1569.056</td>\n",
       "      <td>1685.847</td>\n",
       "      <td>1975.161</td>\n",
       "      <td>2119.803</td>\n",
       "      <td>2254.805</td>\n",
       "      <td>2318.528</td>\n",
       "      <td>2481.309</td>\n",
       "      <td>2497.295</td>\n",
       "    </tr>\n",
       "  </tbody>\n",
       "</table>\n",
       "</div>"
      ],
      "text/plain": [
       "            count       mean       std       min        5%       10%       25%       50%        75%        90%        95%        99%        max\n",
       "Impression 40.000 101711.449 20302.158 45475.943 79412.018 81711.120 85726.690 99790.701 115212.817 129438.443 132950.532 143105.791 147539.336\n",
       "Click      40.000   5100.657  1329.985  2189.753  3367.484  3582.087  4124.304  5001.221   5923.804   7010.163   7374.361   7761.795   7959.125\n",
       "Purchase   40.000    550.894   134.108   267.029   328.662   381.993   470.096   531.206    637.957    740.182    748.271    790.188    801.795\n",
       "Earning    40.000   1908.568   302.918  1253.990  1329.577  1569.056  1685.847  1975.161   2119.803   2254.805   2318.528   2481.309   2497.295"
      ]
     },
     "metadata": {},
     "output_type": "display_data"
    },
    {
     "data": {
      "text/html": [
       "<div>\n",
       "<style scoped>\n",
       "    .dataframe tbody tr th:only-of-type {\n",
       "        vertical-align: middle;\n",
       "    }\n",
       "\n",
       "    .dataframe tbody tr th {\n",
       "        vertical-align: top;\n",
       "    }\n",
       "\n",
       "    .dataframe thead th {\n",
       "        text-align: right;\n",
       "    }\n",
       "</style>\n",
       "<table border=\"1\" class=\"dataframe\">\n",
       "  <thead>\n",
       "    <tr style=\"text-align: right;\">\n",
       "      <th></th>\n",
       "      <th>count</th>\n",
       "      <th>mean</th>\n",
       "      <th>std</th>\n",
       "      <th>min</th>\n",
       "      <th>5%</th>\n",
       "      <th>10%</th>\n",
       "      <th>25%</th>\n",
       "      <th>50%</th>\n",
       "      <th>75%</th>\n",
       "      <th>90%</th>\n",
       "      <th>95%</th>\n",
       "      <th>99%</th>\n",
       "      <th>max</th>\n",
       "    </tr>\n",
       "  </thead>\n",
       "  <tbody>\n",
       "    <tr>\n",
       "      <th>Impression</th>\n",
       "      <td>40.000</td>\n",
       "      <td>120512.412</td>\n",
       "      <td>18807.449</td>\n",
       "      <td>79033.835</td>\n",
       "      <td>83150.504</td>\n",
       "      <td>97389.767</td>\n",
       "      <td>112691.971</td>\n",
       "      <td>119291.301</td>\n",
       "      <td>132050.579</td>\n",
       "      <td>141739.315</td>\n",
       "      <td>153178.691</td>\n",
       "      <td>158245.264</td>\n",
       "      <td>158605.920</td>\n",
       "    </tr>\n",
       "    <tr>\n",
       "      <th>Click</th>\n",
       "      <td>40.000</td>\n",
       "      <td>3967.550</td>\n",
       "      <td>923.095</td>\n",
       "      <td>1836.630</td>\n",
       "      <td>2600.361</td>\n",
       "      <td>2917.265</td>\n",
       "      <td>3376.819</td>\n",
       "      <td>3931.360</td>\n",
       "      <td>4660.498</td>\n",
       "      <td>5074.011</td>\n",
       "      <td>5271.187</td>\n",
       "      <td>6012.877</td>\n",
       "      <td>6019.695</td>\n",
       "    </tr>\n",
       "    <tr>\n",
       "      <th>Purchase</th>\n",
       "      <td>40.000</td>\n",
       "      <td>582.106</td>\n",
       "      <td>161.153</td>\n",
       "      <td>311.630</td>\n",
       "      <td>356.695</td>\n",
       "      <td>381.055</td>\n",
       "      <td>444.627</td>\n",
       "      <td>551.356</td>\n",
       "      <td>699.862</td>\n",
       "      <td>823.745</td>\n",
       "      <td>854.209</td>\n",
       "      <td>876.576</td>\n",
       "      <td>889.910</td>\n",
       "    </tr>\n",
       "    <tr>\n",
       "      <th>Earning</th>\n",
       "      <td>40.000</td>\n",
       "      <td>2514.891</td>\n",
       "      <td>282.731</td>\n",
       "      <td>1939.611</td>\n",
       "      <td>2080.976</td>\n",
       "      <td>2186.392</td>\n",
       "      <td>2280.537</td>\n",
       "      <td>2544.666</td>\n",
       "      <td>2761.545</td>\n",
       "      <td>2813.611</td>\n",
       "      <td>2931.311</td>\n",
       "      <td>3091.941</td>\n",
       "      <td>3171.490</td>\n",
       "    </tr>\n",
       "  </tbody>\n",
       "</table>\n",
       "</div>"
      ],
      "text/plain": [
       "            count       mean       std       min        5%       10%        25%        50%        75%        90%        95%        99%        max\n",
       "Impression 40.000 120512.412 18807.449 79033.835 83150.504 97389.767 112691.971 119291.301 132050.579 141739.315 153178.691 158245.264 158605.920\n",
       "Click      40.000   3967.550   923.095  1836.630  2600.361  2917.265   3376.819   3931.360   4660.498   5074.011   5271.187   6012.877   6019.695\n",
       "Purchase   40.000    582.106   161.153   311.630   356.695   381.055    444.627    551.356    699.862    823.745    854.209    876.576    889.910\n",
       "Earning    40.000   2514.891   282.731  1939.611  2080.976  2186.392   2280.537   2544.666   2761.545   2813.611   2931.311   3091.941   3171.490"
      ]
     },
     "metadata": {},
     "output_type": "display_data"
    }
   ],
   "source": [
    "datasets = [df_control, df_test]\n",
    "for col in datasets:\n",
    "    display(descriptive_statistics(col))"
   ]
  },
  {
   "cell_type": "markdown",
   "id": "1910b9d3",
   "metadata": {
    "papermill": {
     "duration": 0.010554,
     "end_time": "2022-11-08T00:04:57.864100",
     "exception": false,
     "start_time": "2022-11-08T00:04:57.853546",
     "status": "completed"
    },
    "tags": []
   },
   "source": [
    "* The mean and median valeus were all close to each other. \n",
    "* Therefore, we can say that the distributions of the variables are normal and there are no outliers, except for the Impresions for the df_test.\n",
    "* We can validate this using the following defined function named 'determining_outliers'. "
   ]
  },
  {
   "cell_type": "code",
   "execution_count": 7,
   "id": "6c494e3b",
   "metadata": {
    "execution": {
     "iopub.execute_input": "2022-11-08T00:04:57.887943Z",
     "iopub.status.busy": "2022-11-08T00:04:57.887433Z",
     "iopub.status.idle": "2022-11-08T00:04:57.894531Z",
     "shell.execute_reply": "2022-11-08T00:04:57.893091Z"
    },
    "papermill": {
     "duration": 0.021925,
     "end_time": "2022-11-08T00:04:57.896961",
     "exception": false,
     "start_time": "2022-11-08T00:04:57.875036",
     "status": "completed"
    },
    "tags": []
   },
   "outputs": [],
   "source": [
    "# showing boxplots and histograms to determine outliers for each dataframe\n",
    "def determining_outliers(dataframe, variable):\n",
    "    plt.figure(figsize=(12, 5))\n",
    "    plt.subplot(1, 2, 1)\n",
    "    sns.boxplot(x=dataframe[variable])\n",
    "    plt.subplot(1, 2, 2)\n",
    "    sns.histplot(x = dataframe[variable])\n",
    "    plt.show(block=True)"
   ]
  },
  {
   "cell_type": "code",
   "execution_count": 8,
   "id": "ebe438f2",
   "metadata": {
    "execution": {
     "iopub.execute_input": "2022-11-08T00:04:57.922318Z",
     "iopub.status.busy": "2022-11-08T00:04:57.921741Z",
     "iopub.status.idle": "2022-11-08T00:04:59.160806Z",
     "shell.execute_reply": "2022-11-08T00:04:59.158695Z"
    },
    "papermill": {
     "duration": 1.255878,
     "end_time": "2022-11-08T00:04:59.163967",
     "exception": false,
     "start_time": "2022-11-08T00:04:57.908089",
     "status": "completed"
    },
    "tags": []
   },
   "outputs": [
    {
     "data": {
      "image/png": "[encoded data removed]",
      "text/plain": [
       "<Figure size 864x360 with 2 Axes>"
      ]
     },
     "metadata": {
      "needs_background": "light"
     },
     "output_type": "display_data"
    },
    {
     "data": {
      "image/png": "[encoded data removed]",
      "text/plain": [
       "<Figure size 864x360 with 2 Axes>"
      ]
     },
     "metadata": {
      "needs_background": "light"
     },
     "output_type": "display_data"
    },
    {
     "data": {
      "image/png": "[encoded data removed]",
      "text/plain": [
       "<Figure size 864x360 with 2 Axes>"
      ]
     },
     "metadata": {
      "needs_background": "light"
     },
     "output_type": "display_data"
    },
    {
     "data": {
      "image/png": "[encoded data removed]",
      "text/plain": [
       "<Figure size 864x360 with 2 Axes>"
      ]
     },
     "metadata": {
      "needs_background": "light"
     },
     "output_type": "display_data"
    }
   ],
   "source": [
    "# indicating the boxplots and histograms for the df_control\n",
    "for col in df_control.columns:\n",
    "    determining_outliers(df_control, col)"
   ]
  },
  {
   "cell_type": "code",
   "execution_count": 9,
   "id": "2f13f82c",
   "metadata": {
    "execution": {
     "iopub.execute_input": "2022-11-08T00:04:59.190777Z",
     "iopub.status.busy": "2022-11-08T00:04:59.190301Z",
     "iopub.status.idle": "2022-11-08T00:05:00.557767Z",
     "shell.execute_reply": "2022-11-08T00:05:00.556442Z"
    },
    "papermill": {
     "duration": 1.383966,
     "end_time": "2022-11-08T00:05:00.560474",
     "exception": false,
     "start_time": "2022-11-08T00:04:59.176508",
     "status": "completed"
    },
    "tags": []
   },
   "outputs": [
    {
     "data": {
      "image/png": "[encoded data removed]",
      "text/plain": [
       "<Figure size 864x360 with 2 Axes>"
      ]
     },
     "metadata": {
      "needs_background": "light"
     },
     "output_type": "display_data"
    },
    {
     "data": {
      "image/png": "[encoded data removed]",
      "text/plain": [
       "<Figure size 864x360 with 2 Axes>"
      ]
     },
     "metadata": {
      "needs_background": "light"
     },
     "output_type": "display_data"
    },
    {
     "data": {
      "image/png": "[encoded data removed]",
      "text/plain": [
       "<Figure size 864x360 with 2 Axes>"
      ]
     },
     "metadata": {
      "needs_background": "light"
     },
     "output_type": "display_data"
    },
    {
     "data": {
      "image/png": "[encoded data removed]",
      "text/plain": [
       "<Figure size 864x360 with 2 Axes>"
      ]
     },
     "metadata": {
      "needs_background": "light"
     },
     "output_type": "display_data"
    }
   ],
   "source": [
    "# indicating the boxplots and histograms for the df_test\n",
    "for col in df_test.columns:\n",
    "    determining_outliers(df_test, col)"
   ]
  },
  {
   "cell_type": "markdown",
   "id": "12127ab6",
   "metadata": {
    "papermill": {
     "duration": 0.013053,
     "end_time": "2022-11-08T00:05:00.587202",
     "exception": false,
     "start_time": "2022-11-08T00:05:00.574149",
     "status": "completed"
    },
    "tags": []
   },
   "source": [
    "* Based on the boxplot and histogram results, there are also no outliers, except for the Impresions for the df_test."
   ]
  },
  {
   "cell_type": "code",
   "execution_count": 10,
   "id": "db7df52e",
   "metadata": {
    "execution": {
     "iopub.execute_input": "2022-11-08T00:05:00.615877Z",
     "iopub.status.busy": "2022-11-08T00:05:00.615459Z",
     "iopub.status.idle": "2022-11-08T00:05:00.620836Z",
     "shell.execute_reply": "2022-11-08T00:05:00.619531Z"
    },
    "papermill": {
     "duration": 0.022604,
     "end_time": "2022-11-08T00:05:00.623031",
     "exception": false,
     "start_time": "2022-11-08T00:05:00.600427",
     "status": "completed"
    },
    "tags": []
   },
   "outputs": [],
   "source": [
    "# determining the confidence ranges\n",
    "def confidence_range(dataframe, variable):\n",
    "    return sms.DescrStatsW(dataframe[variable]).tconfint_mean()"
   ]
  },
  {
   "cell_type": "code",
   "execution_count": 11,
   "id": "7b720955",
   "metadata": {
    "execution": {
     "iopub.execute_input": "2022-11-08T00:05:00.651800Z",
     "iopub.status.busy": "2022-11-08T00:05:00.650477Z",
     "iopub.status.idle": "2022-11-08T00:05:00.662455Z",
     "shell.execute_reply": "2022-11-08T00:05:00.660644Z"
    },
    "papermill": {
     "duration": 0.029632,
     "end_time": "2022-11-08T00:05:00.665399",
     "exception": false,
     "start_time": "2022-11-08T00:05:00.635767",
     "status": "completed"
    },
    "tags": []
   },
   "outputs": [
    {
     "name": "stdout",
     "output_type": "stream",
     "text": [
      "Impression (95218.50401213673, 108204.39412325788)\n",
      "Click (4675.307376598384, 5526.007368556174)\n",
      "Purchase (508.0041754264924, 593.7839421139709)\n",
      "Earning (1811.6904932901255, 2005.4461063153728)\n"
     ]
    }
   ],
   "source": [
    "# determining the confidence ranges for the df_control\n",
    "for col in df_control.columns:\n",
    "    print(col, confidence_range(df_control, col))"
   ]
  },
  {
   "cell_type": "code",
   "execution_count": 12,
   "id": "c8729bd9",
   "metadata": {
    "execution": {
     "iopub.execute_input": "2022-11-08T00:05:00.694462Z",
     "iopub.status.busy": "2022-11-08T00:05:00.693285Z",
     "iopub.status.idle": "2022-11-08T00:05:00.701267Z",
     "shell.execute_reply": "2022-11-08T00:05:00.699505Z"
    },
    "papermill": {
     "duration": 0.025487,
     "end_time": "2022-11-08T00:05:00.704021",
     "exception": false,
     "start_time": "2022-11-08T00:05:00.678534",
     "status": "completed"
    },
    "tags": []
   },
   "outputs": [
    {
     "name": "stdout",
     "output_type": "stream",
     "text": [
      "Impression (114497.4978773465, 126527.32563772256)\n",
      "Click (3672.3296353187875, 4262.769886293253)\n",
      "Purchase (530.5670226990062, 633.6451705979289)\n",
      "Earning (2424.469019772786, 2605.3124455284496)\n"
     ]
    }
   ],
   "source": [
    "# determining the confidence ranges for the df_test\n",
    "for col in df_control.columns:\n",
    "    print(col, confidence_range(df_test, col))"
   ]
  },
  {
   "cell_type": "markdown",
   "id": "3052f6f7",
   "metadata": {
    "papermill": {
     "duration": 0.013332,
     "end_time": "2022-11-08T00:05:00.730465",
     "exception": false,
     "start_time": "2022-11-08T00:05:00.717133",
     "status": "completed"
    },
    "tags": []
   },
   "source": [
    "* These values mean: In case of sampling 100 times and taking the average, the average value will be between these two values in 95% of them and the 5% margin of error will be outside this range."
   ]
  },
  {
   "cell_type": "code",
   "execution_count": 13,
   "id": "f3af3aad",
   "metadata": {
    "execution": {
     "iopub.execute_input": "2022-11-08T00:05:00.758701Z",
     "iopub.status.busy": "2022-11-08T00:05:00.757561Z",
     "iopub.status.idle": "2022-11-08T00:05:00.764296Z",
     "shell.execute_reply": "2022-11-08T00:05:00.762888Z"
    },
    "papermill": {
     "duration": 0.02361,
     "end_time": "2022-11-08T00:05:00.767056",
     "exception": false,
     "start_time": "2022-11-08T00:05:00.743446",
     "status": "completed"
    },
    "tags": []
   },
   "outputs": [],
   "source": [
    "# regression plot and correlation analysis\n",
    "def regression_plot(dataframe, variable_1, variable_2):\n",
    "    sns.regplot(x=variable_1, y=variable_2, data=dataframe)\n",
    "    plt.show(block=True)"
   ]
  },
  {
   "cell_type": "code",
   "execution_count": 14,
   "id": "ce945c7f",
   "metadata": {
    "execution": {
     "iopub.execute_input": "2022-11-08T00:05:00.796251Z",
     "iopub.status.busy": "2022-11-08T00:05:00.795088Z",
     "iopub.status.idle": "2022-11-08T00:05:02.497319Z",
     "shell.execute_reply": "2022-11-08T00:05:02.496108Z"
    },
    "papermill": {
     "duration": 1.719762,
     "end_time": "2022-11-08T00:05:02.500414",
     "exception": false,
     "start_time": "2022-11-08T00:05:00.780652",
     "status": "completed"
    },
    "tags": []
   },
   "outputs": [
    {
     "data": {
      "image/png": "[encoded data removed]",
      "text/plain": [
       "<Figure size 432x288 with 1 Axes>"
      ]
     },
     "metadata": {
      "needs_background": "light"
     },
     "output_type": "display_data"
    },
    {
     "data": {
      "image/png": "[encoded data removed]",
      "text/plain": [
       "<Figure size 432x288 with 1 Axes>"
      ]
     },
     "metadata": {
      "needs_background": "light"
     },
     "output_type": "display_data"
    },
    {
     "data": {
      "image/png": "[encoded data removed]",
      "text/plain": [
       "<Figure size 432x288 with 1 Axes>"
      ]
     },
     "metadata": {
      "needs_background": "light"
     },
     "output_type": "display_data"
    },
    {
     "data": {
      "image/png": "[encoded data removed]",
      "text/plain": [
       "<Figure size 432x288 with 1 Axes>"
      ]
     },
     "metadata": {
      "needs_background": "light"
     },
     "output_type": "display_data"
    },
    {
     "data": {
      "image/png": "[encoded data removed]",
      "text/plain": [
       "<Figure size 432x288 with 1 Axes>"
      ]
     },
     "metadata": {
      "needs_background": "light"
     },
     "output_type": "display_data"
    },
    {
     "data": {
      "image/png": "[encoded data removed]",
      "text/plain": [
       "<Figure size 432x288 with 1 Axes>"
      ]
     },
     "metadata": {
      "needs_background": "light"
     },
     "output_type": "display_data"
    }
   ],
   "source": [
    "# for the dataframe df_control\n",
    "regression_plot(df_control, 'Impression', 'Click')      # when impression increases, the clicked amount decreases. there is a negative correlation \n",
    "regression_plot(df_control, 'Impression', 'Purchase')   # when impression increases, the purchase increases. there is a relatively high positive correlation \n",
    "regression_plot(df_control, 'Impression', 'Earning')    # when impression increases, the earning increases. there is a weak positive correlation\n",
    "regression_plot(df_control, 'Purchase', 'Click')        # when purchase increases, the click did not increase. we can say that there is no correlation\n",
    "regression_plot(df_control, 'Purchase', 'Earning')      # when purchase increases, the earning did not increase. we can say that there is no correlation\n",
    "regression_plot(df_control, 'Earning', 'Click')         # when earning increases, the click decreases. there is a relatively low neagtive correlation"
   ]
  },
  {
   "cell_type": "code",
   "execution_count": 15,
   "id": "e30a436e",
   "metadata": {
    "execution": {
     "iopub.execute_input": "2022-11-08T00:05:02.533214Z",
     "iopub.status.busy": "2022-11-08T00:05:02.532812Z",
     "iopub.status.idle": "2022-11-08T00:05:04.302857Z",
     "shell.execute_reply": "2022-11-08T00:05:04.301616Z"
    },
    "papermill": {
     "duration": 1.789671,
     "end_time": "2022-11-08T00:05:04.305516",
     "exception": false,
     "start_time": "2022-11-08T00:05:02.515845",
     "status": "completed"
    },
    "tags": []
   },
   "outputs": [
    {
     "data": {
      "image/png": "[encoded data removed]",
      "text/plain": [
       "<Figure size 432x288 with 1 Axes>"
      ]
     },
     "metadata": {
      "needs_background": "light"
     },
     "output_type": "display_data"
    },
    {
     "data": {
      "image/png": "[encoded data removed]",
      "text/plain": [
       "<Figure size 432x288 with 1 Axes>"
      ]
     },
     "metadata": {
      "needs_background": "light"
     },
     "output_type": "display_data"
    },
    {
     "data": {
      "image/png": "[encoded data removed]",
      "text/plain": [
       "<Figure size 432x288 with 1 Axes>"
      ]
     },
     "metadata": {
      "needs_background": "light"
     },
     "output_type": "display_data"
    },
    {
     "data": {
      "image/png": "[encoded data removed]",
      "text/plain": [
       "<Figure size 432x288 with 1 Axes>"
      ]
     },
     "metadata": {
      "needs_background": "light"
     },
     "output_type": "display_data"
    },
    {
     "data": {
      "image/png": "[encoded data removed]",
      "text/plain": [
       "<Figure size 432x288 with 1 Axes>"
      ]
     },
     "metadata": {
      "needs_background": "light"
     },
     "output_type": "display_data"
    },
    {
     "data": {
      "image/png": "[encoded data removed]",
      "text/plain": [
       "<Figure size 432x288 with 1 Axes>"
      ]
     },
     "metadata": {
      "needs_background": "light"
     },
     "output_type": "display_data"
    }
   ],
   "source": [
    "# for the dataframe df_test\n",
    "regression_plot(df_test, 'Impression', 'Click')      # when impression increases, the clicked amount decreases. there is a weak negative correlation \n",
    "regression_plot(df_test, 'Impression', 'Purchase')   # when impression increases, the purchase increases. there is a weak positive correlation \n",
    "regression_plot(df_test, 'Impression', 'Earning')    # when impression increases, the earning increases. there is a weak positive correlation\n",
    "regression_plot(df_test, 'Purchase', 'Click')        # when purchase increases, the click did not increase. we can say that there is no correlation\n",
    "regression_plot(df_test, 'Purchase', 'Earning')      # when purchase increases, the earning increases a bit. we can say that there is a weak positive correlation\n",
    "regression_plot(df_test, 'Earning', 'Click')         # when earning increases, the click also increases. there is a weak positive correlation"
   ]
  },
  {
   "cell_type": "code",
   "execution_count": 16,
   "id": "f710bcd7",
   "metadata": {
    "execution": {
     "iopub.execute_input": "2022-11-08T00:05:04.343509Z",
     "iopub.status.busy": "2022-11-08T00:05:04.342713Z",
     "iopub.status.idle": "2022-11-08T00:05:04.637179Z",
     "shell.execute_reply": "2022-11-08T00:05:04.635579Z"
    },
    "papermill": {
     "duration": 0.316624,
     "end_time": "2022-11-08T00:05:04.639969",
     "exception": false,
     "start_time": "2022-11-08T00:05:04.323345",
     "status": "completed"
    },
    "tags": []
   },
   "outputs": [
    {
     "data": {
      "image/png": "[encoded data removed]",
      "text/plain": [
       "<Figure size 432x288 with 2 Axes>"
      ]
     },
     "metadata": {
      "needs_background": "light"
     },
     "output_type": "display_data"
    }
   ],
   "source": [
    "# showing heat map\n",
    "sns.heatmap(df_control.corr(), cmap='RdBu', annot=True)\n",
    "plt.show(block=True)"
   ]
  },
  {
   "cell_type": "markdown",
   "id": "c460ad10",
   "metadata": {
    "papermill": {
     "duration": 0.017488,
     "end_time": "2022-11-08T00:05:04.674884",
     "exception": false,
     "start_time": "2022-11-08T00:05:04.657396",
     "status": "completed"
    },
    "tags": []
   },
   "source": [
    "### Step 3: After the analysis process, combine the control and test group data using the concat method."
   ]
  },
  {
   "cell_type": "code",
   "execution_count": 17,
   "id": "d7398d35",
   "metadata": {
    "execution": {
     "iopub.execute_input": "2022-11-08T00:05:04.710773Z",
     "iopub.status.busy": "2022-11-08T00:05:04.710313Z",
     "iopub.status.idle": "2022-11-08T00:05:04.717756Z",
     "shell.execute_reply": "2022-11-08T00:05:04.716389Z"
    },
    "papermill": {
     "duration": 0.029473,
     "end_time": "2022-11-08T00:05:04.721344",
     "exception": false,
     "start_time": "2022-11-08T00:05:04.691871",
     "status": "completed"
    },
    "tags": []
   },
   "outputs": [],
   "source": [
    "# converting lower case the col names of the dataframe\n",
    "def lower_col_names(dataframe):\n",
    "    dataframe.columns = [col.lower() for col in dataframe.columns]\n",
    "    return dataframe\n",
    "\n",
    "for col in [df_control, df_test]:\n",
    "    lower_col_names(col)"
   ]
  },
  {
   "cell_type": "code",
   "execution_count": 18,
   "id": "0a358a9e",
   "metadata": {
    "execution": {
     "iopub.execute_input": "2022-11-08T00:05:04.759818Z",
     "iopub.status.busy": "2022-11-08T00:05:04.759359Z",
     "iopub.status.idle": "2022-11-08T00:05:04.772037Z",
     "shell.execute_reply": "2022-11-08T00:05:04.770235Z"
    },
    "papermill": {
     "duration": 0.034407,
     "end_time": "2022-11-08T00:05:04.774530",
     "exception": false,
     "start_time": "2022-11-08T00:05:04.740123",
     "status": "completed"
    },
    "tags": []
   },
   "outputs": [
    {
     "data": {
      "text/html": [
       "<div>\n",
       "<style scoped>\n",
       "    .dataframe tbody tr th:only-of-type {\n",
       "        vertical-align: middle;\n",
       "    }\n",
       "\n",
       "    .dataframe tbody tr th {\n",
       "        vertical-align: top;\n",
       "    }\n",
       "\n",
       "    .dataframe thead th {\n",
       "        text-align: right;\n",
       "    }\n",
       "</style>\n",
       "<table border=\"1\" class=\"dataframe\">\n",
       "  <thead>\n",
       "    <tr style=\"text-align: right;\">\n",
       "      <th></th>\n",
       "      <th>impression</th>\n",
       "      <th>click</th>\n",
       "      <th>purchase</th>\n",
       "      <th>earning</th>\n",
       "    </tr>\n",
       "  </thead>\n",
       "  <tbody>\n",
       "    <tr>\n",
       "      <th>0</th>\n",
       "      <td>82529.459</td>\n",
       "      <td>6090.077</td>\n",
       "      <td>665.211</td>\n",
       "      <td>2311.277</td>\n",
       "    </tr>\n",
       "    <tr>\n",
       "      <th>1</th>\n",
       "      <td>98050.452</td>\n",
       "      <td>3382.862</td>\n",
       "      <td>315.085</td>\n",
       "      <td>1742.807</td>\n",
       "    </tr>\n",
       "    <tr>\n",
       "      <th>2</th>\n",
       "      <td>82696.024</td>\n",
       "      <td>4167.966</td>\n",
       "      <td>458.084</td>\n",
       "      <td>1797.827</td>\n",
       "    </tr>\n",
       "    <tr>\n",
       "      <th>3</th>\n",
       "      <td>109914.400</td>\n",
       "      <td>4910.882</td>\n",
       "      <td>487.091</td>\n",
       "      <td>1696.229</td>\n",
       "    </tr>\n",
       "    <tr>\n",
       "      <th>4</th>\n",
       "      <td>108457.763</td>\n",
       "      <td>5987.656</td>\n",
       "      <td>441.034</td>\n",
       "      <td>1543.720</td>\n",
       "    </tr>\n",
       "  </tbody>\n",
       "</table>\n",
       "</div>"
      ],
      "text/plain": [
       "   impression    click  purchase  earning\n",
       "0   82529.459 6090.077   665.211 2311.277\n",
       "1   98050.452 3382.862   315.085 1742.807\n",
       "2   82696.024 4167.966   458.084 1797.827\n",
       "3  109914.400 4910.882   487.091 1696.229\n",
       "4  108457.763 5987.656   441.034 1543.720"
      ]
     },
     "execution_count": 18,
     "metadata": {},
     "output_type": "execute_result"
    }
   ],
   "source": [
    "df_control.head()"
   ]
  },
  {
   "cell_type": "code",
   "execution_count": 19,
   "id": "13eab234",
   "metadata": {
    "execution": {
     "iopub.execute_input": "2022-11-08T00:05:04.811050Z",
     "iopub.status.busy": "2022-11-08T00:05:04.810631Z",
     "iopub.status.idle": "2022-11-08T00:05:04.823527Z",
     "shell.execute_reply": "2022-11-08T00:05:04.821777Z"
    },
    "papermill": {
     "duration": 0.033823,
     "end_time": "2022-11-08T00:05:04.825921",
     "exception": false,
     "start_time": "2022-11-08T00:05:04.792098",
     "status": "completed"
    },
    "tags": []
   },
   "outputs": [
    {
     "data": {
      "text/html": [
       "<div>\n",
       "<style scoped>\n",
       "    .dataframe tbody tr th:only-of-type {\n",
       "        vertical-align: middle;\n",
       "    }\n",
       "\n",
       "    .dataframe tbody tr th {\n",
       "        vertical-align: top;\n",
       "    }\n",
       "\n",
       "    .dataframe thead th {\n",
       "        text-align: right;\n",
       "    }\n",
       "</style>\n",
       "<table border=\"1\" class=\"dataframe\">\n",
       "  <thead>\n",
       "    <tr style=\"text-align: right;\">\n",
       "      <th></th>\n",
       "      <th>impression</th>\n",
       "      <th>click</th>\n",
       "      <th>purchase</th>\n",
       "      <th>earning</th>\n",
       "    </tr>\n",
       "  </thead>\n",
       "  <tbody>\n",
       "    <tr>\n",
       "      <th>0</th>\n",
       "      <td>120103.504</td>\n",
       "      <td>3216.548</td>\n",
       "      <td>702.160</td>\n",
       "      <td>1939.611</td>\n",
       "    </tr>\n",
       "    <tr>\n",
       "      <th>1</th>\n",
       "      <td>134775.943</td>\n",
       "      <td>3635.082</td>\n",
       "      <td>834.054</td>\n",
       "      <td>2929.406</td>\n",
       "    </tr>\n",
       "    <tr>\n",
       "      <th>2</th>\n",
       "      <td>107806.621</td>\n",
       "      <td>3057.144</td>\n",
       "      <td>422.934</td>\n",
       "      <td>2526.245</td>\n",
       "    </tr>\n",
       "    <tr>\n",
       "      <th>3</th>\n",
       "      <td>116445.276</td>\n",
       "      <td>4650.474</td>\n",
       "      <td>429.034</td>\n",
       "      <td>2281.429</td>\n",
       "    </tr>\n",
       "    <tr>\n",
       "      <th>4</th>\n",
       "      <td>145082.517</td>\n",
       "      <td>5201.388</td>\n",
       "      <td>749.860</td>\n",
       "      <td>2781.698</td>\n",
       "    </tr>\n",
       "  </tbody>\n",
       "</table>\n",
       "</div>"
      ],
      "text/plain": [
       "   impression    click  purchase  earning\n",
       "0  120103.504 3216.548   702.160 1939.611\n",
       "1  134775.943 3635.082   834.054 2929.406\n",
       "2  107806.621 3057.144   422.934 2526.245\n",
       "3  116445.276 4650.474   429.034 2281.429\n",
       "4  145082.517 5201.388   749.860 2781.698"
      ]
     },
     "execution_count": 19,
     "metadata": {},
     "output_type": "execute_result"
    }
   ],
   "source": [
    "df_test.head()"
   ]
  },
  {
   "cell_type": "code",
   "execution_count": 20,
   "id": "3b987596",
   "metadata": {
    "execution": {
     "iopub.execute_input": "2022-11-08T00:05:04.863729Z",
     "iopub.status.busy": "2022-11-08T00:05:04.863248Z",
     "iopub.status.idle": "2022-11-08T00:05:04.880166Z",
     "shell.execute_reply": "2022-11-08T00:05:04.878250Z"
    },
    "papermill": {
     "duration": 0.039916,
     "end_time": "2022-11-08T00:05:04.883644",
     "exception": false,
     "start_time": "2022-11-08T00:05:04.843728",
     "status": "completed"
    },
    "tags": []
   },
   "outputs": [
    {
     "data": {
      "text/html": [
       "<div>\n",
       "<style scoped>\n",
       "    .dataframe tbody tr th:only-of-type {\n",
       "        vertical-align: middle;\n",
       "    }\n",
       "\n",
       "    .dataframe tbody tr th {\n",
       "        vertical-align: top;\n",
       "    }\n",
       "\n",
       "    .dataframe thead th {\n",
       "        text-align: right;\n",
       "    }\n",
       "</style>\n",
       "<table border=\"1\" class=\"dataframe\">\n",
       "  <thead>\n",
       "    <tr style=\"text-align: right;\">\n",
       "      <th></th>\n",
       "      <th>impression_control</th>\n",
       "      <th>click_control</th>\n",
       "      <th>purchase_control</th>\n",
       "      <th>earning_control</th>\n",
       "      <th>impression_test</th>\n",
       "      <th>click_test</th>\n",
       "      <th>purchase_test</th>\n",
       "      <th>earning_test</th>\n",
       "    </tr>\n",
       "  </thead>\n",
       "  <tbody>\n",
       "    <tr>\n",
       "      <th>0</th>\n",
       "      <td>82529.459</td>\n",
       "      <td>6090.077</td>\n",
       "      <td>665.211</td>\n",
       "      <td>2311.277</td>\n",
       "      <td>120103.504</td>\n",
       "      <td>3216.548</td>\n",
       "      <td>702.160</td>\n",
       "      <td>1939.611</td>\n",
       "    </tr>\n",
       "    <tr>\n",
       "      <th>1</th>\n",
       "      <td>98050.452</td>\n",
       "      <td>3382.862</td>\n",
       "      <td>315.085</td>\n",
       "      <td>1742.807</td>\n",
       "      <td>134775.943</td>\n",
       "      <td>3635.082</td>\n",
       "      <td>834.054</td>\n",
       "      <td>2929.406</td>\n",
       "    </tr>\n",
       "    <tr>\n",
       "      <th>2</th>\n",
       "      <td>82696.024</td>\n",
       "      <td>4167.966</td>\n",
       "      <td>458.084</td>\n",
       "      <td>1797.827</td>\n",
       "      <td>107806.621</td>\n",
       "      <td>3057.144</td>\n",
       "      <td>422.934</td>\n",
       "      <td>2526.245</td>\n",
       "    </tr>\n",
       "    <tr>\n",
       "      <th>3</th>\n",
       "      <td>109914.400</td>\n",
       "      <td>4910.882</td>\n",
       "      <td>487.091</td>\n",
       "      <td>1696.229</td>\n",
       "      <td>116445.276</td>\n",
       "      <td>4650.474</td>\n",
       "      <td>429.034</td>\n",
       "      <td>2281.429</td>\n",
       "    </tr>\n",
       "    <tr>\n",
       "      <th>4</th>\n",
       "      <td>108457.763</td>\n",
       "      <td>5987.656</td>\n",
       "      <td>441.034</td>\n",
       "      <td>1543.720</td>\n",
       "      <td>145082.517</td>\n",
       "      <td>5201.388</td>\n",
       "      <td>749.860</td>\n",
       "      <td>2781.698</td>\n",
       "    </tr>\n",
       "  </tbody>\n",
       "</table>\n",
       "</div>"
      ],
      "text/plain": [
       "   impression_control  click_control  purchase_control  earning_control  impression_test  click_test  purchase_test  earning_test\n",
       "0           82529.459       6090.077           665.211         2311.277       120103.504    3216.548        702.160      1939.611\n",
       "1           98050.452       3382.862           315.085         1742.807       134775.943    3635.082        834.054      2929.406\n",
       "2           82696.024       4167.966           458.084         1797.827       107806.621    3057.144        422.934      2526.245\n",
       "3          109914.400       4910.882           487.091         1696.229       116445.276    4650.474        429.034      2281.429\n",
       "4          108457.763       5987.656           441.034         1543.720       145082.517    5201.388        749.860      2781.698"
      ]
     },
     "execution_count": 20,
     "metadata": {},
     "output_type": "execute_result"
    }
   ],
   "source": [
    "# combining the dataframes with new column names\n",
    "df_control.columns = ['impression_control', 'click_control', 'purchase_control', 'earning_control']\n",
    "df_test.columns = ['impression_test', 'click_test', 'purchase_test', 'earning_test']\n",
    "df = pd.concat([df_control, df_test], axis=1)\n",
    "df.head()"
   ]
  },
  {
   "cell_type": "markdown",
   "id": "c2cb72f7",
   "metadata": {
    "papermill": {
     "duration": 0.018741,
     "end_time": "2022-11-08T00:05:04.920110",
     "exception": false,
     "start_time": "2022-11-08T00:05:04.901369",
     "status": "completed"
    },
    "tags": []
   },
   "source": [
    "## Task 2: Defining the Hypothesis of A/B Testing"
   ]
  },
  {
   "cell_type": "markdown",
   "id": "ed802418",
   "metadata": {
    "papermill": {
     "duration": 0.017336,
     "end_time": "2022-11-08T00:05:04.955600",
     "exception": false,
     "start_time": "2022-11-08T00:05:04.938264",
     "status": "completed"
    },
    "tags": []
   },
   "source": [
    "### Step 1: Define the hypothesis\n",
    "\n",
    "* H0: M1 = M2   # there is no statistically significant difference between the mean purchase values of control and test groups.\n",
    "* H1: M1!= M2   # there is a statistically significant difference between the mean purchase values of control and test groups."
   ]
  },
  {
   "cell_type": "markdown",
   "id": "fc896410",
   "metadata": {
    "papermill": {
     "duration": 0.017372,
     "end_time": "2022-11-08T00:05:04.990624",
     "exception": false,
     "start_time": "2022-11-08T00:05:04.973252",
     "status": "completed"
    },
    "tags": []
   },
   "source": [
    "### Step 2: Analyze the purchase (gain) averages for the control and test group."
   ]
  },
  {
   "cell_type": "code",
   "execution_count": 21,
   "id": "6e26f2c4",
   "metadata": {
    "execution": {
     "iopub.execute_input": "2022-11-08T00:05:05.029512Z",
     "iopub.status.busy": "2022-11-08T00:05:05.029075Z",
     "iopub.status.idle": "2022-11-08T00:05:05.037980Z",
     "shell.execute_reply": "2022-11-08T00:05:05.036197Z"
    },
    "papermill": {
     "duration": 0.03583,
     "end_time": "2022-11-08T00:05:05.044891",
     "exception": false,
     "start_time": "2022-11-08T00:05:05.009061",
     "status": "completed"
    },
    "tags": []
   },
   "outputs": [
    {
     "name": "stdout",
     "output_type": "stream",
     "text": [
      "purchase_control_average: 550.89\n",
      "purchase_test_average: 582.11\n"
     ]
    }
   ],
   "source": [
    "def purchase_average(dataframe, variable):\n",
    "    return round(dataframe[variable].mean(), 2)\n",
    "\n",
    "purchase_columns = [col for col in df.columns if 'purchase' in col]\n",
    "for col in purchase_columns:\n",
    "    print(f'{col}_average: {purchase_average(df, col)}')"
   ]
  },
  {
   "cell_type": "markdown",
   "id": "36430f9d",
   "metadata": {
    "papermill": {
     "duration": 0.01933,
     "end_time": "2022-11-08T00:05:05.085966",
     "exception": false,
     "start_time": "2022-11-08T00:05:05.066636",
     "status": "completed"
    },
    "tags": []
   },
   "source": [
    "## Task 3: Performing Hypothesis Testing"
   ]
  },
  {
   "cell_type": "markdown",
   "id": "81b296b3",
   "metadata": {
    "papermill": {
     "duration": 0.01812,
     "end_time": "2022-11-08T00:05:05.123259",
     "exception": false,
     "start_time": "2022-11-08T00:05:05.105139",
     "status": "completed"
    },
    "tags": []
   },
   "source": [
    "### Step 1: Perform hypothesis checks before hypothesis testing.\n",
    "\n",
    "* These are Assumption of Normality and Homogeneity of Variance.\n",
    "* Test separately whether the control and test groups comply with the assumption of normality over the Purchase variable."
   ]
  },
  {
   "cell_type": "markdown",
   "id": "53ca8140",
   "metadata": {
    "papermill": {
     "duration": 0.017313,
     "end_time": "2022-11-08T00:05:05.158366",
     "exception": false,
     "start_time": "2022-11-08T00:05:05.141053",
     "status": "completed"
    },
    "tags": []
   },
   "source": [
    "#### Normality Assumption:\n",
    "* H0: Normal distribution assumption is provided.\n",
    "* H1: Normal distribution assumption is not provided.\n",
    "* If p<0.05, H0 is rejected, if p>0.05, H0 cannot be rejected\n",
    "* Is the assumption of normality according to the test result provided for the control and test groups?\n",
    "* Interpret the p-values obtained."
   ]
  },
  {
   "cell_type": "code",
   "execution_count": 22,
   "id": "a7e6e2ac",
   "metadata": {
    "execution": {
     "iopub.execute_input": "2022-11-08T00:05:05.195458Z",
     "iopub.status.busy": "2022-11-08T00:05:05.195014Z",
     "iopub.status.idle": "2022-11-08T00:05:05.202015Z",
     "shell.execute_reply": "2022-11-08T00:05:05.201113Z"
    },
    "papermill": {
     "duration": 0.029418,
     "end_time": "2022-11-08T00:05:05.205413",
     "exception": false,
     "start_time": "2022-11-08T00:05:05.175995",
     "status": "completed"
    },
    "tags": []
   },
   "outputs": [
    {
     "name": "stdout",
     "output_type": "stream",
     "text": [
      "p-value_purchase_control: 0.5891\n",
      "test_stat_purchase_control: 0.9773\n",
      "p-value_purchase_test: 0.1541\n",
      "test_stat_purchase_test: 0.9589\n"
     ]
    }
   ],
   "source": [
    "def normal_assumption(dataframe, variable):\n",
    "    test_stat, pvalue = shapiro(dataframe[variable])\n",
    "    return test_stat, pvalue\n",
    "\n",
    "for col in purchase_columns:\n",
    "    print(f'p-value_{col}: {round(normal_assumption(df, col)[1], 4)}')\n",
    "    print(f'test_stat_{col}: {round(normal_assumption(df, col)[0], 4)}')"
   ]
  },
  {
   "cell_type": "markdown",
   "id": "0041bc6d",
   "metadata": {
    "papermill": {
     "duration": 0.017629,
     "end_time": "2022-11-08T00:05:05.242252",
     "exception": false,
     "start_time": "2022-11-08T00:05:05.224623",
     "status": "completed"
    },
    "tags": []
   },
   "source": [
    "* Since p-values of both purchase_control and purchase_test are higher than 0.05, Ho hypothesis can not rejected.\n",
    "* Therefore, the normal distribution is provided and there is no statistically significant difference between the values of both purchases"
   ]
  },
  {
   "cell_type": "markdown",
   "id": "5821bd41",
   "metadata": {
    "papermill": {
     "duration": 0.017727,
     "end_time": "2022-11-08T00:05:05.277947",
     "exception": false,
     "start_time": "2022-11-08T00:05:05.260220",
     "status": "completed"
    },
    "tags": []
   },
   "source": [
    "#### Variance Homogeneity:\n",
    "* H0: Variances are homogeneous.\n",
    "* H1: Variances are not homogeneous.\n",
    "* If p<0.05, H0 is rejected, if p>0.05, H0 cannot be rejected\n",
    "* Test whether the homogeneity of variance is provided for the control and test groups over the Purchase variable.\n",
    "* Is the assumption of normality provided according to the test result?\n",
    "* Interpret the p-values obtained."
   ]
  },
  {
   "cell_type": "code",
   "execution_count": 23,
   "id": "b1715fd7",
   "metadata": {
    "execution": {
     "iopub.execute_input": "2022-11-08T00:05:05.318623Z",
     "iopub.status.busy": "2022-11-08T00:05:05.318178Z",
     "iopub.status.idle": "2022-11-08T00:05:05.325787Z",
     "shell.execute_reply": "2022-11-08T00:05:05.324735Z"
    },
    "papermill": {
     "duration": 0.030365,
     "end_time": "2022-11-08T00:05:05.328149",
     "exception": false,
     "start_time": "2022-11-08T00:05:05.297784",
     "status": "completed"
    },
    "tags": []
   },
   "outputs": [
    {
     "name": "stdout",
     "output_type": "stream",
     "text": [
      "Test Stat: 2.6393 and p-value: 0.1083\n"
     ]
    }
   ],
   "source": [
    "def variance_homogenity(dataframe, variable1, variable2):\n",
    "    test_stat, pvalue = levene(dataframe[variable1],\n",
    "                            dataframe[variable2])\n",
    "    return test_stat, pvalue\n",
    "\n",
    "test_stat, pvalue = variance_homogenity(df, 'purchase_control', 'purchase_test')\n",
    "print(f'Test Stat: {round(test_stat, 4)} and p-value: {round(pvalue, 4)}')"
   ]
  },
  {
   "cell_type": "markdown",
   "id": "61c8e171",
   "metadata": {
    "papermill": {
     "duration": 0.017455,
     "end_time": "2022-11-08T00:05:05.364075",
     "exception": false,
     "start_time": "2022-11-08T00:05:05.346620",
     "status": "completed"
    },
    "tags": []
   },
   "source": [
    "* Since p-value=0.1083>0.05, Ho hypothesis can not rejected.\n",
    "* Therefore, the variance homogenity assumption is provided and there is no statistically significant difference between the mean values of both purchases"
   ]
  },
  {
   "cell_type": "markdown",
   "id": "791f362b",
   "metadata": {
    "papermill": {
     "duration": 0.019347,
     "end_time": "2022-11-08T00:05:05.402820",
     "exception": false,
     "start_time": "2022-11-08T00:05:05.383473",
     "status": "completed"
    },
    "tags": []
   },
   "source": [
    "### Step 2: Select the appropriate test according to the Normality Assumption and Variance Homogeneity results."
   ]
  },
  {
   "cell_type": "markdown",
   "id": "3ea896f1",
   "metadata": {
    "papermill": {
     "duration": 0.018747,
     "end_time": "2022-11-08T00:05:05.440378",
     "exception": false,
     "start_time": "2022-11-08T00:05:05.421631",
     "status": "completed"
    },
    "tags": []
   },
   "source": [
    "* Because, the normal and variance homogenity distributions are ensured, the parametric hypothesis is applied."
   ]
  },
  {
   "cell_type": "markdown",
   "id": "4a5a9e2d",
   "metadata": {
    "papermill": {
     "duration": 0.018158,
     "end_time": "2022-11-08T00:05:05.476683",
     "exception": false,
     "start_time": "2022-11-08T00:05:05.458525",
     "status": "completed"
    },
    "tags": []
   },
   "source": [
    "### Step 3: Considering the p_value obtained as a result of the test, interpret whether there is a statistically significant difference between the purchasing averages of the control and test groups."
   ]
  },
  {
   "cell_type": "code",
   "execution_count": 24,
   "id": "3c5d859a",
   "metadata": {
    "execution": {
     "iopub.execute_input": "2022-11-08T00:05:05.516196Z",
     "iopub.status.busy": "2022-11-08T00:05:05.515747Z",
     "iopub.status.idle": "2022-11-08T00:05:05.523761Z",
     "shell.execute_reply": "2022-11-08T00:05:05.522538Z"
    },
    "papermill": {
     "duration": 0.030487,
     "end_time": "2022-11-08T00:05:05.526234",
     "exception": false,
     "start_time": "2022-11-08T00:05:05.495747",
     "status": "completed"
    },
    "tags": []
   },
   "outputs": [
    {
     "name": "stdout",
     "output_type": "stream",
     "text": [
      "Test Stat: -0.9416 and p-value: 0.3493\n"
     ]
    }
   ],
   "source": [
    "def parametric_test(dataframe, variable1, variable2):\n",
    "    test_stat, pvalue = ttest_ind(\n",
    "        dataframe[variable1],\n",
    "        dataframe[variable2],\n",
    "        equal_var=True)\n",
    "    return test_stat, pvalue\n",
    "\n",
    "test_stat, pvalue = parametric_test(df, 'purchase_control', 'purchase_test')\n",
    "print(f'Test Stat: {round(test_stat, 4)} and p-value: {round(pvalue, 4)}')"
   ]
  },
  {
   "cell_type": "markdown",
   "id": "e5939067",
   "metadata": {
    "papermill": {
     "duration": 0.01773,
     "end_time": "2022-11-08T00:05:05.562332",
     "exception": false,
     "start_time": "2022-11-08T00:05:05.544602",
     "status": "completed"
    },
    "tags": []
   },
   "source": [
    "* Test Stat: -0.9416 and p-value: 0.3493\n",
    "* Since p-value=0.3493>0.05, H0 hypothesis can not rejected.\n",
    "* Therefore, there is no statistically significant difference between the mean values of purchase_control and purchase_test.\n",
    "* The difference between mean values is a chance. "
   ]
  },
  {
   "cell_type": "markdown",
   "id": "fea00490",
   "metadata": {
    "papermill": {
     "duration": 0.01891,
     "end_time": "2022-11-08T00:05:05.601025",
     "exception": false,
     "start_time": "2022-11-08T00:05:05.582115",
     "status": "completed"
    },
    "tags": []
   },
   "source": [
    "## Task 4: Analysis of Results"
   ]
  },
  {
   "cell_type": "markdown",
   "id": "5323b24c",
   "metadata": {
    "papermill": {
     "duration": 0.018108,
     "end_time": "2022-11-08T00:05:05.637342",
     "exception": false,
     "start_time": "2022-11-08T00:05:05.619234",
     "status": "completed"
    },
    "tags": []
   },
   "source": [
    "### Step 1: Which test did you use, state the reasons."
   ]
  },
  {
   "cell_type": "markdown",
   "id": "b32cb0da",
   "metadata": {
    "papermill": {
     "duration": 0.019464,
     "end_time": "2022-11-08T00:05:05.675242",
     "exception": false,
     "start_time": "2022-11-08T00:05:05.655778",
     "status": "completed"
    },
    "tags": []
   },
   "source": [
    "#### **In this project, H0 and H1 hypotheses called that show there is no significant difference between the mean values of the purchase variables or not were defined. Subsequently, the normal and variance homogeneity distribution were determined using the Shapiro-Wilks and Levene methods to specify whether the distribution is normal, respectively. It was understood that the distribution was normal and thus the parametric hypothesis test was applied to analyze whether there are any differences between the mean values of purchase_control and purchase_test.Accordingly, it was found that there are no differences between the average values of purchase_control and purchase_test (p>0.05).**"
   ]
  },
  {
   "cell_type": "markdown",
   "id": "f443339c",
   "metadata": {
    "papermill": {
     "duration": 0.019582,
     "end_time": "2022-11-08T00:05:05.713657",
     "exception": false,
     "start_time": "2022-11-08T00:05:05.694075",
     "status": "completed"
    },
    "tags": []
   },
   "source": [
    "### Step 2: Advise the customer according to the test results you have obtained."
   ]
  },
  {
   "cell_type": "markdown",
   "id": "e579dc31",
   "metadata": {
    "papermill": {
     "duration": 0.018212,
     "end_time": "2022-11-08T00:05:05.751741",
     "exception": false,
     "start_time": "2022-11-08T00:05:05.733529",
     "status": "completed"
    },
    "tags": []
   },
   "source": [
    "#### **It was revealed that the change in the purchase variable that was determined as a success criterion is not statistically considerable (p>0.05). Therefore, I suggest that the data we have are not enough to show any difference between their mean values and we need more time.  When we have more data, we can perform the AB testing again. But, in its current form, it was determined that the purchase_test has no advantage in the interest of the company in point of scientific meaning.**"
   ]
  }
 ],
 "metadata": {
  "kernelspec": {
   "display_name": "Python 3",
   "language": "python",
   "name": "python3"
  },
  "language_info": {
   "codemirror_mode": {
    "name": "ipython",
    "version": 3
   },
   "file_extension": ".py",
   "mimetype": "text/x-python",
   "name": "python",
   "nbconvert_exporter": "python",
   "pygments_lexer": "ipython3",
   "version": "3.7.12"
  },
  "papermill": {
   "default_parameters": {},
   "duration": 20.847838,
   "end_time": "2022-11-08T00:05:06.593675",
   "environment_variables": {},
   "exception": null,
   "input_path": "__notebook__.ipynb",
   "output_path": "__notebook__.ipynb",
   "parameters": {},
   "start_time": "2022-11-08T00:04:45.745837",
   "version": "2.3.4"
  }
 },
 "nbformat": 4,
 "nbformat_minor": 5
}
