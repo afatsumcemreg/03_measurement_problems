{
 "cells": [
  {
   "cell_type": "markdown",
   "id": "8e3935b1",
   "metadata": {
    "papermill": {
     "duration": 0.009055,
     "end_time": "2022-10-31T20:54:25.683673",
     "exception": false,
     "start_time": "2022-10-31T20:54:25.674618",
     "status": "completed"
    },
    "tags": []
   },
   "source": [
    "# **Rating product & sorting reviews in amazon**"
   ]
  },
  {
   "cell_type": "markdown",
   "id": "d8139205",
   "metadata": {
    "papermill": {
     "duration": 0.007916,
     "end_time": "2022-10-31T20:54:25.700066",
     "exception": false,
     "start_time": "2022-10-31T20:54:25.692150",
     "status": "completed"
    },
    "tags": []
   },
   "source": [
    "### Importing the libraries"
   ]
  },
  {
   "cell_type": "code",
   "execution_count": 1,
   "id": "62d972a1",
   "metadata": {
    "_cell_guid": "b1076dfc-b9ad-4769-8c92-a6c4dae69d19",
    "_uuid": "8f2839f25d086af736a60e9eeb907d3b93b6e0e5",
    "execution": {
     "iopub.execute_input": "2022-10-31T20:54:25.719803Z",
     "iopub.status.busy": "2022-10-31T20:54:25.719448Z",
     "iopub.status.idle": "2022-10-31T20:54:26.721070Z",
     "shell.execute_reply": "2022-10-31T20:54:26.719261Z"
    },
    "papermill": {
     "duration": 1.015408,
     "end_time": "2022-10-31T20:54:26.723811",
     "exception": false,
     "start_time": "2022-10-31T20:54:25.708403",
     "status": "completed"
    },
    "tags": []
   },
   "outputs": [],
   "source": [
    "import numpy as np\n",
    "import pandas as pd\n",
    "import math\n",
    "import scipy.stats as st\n",
    "import seaborn as sns\n",
    "from matplotlib import pyplot as plt\n",
    "\n",
    "pd.set_option('display.max_columns', None)\n",
    "pd.set_option('display.width', 500)\n",
    "pd.set_option('display.max_rows', None)\n",
    "pd.set_option('display.float_format', lambda x: '%.2f' % x)\n",
    "pd.set_option('display.expand_frame_repr', False)"
   ]
  },
  {
   "cell_type": "markdown",
   "id": "1703b125",
   "metadata": {
    "papermill": {
     "duration": 0.00857,
     "end_time": "2022-10-31T20:54:26.741413",
     "exception": false,
     "start_time": "2022-10-31T20:54:26.732843",
     "status": "completed"
    },
    "tags": []
   },
   "source": [
    "### reding the dataset"
   ]
  },
  {
   "cell_type": "code",
   "execution_count": 2,
   "id": "f9a88657",
   "metadata": {
    "execution": {
     "iopub.execute_input": "2022-10-31T20:54:26.760274Z",
     "iopub.status.busy": "2022-10-31T20:54:26.759831Z",
     "iopub.status.idle": "2022-10-31T20:54:26.852908Z",
     "shell.execute_reply": "2022-10-31T20:54:26.851440Z"
    },
    "papermill": {
     "duration": 0.104956,
     "end_time": "2022-10-31T20:54:26.855074",
     "exception": false,
     "start_time": "2022-10-31T20:54:26.750118",
     "status": "completed"
    },
    "tags": []
   },
   "outputs": [
    {
     "data": {
      "text/html": [
       "<div>\n",
       "<style scoped>\n",
       "    .dataframe tbody tr th:only-of-type {\n",
       "        vertical-align: middle;\n",
       "    }\n",
       "\n",
       "    .dataframe tbody tr th {\n",
       "        vertical-align: top;\n",
       "    }\n",
       "\n",
       "    .dataframe thead th {\n",
       "        text-align: right;\n",
       "    }\n",
       "</style>\n",
       "<table border=\"1\" class=\"dataframe\">\n",
       "  <thead>\n",
       "    <tr style=\"text-align: right;\">\n",
       "      <th></th>\n",
       "      <th>reviewerID</th>\n",
       "      <th>asin</th>\n",
       "      <th>reviewerName</th>\n",
       "      <th>helpful</th>\n",
       "      <th>reviewText</th>\n",
       "      <th>overall</th>\n",
       "      <th>summary</th>\n",
       "      <th>unixReviewTime</th>\n",
       "      <th>reviewTime</th>\n",
       "      <th>day_diff</th>\n",
       "      <th>helpful_yes</th>\n",
       "      <th>total_vote</th>\n",
       "    </tr>\n",
       "  </thead>\n",
       "  <tbody>\n",
       "    <tr>\n",
       "      <th>0</th>\n",
       "      <td>A3SBTW3WS4IQSN</td>\n",
       "      <td>B007WTAJTO</td>\n",
       "      <td>NaN</td>\n",
       "      <td>[0, 0]</td>\n",
       "      <td>No issues.</td>\n",
       "      <td>4.00</td>\n",
       "      <td>Four Stars</td>\n",
       "      <td>1406073600</td>\n",
       "      <td>2014-07-23</td>\n",
       "      <td>138</td>\n",
       "      <td>0</td>\n",
       "      <td>0</td>\n",
       "    </tr>\n",
       "    <tr>\n",
       "      <th>1</th>\n",
       "      <td>A18K1ODH1I2MVB</td>\n",
       "      <td>B007WTAJTO</td>\n",
       "      <td>0mie</td>\n",
       "      <td>[0, 0]</td>\n",
       "      <td>Purchased this for my device, it worked as adv...</td>\n",
       "      <td>5.00</td>\n",
       "      <td>MOAR SPACE!!!</td>\n",
       "      <td>1382659200</td>\n",
       "      <td>2013-10-25</td>\n",
       "      <td>409</td>\n",
       "      <td>0</td>\n",
       "      <td>0</td>\n",
       "    </tr>\n",
       "    <tr>\n",
       "      <th>2</th>\n",
       "      <td>A2FII3I2MBMUIA</td>\n",
       "      <td>B007WTAJTO</td>\n",
       "      <td>1K3</td>\n",
       "      <td>[0, 0]</td>\n",
       "      <td>it works as expected. I should have sprung for...</td>\n",
       "      <td>4.00</td>\n",
       "      <td>nothing to really say....</td>\n",
       "      <td>1356220800</td>\n",
       "      <td>2012-12-23</td>\n",
       "      <td>715</td>\n",
       "      <td>0</td>\n",
       "      <td>0</td>\n",
       "    </tr>\n",
       "    <tr>\n",
       "      <th>3</th>\n",
       "      <td>A3H99DFEG68SR</td>\n",
       "      <td>B007WTAJTO</td>\n",
       "      <td>1m2</td>\n",
       "      <td>[0, 0]</td>\n",
       "      <td>This think has worked out great.Had a diff. br...</td>\n",
       "      <td>5.00</td>\n",
       "      <td>Great buy at this price!!!  *** UPDATE</td>\n",
       "      <td>1384992000</td>\n",
       "      <td>2013-11-21</td>\n",
       "      <td>382</td>\n",
       "      <td>0</td>\n",
       "      <td>0</td>\n",
       "    </tr>\n",
       "    <tr>\n",
       "      <th>4</th>\n",
       "      <td>A375ZM4U047O79</td>\n",
       "      <td>B007WTAJTO</td>\n",
       "      <td>2&amp;amp;1/2Men</td>\n",
       "      <td>[0, 0]</td>\n",
       "      <td>Bought it with Retail Packaging, arrived legit...</td>\n",
       "      <td>5.00</td>\n",
       "      <td>best deal around</td>\n",
       "      <td>1373673600</td>\n",
       "      <td>2013-07-13</td>\n",
       "      <td>513</td>\n",
       "      <td>0</td>\n",
       "      <td>0</td>\n",
       "    </tr>\n",
       "  </tbody>\n",
       "</table>\n",
       "</div>"
      ],
      "text/plain": [
       "       reviewerID        asin  reviewerName helpful                                         reviewText  overall                                 summary  unixReviewTime  reviewTime  day_diff  helpful_yes  total_vote\n",
       "0  A3SBTW3WS4IQSN  B007WTAJTO           NaN  [0, 0]                                         No issues.     4.00                              Four Stars      1406073600  2014-07-23       138            0           0\n",
       "1  A18K1ODH1I2MVB  B007WTAJTO          0mie  [0, 0]  Purchased this for my device, it worked as adv...     5.00                           MOAR SPACE!!!      1382659200  2013-10-25       409            0           0\n",
       "2  A2FII3I2MBMUIA  B007WTAJTO           1K3  [0, 0]  it works as expected. I should have sprung for...     4.00               nothing to really say....      1356220800  2012-12-23       715            0           0\n",
       "3   A3H99DFEG68SR  B007WTAJTO           1m2  [0, 0]  This think has worked out great.Had a diff. br...     5.00  Great buy at this price!!!  *** UPDATE      1384992000  2013-11-21       382            0           0\n",
       "4  A375ZM4U047O79  B007WTAJTO  2&amp;1/2Men  [0, 0]  Bought it with Retail Packaging, arrived legit...     5.00                        best deal around      1373673600  2013-07-13       513            0           0"
      ]
     },
     "execution_count": 2,
     "metadata": {},
     "output_type": "execute_result"
    }
   ],
   "source": [
    "df = pd.read_csv('../input/amazon-review-rating-product-sorting-review/amazon_review.csv')\n",
    "df.head()"
   ]
  },
  {
   "cell_type": "markdown",
   "id": "16ecd827",
   "metadata": {
    "papermill": {
     "duration": 0.008311,
     "end_time": "2022-10-31T20:54:26.872235",
     "exception": false,
     "start_time": "2022-10-31T20:54:26.863924",
     "status": "completed"
    },
    "tags": []
   },
   "source": [
    "### business problem\n",
    "\n",
    "One of the most important problems in e-commerce is the correct calculation of the points given to the products after sales.The solution to this problem means providing greater customer satisfaction for the e-commerce site, prominence of the product for the sellers and a seamless shopping experience for the buyers.Another problem is the correct ordering of the comments given to the products.Since misleading comments will directly affect the sale of the product, it will cause both financial loss and loss of customers.In the solution of these 2 basic problems, e-commerce site and sellers will increase their sales, while customers will complete their purchasing journey without any problems."
   ]
  },
  {
   "cell_type": "markdown",
   "id": "be50023d",
   "metadata": {
    "papermill": {
     "duration": 0.008448,
     "end_time": "2022-10-31T20:54:26.889290",
     "exception": false,
     "start_time": "2022-10-31T20:54:26.880842",
     "status": "completed"
    },
    "tags": []
   },
   "source": []
  },
  {
   "cell_type": "markdown",
   "id": "b0d367a9",
   "metadata": {
    "papermill": {
     "duration": 0.009209,
     "end_time": "2022-10-31T20:54:26.906965",
     "exception": false,
     "start_time": "2022-10-31T20:54:26.897756",
     "status": "completed"
    },
    "tags": []
   },
   "source": [
    "### dataset story\n",
    "This dataset, which includes Amazon product data, includes product categories and various metadata.\n",
    "The product with the most reviews in the electronics category has user ratings and reviews.\n",
    "\n",
    "* reviewerID:     User ID\n",
    "* asin:           Product ID\n",
    "* reviewerName:   Username\n",
    "* helpful:        Helpful rating rating\n",
    "* reviewText:     Review\n",
    "* overall:        Product rating\n",
    "* summary:        Evaluation summary\n",
    "* unixReviewTime: Evaluation time\n",
    "* reviewTime:     Reviewtime Raw\n",
    "* day_diff:       Number of days since evaluation\n",
    "* helpful_yes:    The number of times the review was found helpful\n",
    "* total_vote:     Number of votes given to the review"
   ]
  },
  {
   "cell_type": "markdown",
   "id": "995e959c",
   "metadata": {
    "papermill": {
     "duration": 0.008741,
     "end_time": "2022-10-31T20:54:26.924839",
     "exception": false,
     "start_time": "2022-10-31T20:54:26.916098",
     "status": "completed"
    },
    "tags": []
   },
   "source": [
    "### examining the dataframe"
   ]
  },
  {
   "cell_type": "code",
   "execution_count": 3,
   "id": "9a15c2a1",
   "metadata": {
    "execution": {
     "iopub.execute_input": "2022-10-31T20:54:26.944480Z",
     "iopub.status.busy": "2022-10-31T20:54:26.943956Z",
     "iopub.status.idle": "2022-10-31T20:54:27.009688Z",
     "shell.execute_reply": "2022-10-31T20:54:27.008602Z"
    },
    "papermill": {
     "duration": 0.077838,
     "end_time": "2022-10-31T20:54:27.011647",
     "exception": false,
     "start_time": "2022-10-31T20:54:26.933809",
     "status": "completed"
    },
    "tags": []
   },
   "outputs": [
    {
     "name": "stdout",
     "output_type": "stream",
     "text": [
      "####################################\n",
      "       reviewerID        asin  reviewerName helpful                                         reviewText  overall                                 summary  unixReviewTime  reviewTime  day_diff  helpful_yes  total_vote\n",
      "0  A3SBTW3WS4IQSN  B007WTAJTO           NaN  [0, 0]                                         No issues.     4.00                              Four Stars      1406073600  2014-07-23       138            0           0\n",
      "1  A18K1ODH1I2MVB  B007WTAJTO          0mie  [0, 0]  Purchased this for my device, it worked as adv...     5.00                           MOAR SPACE!!!      1382659200  2013-10-25       409            0           0\n",
      "2  A2FII3I2MBMUIA  B007WTAJTO           1K3  [0, 0]  it works as expected. I should have sprung for...     4.00               nothing to really say....      1356220800  2012-12-23       715            0           0\n",
      "3   A3H99DFEG68SR  B007WTAJTO           1m2  [0, 0]  This think has worked out great.Had a diff. br...     5.00  Great buy at this price!!!  *** UPDATE      1384992000  2013-11-21       382            0           0\n",
      "4  A375ZM4U047O79  B007WTAJTO  2&amp;1/2Men  [0, 0]  Bought it with Retail Packaging, arrived legit...     5.00                        best deal around      1373673600  2013-07-13       513            0           0\n",
      "####################################\n",
      "          reviewerID        asin reviewerName helpful                                         reviewText  overall                        summary  unixReviewTime  reviewTime  day_diff  helpful_yes  total_vote\n",
      "4910  A2LBMKXRM5H2W9  B007WTAJTO       ZM \"J\"  [0, 0]  I bought this Sandisk 16GB Class 10 to use wit...     1.00       Do not waste your money.      1374537600  2013-07-23       503            0           0\n",
      "4911   ALGDLRUI1ZPCS  B007WTAJTO           Zo  [0, 0]  Used this for extending the capabilities of my...     5.00                    Great item!      1377129600  2013-08-22       473            0           0\n",
      "4912  A2MR1NI0ENW2AD  B007WTAJTO    Z S Liske  [0, 0]  Great card that is very fast and reliable. It ...     5.00  Fast and reliable memory card      1396224000  2014-03-31       252            0           0\n",
      "4913  A37E6P3DSO9QJD  B007WTAJTO     Z Taylor  [0, 0]  Good amount of space for the stuff I want to d...     5.00              Great little card      1379289600  2013-09-16       448            0           0\n",
      "4914   A8KGFTFQ86IBR  B007WTAJTO          Zza  [0, 0]  I've heard bad things about this 64gb Micro SD...     5.00                So far so good.      1388620800  2014-02-01       310            0           0\n",
      "####################################\n",
      "(4915, 12)\n",
      "####################################\n",
      "Index(['reviewerID', 'asin', 'reviewerName', 'helpful', 'reviewText', 'overall', 'summary', 'unixReviewTime', 'reviewTime', 'day_diff', 'helpful_yes', 'total_vote'], dtype='object')\n",
      "####################################\n",
      "<class 'pandas.core.frame.DataFrame'>\n",
      "RangeIndex: 4915 entries, 0 to 4914\n",
      "Data columns (total 12 columns):\n",
      " #   Column          Non-Null Count  Dtype  \n",
      "---  ------          --------------  -----  \n",
      " 0   reviewerID      4915 non-null   object \n",
      " 1   asin            4915 non-null   object \n",
      " 2   reviewerName    4914 non-null   object \n",
      " 3   helpful         4915 non-null   object \n",
      " 4   reviewText      4914 non-null   object \n",
      " 5   overall         4915 non-null   float64\n",
      " 6   summary         4915 non-null   object \n",
      " 7   unixReviewTime  4915 non-null   int64  \n",
      " 8   reviewTime      4915 non-null   object \n",
      " 9   day_diff        4915 non-null   int64  \n",
      " 10  helpful_yes     4915 non-null   int64  \n",
      " 11  total_vote      4915 non-null   int64  \n",
      "dtypes: float64(1), int64(4), object(7)\n",
      "memory usage: 460.9+ KB\n",
      "None\n",
      "####################################\n",
      "True\n",
      "####################################\n",
      "reviewerID        0\n",
      "asin              0\n",
      "reviewerName      1\n",
      "helpful           0\n",
      "reviewText        1\n",
      "overall           0\n",
      "summary           0\n",
      "unixReviewTime    0\n",
      "reviewTime        0\n",
      "day_diff          0\n",
      "helpful_yes       0\n",
      "total_vote        0\n",
      "dtype: int64\n",
      "####################################\n",
      "reviewerID        4915\n",
      "asin                 1\n",
      "reviewerName      4594\n",
      "helpful             42\n",
      "reviewText        4912\n",
      "overall              5\n",
      "summary           3885\n",
      "unixReviewTime     690\n",
      "reviewTime         690\n",
      "day_diff           690\n",
      "helpful_yes         23\n",
      "total_vote          26\n",
      "dtype: int64\n",
      "####################################\n",
      "                 count          mean         std           min            5%           10%           25%           50%           75%           90%           95%           99%           max\n",
      "overall        4915.00          4.59        1.00          1.00          2.00          4.00          5.00          5.00          5.00          5.00          5.00          5.00          5.00\n",
      "unixReviewTime 4915.00 1379465001.67 15818574.32 1339200000.00 1354492800.00 1356825600.00 1365897600.00 1381276800.00 1392163200.00 1400112000.00 1403308800.00 1404950400.00 1406073600.00\n",
      "day_diff       4915.00        437.37      209.44          1.00         98.00        167.00        281.00        431.00        601.00        708.00        748.00        943.00       1064.00\n",
      "helpful_yes    4915.00          1.31       41.62          0.00          0.00          0.00          0.00          0.00          0.00          0.00          1.00          3.00       1952.00\n",
      "total_vote     4915.00          1.52       44.12          0.00          0.00          0.00          0.00          0.00          0.00          1.00          1.00          4.00       2020.00\n"
     ]
    }
   ],
   "source": [
    "def check_dataframe(dataframe):\n",
    "    print('####################################')\n",
    "    print(dataframe.head())\n",
    "    print('####################################')\n",
    "    print(dataframe.tail())\n",
    "    print('####################################')\n",
    "    print(dataframe.shape)\n",
    "    print('####################################')\n",
    "    print(dataframe.columns)\n",
    "    print('####################################')\n",
    "    print(dataframe.info())\n",
    "    print('####################################')\n",
    "    print(dataframe.isnull().values.any())\n",
    "    print('####################################')\n",
    "    print(dataframe.isnull().sum())\n",
    "    print('####################################')\n",
    "    print(dataframe.nunique())\n",
    "    print('####################################')\n",
    "    print(dataframe.describe([0.05, 0.1, 0.25, 0.50, 0.75, 0.90, 0.95, 0.99]).T)\n",
    "\n",
    "check_dataframe(df)"
   ]
  },
  {
   "cell_type": "markdown",
   "id": "8a301e5e",
   "metadata": {
    "papermill": {
     "duration": 0.00918,
     "end_time": "2022-10-31T20:54:27.029913",
     "exception": false,
     "start_time": "2022-10-31T20:54:27.020733",
     "status": "completed"
    },
    "tags": []
   },
   "source": [
    "### catching the categorical, numerical and cardinal variables"
   ]
  },
  {
   "cell_type": "code",
   "execution_count": 4,
   "id": "220dbdc1",
   "metadata": {
    "execution": {
     "iopub.execute_input": "2022-10-31T20:54:27.050317Z",
     "iopub.status.busy": "2022-10-31T20:54:27.049774Z",
     "iopub.status.idle": "2022-10-31T20:54:27.070507Z",
     "shell.execute_reply": "2022-10-31T20:54:27.068790Z"
    },
    "papermill": {
     "duration": 0.033671,
     "end_time": "2022-10-31T20:54:27.072927",
     "exception": false,
     "start_time": "2022-10-31T20:54:27.039256",
     "status": "completed"
    },
    "tags": []
   },
   "outputs": [
    {
     "name": "stdout",
     "output_type": "stream",
     "text": [
      "Observations: 4915\n",
      "Variables: 12\n",
      "cat_cols: 2\n",
      "num_cols: 4\n",
      "cat_but_car: 6\n",
      "num_but_cat: 1\n"
     ]
    }
   ],
   "source": [
    "def grab_col_names(dataframe, cat_th=10, car_th=20):\n",
    "    # categorical variable\n",
    "    cat_cols = [col for col in dataframe.columns if dataframe[col].dtypes == 'O']\n",
    "    num_but_cat = [col for col in dataframe.columns if\n",
    "                   dataframe[col].nunique() < cat_th and dataframe[col].dtypes != 'O']\n",
    "    cat_but_car = [col for col in dataframe.columns if\n",
    "                   dataframe[col].nunique() > car_th and dataframe[col].dtypes == 'O']\n",
    "    cat_cols = cat_cols + num_but_cat\n",
    "    cat_cols = [col for col in cat_cols if col not in cat_but_car]\n",
    "\n",
    "    # numerical variables\n",
    "    num_cols = [col for col in dataframe.columns if dataframe[col].dtypes != 'O']\n",
    "    num_cols = [col for col in num_cols if col not in num_but_cat]\n",
    "\n",
    "    # reposrting section\n",
    "    print(f'Observations: {dataframe.shape[0]}')\n",
    "    print(f'Variables: {dataframe.shape[1]}')\n",
    "    print(f'cat_cols: {len(cat_cols)}')\n",
    "    print(f'num_cols: {len(num_cols)}')\n",
    "    print(f'cat_but_car: {len(cat_but_car)}')\n",
    "    print(f'num_but_cat: {len(num_but_cat)}')\n",
    "\n",
    "    # keeping the calculated values\n",
    "    return cat_cols, num_cols, cat_but_car\n",
    "\n",
    "cat_cols, num_cols, cat_but_car = grab_col_names(df)"
   ]
  },
  {
   "cell_type": "code",
   "execution_count": 5,
   "id": "9971dd73",
   "metadata": {
    "execution": {
     "iopub.execute_input": "2022-10-31T20:54:27.094581Z",
     "iopub.status.busy": "2022-10-31T20:54:27.093568Z",
     "iopub.status.idle": "2022-10-31T20:54:27.100546Z",
     "shell.execute_reply": "2022-10-31T20:54:27.099419Z"
    },
    "papermill": {
     "duration": 0.019398,
     "end_time": "2022-10-31T20:54:27.102427",
     "exception": false,
     "start_time": "2022-10-31T20:54:27.083029",
     "status": "completed"
    },
    "tags": []
   },
   "outputs": [
    {
     "data": {
      "text/plain": [
       "['asin', 'overall']"
      ]
     },
     "execution_count": 5,
     "metadata": {},
     "output_type": "execute_result"
    }
   ],
   "source": [
    "cat_cols"
   ]
  },
  {
   "cell_type": "code",
   "execution_count": 6,
   "id": "baf97d49",
   "metadata": {
    "execution": {
     "iopub.execute_input": "2022-10-31T20:54:27.122280Z",
     "iopub.status.busy": "2022-10-31T20:54:27.121986Z",
     "iopub.status.idle": "2022-10-31T20:54:27.128174Z",
     "shell.execute_reply": "2022-10-31T20:54:27.127172Z"
    },
    "papermill": {
     "duration": 0.018473,
     "end_time": "2022-10-31T20:54:27.130056",
     "exception": false,
     "start_time": "2022-10-31T20:54:27.111583",
     "status": "completed"
    },
    "tags": []
   },
   "outputs": [
    {
     "data": {
      "text/plain": [
       "['asin']"
      ]
     },
     "execution_count": 6,
     "metadata": {},
     "output_type": "execute_result"
    }
   ],
   "source": [
    "# since overall is our target, it was removed from the cat_cols\n",
    "cat_cols = [col for col in cat_cols if 'overall' not in col]\n",
    "cat_cols"
   ]
  },
  {
   "cell_type": "code",
   "execution_count": 7,
   "id": "a47911c8",
   "metadata": {
    "execution": {
     "iopub.execute_input": "2022-10-31T20:54:27.150158Z",
     "iopub.status.busy": "2022-10-31T20:54:27.149869Z",
     "iopub.status.idle": "2022-10-31T20:54:27.156964Z",
     "shell.execute_reply": "2022-10-31T20:54:27.155836Z"
    },
    "papermill": {
     "duration": 0.019781,
     "end_time": "2022-10-31T20:54:27.159296",
     "exception": false,
     "start_time": "2022-10-31T20:54:27.139515",
     "status": "completed"
    },
    "tags": []
   },
   "outputs": [
    {
     "data": {
      "text/plain": [
       "['unixReviewTime', 'day_diff', 'helpful_yes', 'total_vote']"
      ]
     },
     "execution_count": 7,
     "metadata": {},
     "output_type": "execute_result"
    }
   ],
   "source": [
    "num_cols"
   ]
  },
  {
   "cell_type": "code",
   "execution_count": 8,
   "id": "ee06cc1b",
   "metadata": {
    "execution": {
     "iopub.execute_input": "2022-10-31T20:54:27.180215Z",
     "iopub.status.busy": "2022-10-31T20:54:27.179329Z",
     "iopub.status.idle": "2022-10-31T20:54:27.185607Z",
     "shell.execute_reply": "2022-10-31T20:54:27.184358Z"
    },
    "papermill": {
     "duration": 0.01851,
     "end_time": "2022-10-31T20:54:27.187326",
     "exception": false,
     "start_time": "2022-10-31T20:54:27.168816",
     "status": "completed"
    },
    "tags": []
   },
   "outputs": [
    {
     "data": {
      "text/plain": [
       "['reviewerID',\n",
       " 'reviewerName',\n",
       " 'helpful',\n",
       " 'reviewText',\n",
       " 'summary',\n",
       " 'reviewTime']"
      ]
     },
     "execution_count": 8,
     "metadata": {},
     "output_type": "execute_result"
    }
   ],
   "source": [
    "cat_but_car"
   ]
  },
  {
   "cell_type": "markdown",
   "id": "b294e445",
   "metadata": {
    "papermill": {
     "duration": 0.008551,
     "end_time": "2022-10-31T20:54:27.205003",
     "exception": false,
     "start_time": "2022-10-31T20:54:27.196452",
     "status": "completed"
    },
    "tags": []
   },
   "source": [
    "#### summary of categorical variables"
   ]
  },
  {
   "cell_type": "code",
   "execution_count": 9,
   "id": "6ead6677",
   "metadata": {
    "execution": {
     "iopub.execute_input": "2022-10-31T20:54:27.224508Z",
     "iopub.status.busy": "2022-10-31T20:54:27.224161Z",
     "iopub.status.idle": "2022-10-31T20:54:27.367527Z",
     "shell.execute_reply": "2022-10-31T20:54:27.366445Z"
    },
    "papermill": {
     "duration": 0.155731,
     "end_time": "2022-10-31T20:54:27.369773",
     "exception": false,
     "start_time": "2022-10-31T20:54:27.214042",
     "status": "completed"
    },
    "tags": []
   },
   "outputs": [
    {
     "name": "stdout",
     "output_type": "stream",
     "text": [
      "\n",
      " ########## ASIN ##########\n",
      "            ASIN  RATIO (%)\n",
      "B007WTAJTO  4915     100.00\n"
     ]
    },
    {
     "data": {
      "image/png": "[encoded data removed]",
      "text/plain": [
       "<Figure size 432x288 with 1 Axes>"
      ]
     },
     "metadata": {
      "needs_background": "light"
     },
     "output_type": "display_data"
    }
   ],
   "source": [
    "def cat_summary(dataframe, col_name, plot=False):\n",
    "    print('\\n', '#' * 10, col_name.upper(), 10 * '#')\n",
    "    print(pd.DataFrame({\n",
    "        col_name.upper(): dataframe[col_name].value_counts(),\n",
    "        'RATIO (%)': round(100 * (dataframe[col_name].value_counts() / len(dataframe)), 2)\n",
    "    }))\n",
    "\n",
    "    if plot:\n",
    "        sns.countplot(x=dataframe[col_name])\n",
    "        plt.ylabel('COUNT')\n",
    "        plt.xlabel(col_name.upper())\n",
    "        plt.show(block=True)\n",
    "\n",
    "for col in cat_cols:\n",
    "    cat_summary(df, col, plot=True)"
   ]
  },
  {
   "cell_type": "markdown",
   "id": "0da7a783",
   "metadata": {
    "papermill": {
     "duration": 0.009571,
     "end_time": "2022-10-31T20:54:27.392645",
     "exception": false,
     "start_time": "2022-10-31T20:54:27.383074",
     "status": "completed"
    },
    "tags": []
   },
   "source": [
    "#### summary of numerical columns"
   ]
  },
  {
   "cell_type": "code",
   "execution_count": 10,
   "id": "0edb799e",
   "metadata": {
    "execution": {
     "iopub.execute_input": "2022-10-31T20:54:27.414100Z",
     "iopub.status.busy": "2022-10-31T20:54:27.413801Z",
     "iopub.status.idle": "2022-10-31T20:54:28.366870Z",
     "shell.execute_reply": "2022-10-31T20:54:28.365654Z"
    },
    "papermill": {
     "duration": 0.966664,
     "end_time": "2022-10-31T20:54:28.369221",
     "exception": false,
     "start_time": "2022-10-31T20:54:27.402557",
     "status": "completed"
    },
    "tags": []
   },
   "outputs": [
    {
     "name": "stdout",
     "output_type": "stream",
     "text": [
      "\n",
      " ########## UNIXREVIEWTIME ##########\n",
      "       UNIXREVIEWTIME\n",
      "count         4915.00\n",
      "mean    1379465001.67\n",
      "std       15818574.32\n",
      "min     1339200000.00\n",
      "25%     1365897600.00\n",
      "50%     1381276800.00\n",
      "75%     1392163200.00\n",
      "max     1406073600.00\n"
     ]
    },
    {
     "data": {
      "image/png": "[encoded data removed]",
      "text/plain": [
       "<Figure size 720x360 with 2 Axes>"
      ]
     },
     "metadata": {
      "needs_background": "light"
     },
     "output_type": "display_data"
    },
    {
     "name": "stdout",
     "output_type": "stream",
     "text": [
      "\n",
      " ########## DAY_DIFF ##########\n",
      "       DAY_DIFF\n",
      "count   4915.00\n",
      "mean     437.37\n",
      "std      209.44\n",
      "min        1.00\n",
      "25%      281.00\n",
      "50%      431.00\n",
      "75%      601.00\n",
      "max     1064.00\n"
     ]
    },
    {
     "data": {
      "image/png": "[encoded data removed]",
      "text/plain": [
       "<Figure size 720x360 with 2 Axes>"
      ]
     },
     "metadata": {
      "needs_background": "light"
     },
     "output_type": "display_data"
    },
    {
     "name": "stdout",
     "output_type": "stream",
     "text": [
      "\n",
      " ########## HELPFUL_YES ##########\n",
      "       HELPFUL_YES\n",
      "count      4915.00\n",
      "mean          1.31\n",
      "std          41.62\n",
      "min           0.00\n",
      "25%           0.00\n",
      "50%           0.00\n",
      "75%           0.00\n",
      "max        1952.00\n"
     ]
    },
    {
     "data": {
      "image/png": "[encoded data removed]",
      "text/plain": [
       "<Figure size 720x360 with 2 Axes>"
      ]
     },
     "metadata": {
      "needs_background": "light"
     },
     "output_type": "display_data"
    },
    {
     "name": "stdout",
     "output_type": "stream",
     "text": [
      "\n",
      " ########## TOTAL_VOTE ##########\n",
      "       TOTAL_VOTE\n",
      "count     4915.00\n",
      "mean         1.52\n",
      "std         44.12\n",
      "min          0.00\n",
      "25%          0.00\n",
      "50%          0.00\n",
      "75%          0.00\n",
      "max       2020.00\n"
     ]
    },
    {
     "data": {
      "image/png": "[encoded data removed]",
      "text/plain": [
       "<Figure size 720x360 with 2 Axes>"
      ]
     },
     "metadata": {
      "needs_background": "light"
     },
     "output_type": "display_data"
    }
   ],
   "source": [
    "def num_summary(dataframe, numerical_col, plot=False):\n",
    "    print('\\n', '#' * 10, numerical_col.upper(), '#' * 10)\n",
    "    print(pd.DataFrame({\n",
    "        numerical_col.upper(): round(dataframe[numerical_col].describe().T, 2)\n",
    "    }))\n",
    "\n",
    "    if plot:\n",
    "        plt.figure(figsize=(10, 5))\n",
    "        plt.subplot(1, 2, 1)\n",
    "        sns.boxplot(y=dataframe[numerical_col])\n",
    "        plt.ylabel(numerical_col.upper())\n",
    "        plt.subplot(1, 2, 2)\n",
    "        sns.histplot(x=dataframe[numerical_col])\n",
    "        plt.xlabel(numerical_col.upper())\n",
    "        plt.show(block=True)\n",
    "\n",
    "for col in num_cols:\n",
    "    num_summary(df, col, plot=True)"
   ]
  },
  {
   "cell_type": "markdown",
   "id": "3688acdd",
   "metadata": {
    "papermill": {
     "duration": 0.010265,
     "end_time": "2022-10-31T20:54:28.390115",
     "exception": false,
     "start_time": "2022-10-31T20:54:28.379850",
     "status": "completed"
    },
    "tags": []
   },
   "source": [
    "#### analyzing the categorical columns with dependent variable"
   ]
  },
  {
   "cell_type": "code",
   "execution_count": 11,
   "id": "de7e66f8",
   "metadata": {
    "execution": {
     "iopub.execute_input": "2022-10-31T20:54:28.412589Z",
     "iopub.status.busy": "2022-10-31T20:54:28.412276Z",
     "iopub.status.idle": "2022-10-31T20:54:28.567541Z",
     "shell.execute_reply": "2022-10-31T20:54:28.566498Z"
    },
    "papermill": {
     "duration": 0.169049,
     "end_time": "2022-10-31T20:54:28.569632",
     "exception": false,
     "start_time": "2022-10-31T20:54:28.400583",
     "status": "completed"
    },
    "tags": []
   },
   "outputs": [
    {
     "name": "stdout",
     "output_type": "stream",
     "text": [
      "\n",
      " ########## ASIN ##########\n",
      "            TARGET_MEAN\n",
      "asin                   \n",
      "B007WTAJTO         4.59\n",
      "\n"
     ]
    },
    {
     "data": {
      "image/png": "[encoded data removed]",
      "text/plain": [
       "<Figure size 432x288 with 1 Axes>"
      ]
     },
     "metadata": {
      "needs_background": "light"
     },
     "output_type": "display_data"
    }
   ],
   "source": [
    "def target_summary_with_cat(dataframe, target, categorical_col, plot=False):\n",
    "    print('\\n', '#' * 10, categorical_col.upper(), '#' * 10)\n",
    "    print(pd.DataFrame({\n",
    "        'TARGET_MEAN': round(dataframe.groupby(categorical_col)[target].mean(), 2)\n",
    "    }), end='\\n\\n')\n",
    "\n",
    "    if plot:\n",
    "        sns.barplot(x=dataframe[categorical_col], y=dataframe[target])\n",
    "        plt.xlabel(categorical_col.upper())\n",
    "        plt.ylabel(target.upper())\n",
    "        plt.show(block=True)\n",
    "\n",
    "for col in cat_cols:\n",
    "    target_summary_with_cat(df, 'overall', col, plot=True)"
   ]
  },
  {
   "cell_type": "markdown",
   "id": "472b5ed2",
   "metadata": {
    "papermill": {
     "duration": 0.014073,
     "end_time": "2022-10-31T20:54:28.598438",
     "exception": false,
     "start_time": "2022-10-31T20:54:28.584365",
     "status": "completed"
    },
    "tags": []
   },
   "source": [
    "#### analyzing the numerical columns with dependent variable"
   ]
  },
  {
   "cell_type": "code",
   "execution_count": 12,
   "id": "ef8c56e2",
   "metadata": {
    "execution": {
     "iopub.execute_input": "2022-10-31T20:54:28.629340Z",
     "iopub.status.busy": "2022-10-31T20:54:28.628191Z",
     "iopub.status.idle": "2022-10-31T20:54:29.735034Z",
     "shell.execute_reply": "2022-10-31T20:54:29.734274Z"
    },
    "papermill": {
     "duration": 1.124084,
     "end_time": "2022-10-31T20:54:29.736921",
     "exception": false,
     "start_time": "2022-10-31T20:54:28.612837",
     "status": "completed"
    },
    "tags": []
   },
   "outputs": [
    {
     "name": "stdout",
     "output_type": "stream",
     "text": [
      "         unixReviewTime\n",
      "overall                \n",
      "1.00      1372115567.21\n",
      "2.00      1377145800.00\n",
      "3.00      1378789453.52\n",
      "4.00      1379796851.61\n",
      "5.00      1379949407.85\n",
      "\n"
     ]
    },
    {
     "data": {
      "image/png": "[encoded data removed]",
      "text/plain": [
       "<Figure size 432x288 with 1 Axes>"
      ]
     },
     "metadata": {
      "needs_background": "light"
     },
     "output_type": "display_data"
    },
    {
     "name": "stdout",
     "output_type": "stream",
     "text": [
      "         day_diff\n",
      "overall          \n",
      "1.00       530.48\n",
      "2.00       464.70\n",
      "3.00       449.72\n",
      "4.00       426.09\n",
      "5.00       432.08\n",
      "\n"
     ]
    },
    {
     "data": {
      "image/png": "[encoded data removed]",
      "text/plain": [
       "<Figure size 432x288 with 1 Axes>"
      ]
     },
     "metadata": {
      "needs_background": "light"
     },
     "output_type": "display_data"
    },
    {
     "name": "stdout",
     "output_type": "stream",
     "text": [
      "         helpful_yes\n",
      "overall             \n",
      "1.00            8.97\n",
      "2.00            0.24\n",
      "3.00            0.35\n",
      "4.00            0.21\n",
      "5.00            1.04\n",
      "\n"
     ]
    },
    {
     "data": {
      "image/png": "[encoded data removed]",
      "text/plain": [
       "<Figure size 432x288 with 1 Axes>"
      ]
     },
     "metadata": {
      "needs_background": "light"
     },
     "output_type": "display_data"
    },
    {
     "name": "stdout",
     "output_type": "stream",
     "text": [
      "         total_vote\n",
      "overall            \n",
      "1.00          10.40\n",
      "2.00           0.54\n",
      "3.00           0.54\n",
      "4.00           0.61\n",
      "5.00           1.15\n",
      "\n"
     ]
    },
    {
     "data": {
      "image/png": "[encoded data removed]",
      "text/plain": [
       "<Figure size 432x288 with 1 Axes>"
      ]
     },
     "metadata": {
      "needs_background": "light"
     },
     "output_type": "display_data"
    }
   ],
   "source": [
    "def target_summary_with_num(dataframe, target, numerical_col, plot=False):\n",
    "    print(dataframe.groupby(target).agg({numerical_col: \"mean\"}), end=\"\\n\\n\")\n",
    "\n",
    "    if plot:\n",
    "        sns.barplot(x=dataframe[target], y=dataframe[numerical_col])\n",
    "        plt.ylabel(numerical_col.upper())\n",
    "        plt.xlabel(target.upper())\n",
    "        plt.show(block=True)\n",
    "\n",
    "for col in num_cols:\n",
    "    target_summary_with_num(df, 'overall', col, plot=True)"
   ]
  },
  {
   "cell_type": "markdown",
   "id": "aeef41b4",
   "metadata": {
    "papermill": {
     "duration": 0.014609,
     "end_time": "2022-10-31T20:54:29.767482",
     "exception": false,
     "start_time": "2022-10-31T20:54:29.752873",
     "status": "completed"
    },
    "tags": []
   },
   "source": [
    "### Task 1: Calculate the Average Rating according to the current comments and compare it with the existing average rating. In the shared data set, users gave points and comments to a product. Our aim in this task is to evaluate the scores given by weighting them by date. It is necessary to compare the first average score with the weighted score according to the date to be obtained."
   ]
  },
  {
   "cell_type": "markdown",
   "id": "a021c820",
   "metadata": {
    "papermill": {
     "duration": 0.011453,
     "end_time": "2022-10-31T20:54:29.790464",
     "exception": false,
     "start_time": "2022-10-31T20:54:29.779011",
     "status": "completed"
    },
    "tags": []
   },
   "source": [
    "#### Step 1: Calculate the average score of the product"
   ]
  },
  {
   "cell_type": "code",
   "execution_count": 13,
   "id": "4cc856c4",
   "metadata": {
    "execution": {
     "iopub.execute_input": "2022-10-31T20:54:29.816278Z",
     "iopub.status.busy": "2022-10-31T20:54:29.815041Z",
     "iopub.status.idle": "2022-10-31T20:54:29.821098Z",
     "shell.execute_reply": "2022-10-31T20:54:29.820438Z"
    },
    "papermill": {
     "duration": 0.02098,
     "end_time": "2022-10-31T20:54:29.823108",
     "exception": false,
     "start_time": "2022-10-31T20:54:29.802128",
     "status": "completed"
    },
    "tags": []
   },
   "outputs": [
    {
     "data": {
      "text/plain": [
       "4.587589013224822"
      ]
     },
     "execution_count": 13,
     "metadata": {},
     "output_type": "execute_result"
    }
   ],
   "source": [
    "df['overall'].mean()"
   ]
  },
  {
   "cell_type": "markdown",
   "id": "262b64aa",
   "metadata": {
    "papermill": {
     "duration": 0.011774,
     "end_time": "2022-10-31T20:54:29.846894",
     "exception": false,
     "start_time": "2022-10-31T20:54:29.835120",
     "status": "completed"
    },
    "tags": []
   },
   "source": [
    "#### Step 2: Calculate the weighted average score by date.\n",
    "You need to declare the reviewTime variable as a date variable. Assume the max value of reviewTime as current_date you need to create a new variable by expressing the difference of each score-interpretation date and current_date in days, and divide the variable expressed in days by 4 with the quantile function (if 3 quarters are given, it will be 4 parts) and weight according to the values from the quartiles.For example, if q1 = 12, when weighting, averaging comments made less than 12 days ago and giving them a higher weight."
   ]
  },
  {
   "cell_type": "code",
   "execution_count": 14,
   "id": "9fe6bc66",
   "metadata": {
    "execution": {
     "iopub.execute_input": "2022-10-31T20:54:29.872567Z",
     "iopub.status.busy": "2022-10-31T20:54:29.871820Z",
     "iopub.status.idle": "2022-10-31T20:54:29.902154Z",
     "shell.execute_reply": "2022-10-31T20:54:29.901059Z"
    },
    "papermill": {
     "duration": 0.045108,
     "end_time": "2022-10-31T20:54:29.903975",
     "exception": false,
     "start_time": "2022-10-31T20:54:29.858867",
     "status": "completed"
    },
    "tags": []
   },
   "outputs": [
    {
     "data": {
      "text/plain": [
       "(-0.001, 280.0]    1236\n",
       "(430.0, 600.0]     1228\n",
       "(600.0, 1063.0]    1228\n",
       "(280.0, 430.0]     1223\n",
       "Name: days_cat, dtype: int64"
      ]
     },
     "execution_count": 14,
     "metadata": {},
     "output_type": "execute_result"
    }
   ],
   "source": [
    "df['reviewTime'] = pd.to_datetime(df['reviewTime'])\n",
    "current_date = df['reviewTime'].max()\n",
    "df['days'] = (current_date - df['reviewTime']).dt.days\n",
    "df['days_cat'] = pd.qcut(df['days'], 4)\n",
    "df['days_cat'].value_counts()"
   ]
  },
  {
   "cell_type": "code",
   "execution_count": 15,
   "id": "834a1e49",
   "metadata": {
    "execution": {
     "iopub.execute_input": "2022-10-31T20:54:29.929751Z",
     "iopub.status.busy": "2022-10-31T20:54:29.929271Z",
     "iopub.status.idle": "2022-10-31T20:54:29.942090Z",
     "shell.execute_reply": "2022-10-31T20:54:29.941106Z"
    },
    "papermill": {
     "duration": 0.027884,
     "end_time": "2022-10-31T20:54:29.943897",
     "exception": false,
     "start_time": "2022-10-31T20:54:29.916013",
     "status": "completed"
    },
    "tags": []
   },
   "outputs": [
    {
     "data": {
      "text/plain": [
       "4.595593165128118"
      ]
     },
     "execution_count": 15,
     "metadata": {},
     "output_type": "execute_result"
    }
   ],
   "source": [
    "def time_based_weighted_score(dataframe, w1=0.28, w2=0.26, w3=0.24, w4=0.22):\n",
    "    return dataframe.loc[dataframe['days'] <= 280, 'overall'].mean() * w1 + dataframe.loc[\n",
    "        (dataframe['days'] > 280) & (dataframe['days'] <= 430), 'overall'].mean() * w2 + dataframe.loc[\n",
    "               (dataframe['days'] > 430) & (dataframe['days'] <= 600), 'overall'].mean() * w3 + dataframe.loc[\n",
    "               (dataframe['days'] > 600), 'overall'].mean() * w4\n",
    "\n",
    "\n",
    "time_based_weighted_score(df)"
   ]
  },
  {
   "cell_type": "code",
   "execution_count": 16,
   "id": "6b7278f9",
   "metadata": {
    "execution": {
     "iopub.execute_input": "2022-10-31T20:54:29.970747Z",
     "iopub.status.busy": "2022-10-31T20:54:29.970426Z",
     "iopub.status.idle": "2022-10-31T20:54:29.980018Z",
     "shell.execute_reply": "2022-10-31T20:54:29.978740Z"
    },
    "papermill": {
     "duration": 0.025736,
     "end_time": "2022-10-31T20:54:29.982492",
     "exception": false,
     "start_time": "2022-10-31T20:54:29.956756",
     "status": "completed"
    },
    "tags": []
   },
   "outputs": [
    {
     "data": {
      "text/plain": [
       "4.628116998159475"
      ]
     },
     "execution_count": 16,
     "metadata": {},
     "output_type": "execute_result"
    }
   ],
   "source": [
    "# when changing the weighted values\n",
    "time_based_weighted_score(df, w1=0.40, w2=0.30, w3=0.20, w4=0.10) "
   ]
  },
  {
   "cell_type": "markdown",
   "id": "6508205d",
   "metadata": {
    "papermill": {
     "duration": 0.011974,
     "end_time": "2022-10-31T20:54:30.006811",
     "exception": false,
     "start_time": "2022-10-31T20:54:29.994837",
     "status": "completed"
    },
    "tags": []
   },
   "source": [
    "### Step 3: Compare and interpret the average of each time period in weighted scoring."
   ]
  },
  {
   "cell_type": "code",
   "execution_count": 17,
   "id": "3cc9d8cf",
   "metadata": {
    "execution": {
     "iopub.execute_input": "2022-10-31T20:54:30.033602Z",
     "iopub.status.busy": "2022-10-31T20:54:30.033279Z",
     "iopub.status.idle": "2022-10-31T20:54:30.039301Z",
     "shell.execute_reply": "2022-10-31T20:54:30.038496Z"
    },
    "papermill": {
     "duration": 0.022964,
     "end_time": "2022-10-31T20:54:30.042129",
     "exception": false,
     "start_time": "2022-10-31T20:54:30.019165",
     "status": "completed"
    },
    "tags": []
   },
   "outputs": [
    {
     "data": {
      "text/plain": [
       "4.6957928802588995"
      ]
     },
     "execution_count": 17,
     "metadata": {},
     "output_type": "execute_result"
    }
   ],
   "source": [
    "df.loc[df['days'] <= 280, 'overall'].mean()                         "
   ]
  },
  {
   "cell_type": "code",
   "execution_count": 18,
   "id": "b1976c4a",
   "metadata": {
    "execution": {
     "iopub.execute_input": "2022-10-31T20:54:30.071246Z",
     "iopub.status.busy": "2022-10-31T20:54:30.070735Z",
     "iopub.status.idle": "2022-10-31T20:54:30.076974Z",
     "shell.execute_reply": "2022-10-31T20:54:30.076324Z"
    },
    "papermill": {
     "duration": 0.023939,
     "end_time": "2022-10-31T20:54:30.078564",
     "exception": false,
     "start_time": "2022-10-31T20:54:30.054625",
     "status": "completed"
    },
    "tags": []
   },
   "outputs": [
    {
     "data": {
      "text/plain": [
       "4.636140637775961"
      ]
     },
     "execution_count": 18,
     "metadata": {},
     "output_type": "execute_result"
    }
   ],
   "source": [
    "df.loc[(df['days'] > 280) & (df['days'] <= 430), 'overall'].mean()"
   ]
  },
  {
   "cell_type": "code",
   "execution_count": 19,
   "id": "81c8705b",
   "metadata": {
    "execution": {
     "iopub.execute_input": "2022-10-31T20:54:30.104635Z",
     "iopub.status.busy": "2022-10-31T20:54:30.104290Z",
     "iopub.status.idle": "2022-10-31T20:54:30.112518Z",
     "shell.execute_reply": "2022-10-31T20:54:30.111539Z"
    },
    "papermill": {
     "duration": 0.023872,
     "end_time": "2022-10-31T20:54:30.114605",
     "exception": false,
     "start_time": "2022-10-31T20:54:30.090733",
     "status": "completed"
    },
    "tags": []
   },
   "outputs": [
    {
     "data": {
      "text/plain": [
       "4.571661237785016"
      ]
     },
     "execution_count": 19,
     "metadata": {},
     "output_type": "execute_result"
    }
   ],
   "source": [
    "df.loc[(df['days'] > 430) & (df['days'] <= 600), 'overall'].mean()"
   ]
  },
  {
   "cell_type": "code",
   "execution_count": 20,
   "id": "9bd8d7b0",
   "metadata": {
    "execution": {
     "iopub.execute_input": "2022-10-31T20:54:30.141893Z",
     "iopub.status.busy": "2022-10-31T20:54:30.141217Z",
     "iopub.status.idle": "2022-10-31T20:54:30.149328Z",
     "shell.execute_reply": "2022-10-31T20:54:30.148188Z"
    },
    "papermill": {
     "duration": 0.023514,
     "end_time": "2022-10-31T20:54:30.150954",
     "exception": false,
     "start_time": "2022-10-31T20:54:30.127440",
     "status": "completed"
    },
    "tags": []
   },
   "outputs": [
    {
     "data": {
      "text/plain": [
       "4.4462540716612375"
      ]
     },
     "execution_count": 20,
     "metadata": {},
     "output_type": "execute_result"
    }
   ],
   "source": [
    "df.loc[(df['days'] > 600), 'overall'].mean()  "
   ]
  },
  {
   "cell_type": "markdown",
   "id": "deb5803f",
   "metadata": {
    "papermill": {
     "duration": 0.012367,
     "end_time": "2022-10-31T20:54:30.175950",
     "exception": false,
     "start_time": "2022-10-31T20:54:30.163583",
     "status": "completed"
    },
    "tags": []
   },
   "source": [
    "### Task 2: Determine 20 reviews for the product to be displayed on the product detail page."
   ]
  },
  {
   "cell_type": "markdown",
   "id": "15d902ce",
   "metadata": {
    "papermill": {
     "duration": 0.012202,
     "end_time": "2022-10-31T20:54:30.200836",
     "exception": false,
     "start_time": "2022-10-31T20:54:30.188634",
     "status": "completed"
    },
    "tags": []
   },
   "source": [
    "#### Step 1: Generate the helpful_no variable.\n",
    "* total_vote is the total number of up-downs given to a comment.\n",
    "* up means helpful.\n",
    "* There is no helpful_no variable in the data set, it must be generated over existing variables.\n",
    "* Find the number of votes that are not helpful (helpful_no) by subtracting the number of helpful\n",
    "* votes (helpful_yes) from the total number of votes (total_vote)."
   ]
  },
  {
   "cell_type": "code",
   "execution_count": 21,
   "id": "24b77ae4",
   "metadata": {
    "execution": {
     "iopub.execute_input": "2022-10-31T20:54:30.227869Z",
     "iopub.status.busy": "2022-10-31T20:54:30.226949Z",
     "iopub.status.idle": "2022-10-31T20:54:30.232141Z",
     "shell.execute_reply": "2022-10-31T20:54:30.231312Z"
    },
    "papermill": {
     "duration": 0.02108,
     "end_time": "2022-10-31T20:54:30.234350",
     "exception": false,
     "start_time": "2022-10-31T20:54:30.213270",
     "status": "completed"
    },
    "tags": []
   },
   "outputs": [],
   "source": [
    "df['helpful_no'] = df['total_vote'] - df['helpful_yes']"
   ]
  },
  {
   "cell_type": "markdown",
   "id": "192a0b09",
   "metadata": {
    "papermill": {
     "duration": 0.012509,
     "end_time": "2022-10-31T20:54:30.259736",
     "exception": false,
     "start_time": "2022-10-31T20:54:30.247227",
     "status": "completed"
    },
    "tags": []
   },
   "source": [
    "#### Step 2: Calculate score_pos_neg_diff, score_average_rating and wilson_lower_bound scores and add them to the data.\n",
    "* To calculate score_pos_neg_diff, score_average_rating and wilson_lower_bound scores,\n",
    "* define the score_pos_neg_diff, score_average_rating and wilson_lower_bound functions.\n",
    "* Create scores based on score_pos_neg_diff. Next; Save it as score_pos_neg_diff in df.\n",
    "* Create scores according to score_average_rating. Next; Save it as score_average_rating in df.\n",
    "* Create scores according to wilson_lower_bound. Next; Save it as wilson_lower_bound in df."
   ]
  },
  {
   "cell_type": "code",
   "execution_count": 22,
   "id": "aef6b129",
   "metadata": {
    "execution": {
     "iopub.execute_input": "2022-10-31T20:54:30.287305Z",
     "iopub.status.busy": "2022-10-31T20:54:30.286970Z",
     "iopub.status.idle": "2022-10-31T20:54:30.294530Z",
     "shell.execute_reply": "2022-10-31T20:54:30.293239Z"
    },
    "papermill": {
     "duration": 0.02367,
     "end_time": "2022-10-31T20:54:30.296668",
     "exception": false,
     "start_time": "2022-10-31T20:54:30.272998",
     "status": "completed"
    },
    "tags": []
   },
   "outputs": [],
   "source": [
    "# defingn the score_pos_neg_diff function\n",
    "def score_pos_neg_diff(up, down):\n",
    "    return up - down\n",
    "\n",
    "# defining the score_average_rating function\n",
    "def score_average_rating(up, down):\n",
    "    if up + down == 0:\n",
    "        return 0\n",
    "    return up / (up + down)\n",
    "\n",
    "# defining the wilson_lower_bound function\n",
    "def wilson_lower_bound(up, down, confidence=0.95):\n",
    "    n = up + down\n",
    "    if n == 0:\n",
    "        return 0\n",
    "    z = st.norm.ppf(1 - (1 - confidence) / 2)\n",
    "    phat = 1.0 * up / n\n",
    "    return (phat + z * z / (2 * n) - z * math.sqrt((phat * (1 - phat) + z * z / (4 * n)) / n)) / (1 + z * z / n)"
   ]
  },
  {
   "cell_type": "code",
   "execution_count": 23,
   "id": "f900952b",
   "metadata": {
    "execution": {
     "iopub.execute_input": "2022-10-31T20:54:30.323514Z",
     "iopub.status.busy": "2022-10-31T20:54:30.323171Z",
     "iopub.status.idle": "2022-10-31T20:54:30.415505Z",
     "shell.execute_reply": "2022-10-31T20:54:30.414207Z"
    },
    "papermill": {
     "duration": 0.10845,
     "end_time": "2022-10-31T20:54:30.417754",
     "exception": false,
     "start_time": "2022-10-31T20:54:30.309304",
     "status": "completed"
    },
    "tags": []
   },
   "outputs": [],
   "source": [
    "# creating the variable score_pos_nef_diff\n",
    "df['score_pos_nef_diff'] = df.apply(lambda x: score_pos_neg_diff(x['helpful_yes'], x['helpful_no']), axis=1)"
   ]
  },
  {
   "cell_type": "code",
   "execution_count": 24,
   "id": "812f03ff",
   "metadata": {
    "execution": {
     "iopub.execute_input": "2022-10-31T20:54:30.445480Z",
     "iopub.status.busy": "2022-10-31T20:54:30.444511Z",
     "iopub.status.idle": "2022-10-31T20:54:30.667191Z",
     "shell.execute_reply": "2022-10-31T20:54:30.665909Z"
    },
    "papermill": {
     "duration": 0.23914,
     "end_time": "2022-10-31T20:54:30.669617",
     "exception": false,
     "start_time": "2022-10-31T20:54:30.430477",
     "status": "completed"
    },
    "tags": []
   },
   "outputs": [],
   "source": [
    "# creating the variable score_average_rating\n",
    "df['score_average_rating'] = df.apply(lambda x: score_average_rating(x['helpful_yes'], x['helpful_no']), axis=1)"
   ]
  },
  {
   "cell_type": "code",
   "execution_count": 25,
   "id": "d1d8e628",
   "metadata": {
    "execution": {
     "iopub.execute_input": "2022-10-31T20:54:30.696700Z",
     "iopub.status.busy": "2022-10-31T20:54:30.695519Z",
     "iopub.status.idle": "2022-10-31T20:54:30.849552Z",
     "shell.execute_reply": "2022-10-31T20:54:30.848429Z"
    },
    "papermill": {
     "duration": 0.169617,
     "end_time": "2022-10-31T20:54:30.851747",
     "exception": false,
     "start_time": "2022-10-31T20:54:30.682130",
     "status": "completed"
    },
    "tags": []
   },
   "outputs": [],
   "source": [
    "# creating the variable wilson_lower_bound\n",
    "df['wilson_lower_bound'] = df.apply(lambda x: wilson_lower_bound(x['helpful_yes'], x['helpful_no']), axis=1)"
   ]
  },
  {
   "cell_type": "code",
   "execution_count": 26,
   "id": "fccacab9",
   "metadata": {
    "execution": {
     "iopub.execute_input": "2022-10-31T20:54:30.877835Z",
     "iopub.status.busy": "2022-10-31T20:54:30.877543Z",
     "iopub.status.idle": "2022-10-31T20:54:30.898061Z",
     "shell.execute_reply": "2022-10-31T20:54:30.895881Z"
    },
    "papermill": {
     "duration": 0.036352,
     "end_time": "2022-10-31T20:54:30.900599",
     "exception": false,
     "start_time": "2022-10-31T20:54:30.864247",
     "status": "completed"
    },
    "tags": []
   },
   "outputs": [
    {
     "data": {
      "text/html": [
       "<div>\n",
       "<style scoped>\n",
       "    .dataframe tbody tr th:only-of-type {\n",
       "        vertical-align: middle;\n",
       "    }\n",
       "\n",
       "    .dataframe tbody tr th {\n",
       "        vertical-align: top;\n",
       "    }\n",
       "\n",
       "    .dataframe thead th {\n",
       "        text-align: right;\n",
       "    }\n",
       "</style>\n",
       "<table border=\"1\" class=\"dataframe\">\n",
       "  <thead>\n",
       "    <tr style=\"text-align: right;\">\n",
       "      <th></th>\n",
       "      <th>reviewerID</th>\n",
       "      <th>asin</th>\n",
       "      <th>reviewerName</th>\n",
       "      <th>helpful</th>\n",
       "      <th>reviewText</th>\n",
       "      <th>overall</th>\n",
       "      <th>summary</th>\n",
       "      <th>unixReviewTime</th>\n",
       "      <th>reviewTime</th>\n",
       "      <th>day_diff</th>\n",
       "      <th>helpful_yes</th>\n",
       "      <th>total_vote</th>\n",
       "      <th>days</th>\n",
       "      <th>days_cat</th>\n",
       "      <th>helpful_no</th>\n",
       "      <th>score_pos_nef_diff</th>\n",
       "      <th>score_average_rating</th>\n",
       "      <th>wilson_lower_bound</th>\n",
       "    </tr>\n",
       "  </thead>\n",
       "  <tbody>\n",
       "    <tr>\n",
       "      <th>0</th>\n",
       "      <td>A3SBTW3WS4IQSN</td>\n",
       "      <td>B007WTAJTO</td>\n",
       "      <td>NaN</td>\n",
       "      <td>[0, 0]</td>\n",
       "      <td>No issues.</td>\n",
       "      <td>4.00</td>\n",
       "      <td>Four Stars</td>\n",
       "      <td>1406073600</td>\n",
       "      <td>2014-07-23</td>\n",
       "      <td>138</td>\n",
       "      <td>0</td>\n",
       "      <td>0</td>\n",
       "      <td>137</td>\n",
       "      <td>(-0.001, 280.0]</td>\n",
       "      <td>0</td>\n",
       "      <td>0</td>\n",
       "      <td>0.00</td>\n",
       "      <td>0.00</td>\n",
       "    </tr>\n",
       "    <tr>\n",
       "      <th>1</th>\n",
       "      <td>A18K1ODH1I2MVB</td>\n",
       "      <td>B007WTAJTO</td>\n",
       "      <td>0mie</td>\n",
       "      <td>[0, 0]</td>\n",
       "      <td>Purchased this for my device, it worked as adv...</td>\n",
       "      <td>5.00</td>\n",
       "      <td>MOAR SPACE!!!</td>\n",
       "      <td>1382659200</td>\n",
       "      <td>2013-10-25</td>\n",
       "      <td>409</td>\n",
       "      <td>0</td>\n",
       "      <td>0</td>\n",
       "      <td>408</td>\n",
       "      <td>(280.0, 430.0]</td>\n",
       "      <td>0</td>\n",
       "      <td>0</td>\n",
       "      <td>0.00</td>\n",
       "      <td>0.00</td>\n",
       "    </tr>\n",
       "    <tr>\n",
       "      <th>2</th>\n",
       "      <td>A2FII3I2MBMUIA</td>\n",
       "      <td>B007WTAJTO</td>\n",
       "      <td>1K3</td>\n",
       "      <td>[0, 0]</td>\n",
       "      <td>it works as expected. I should have sprung for...</td>\n",
       "      <td>4.00</td>\n",
       "      <td>nothing to really say....</td>\n",
       "      <td>1356220800</td>\n",
       "      <td>2012-12-23</td>\n",
       "      <td>715</td>\n",
       "      <td>0</td>\n",
       "      <td>0</td>\n",
       "      <td>714</td>\n",
       "      <td>(600.0, 1063.0]</td>\n",
       "      <td>0</td>\n",
       "      <td>0</td>\n",
       "      <td>0.00</td>\n",
       "      <td>0.00</td>\n",
       "    </tr>\n",
       "    <tr>\n",
       "      <th>3</th>\n",
       "      <td>A3H99DFEG68SR</td>\n",
       "      <td>B007WTAJTO</td>\n",
       "      <td>1m2</td>\n",
       "      <td>[0, 0]</td>\n",
       "      <td>This think has worked out great.Had a diff. br...</td>\n",
       "      <td>5.00</td>\n",
       "      <td>Great buy at this price!!!  *** UPDATE</td>\n",
       "      <td>1384992000</td>\n",
       "      <td>2013-11-21</td>\n",
       "      <td>382</td>\n",
       "      <td>0</td>\n",
       "      <td>0</td>\n",
       "      <td>381</td>\n",
       "      <td>(280.0, 430.0]</td>\n",
       "      <td>0</td>\n",
       "      <td>0</td>\n",
       "      <td>0.00</td>\n",
       "      <td>0.00</td>\n",
       "    </tr>\n",
       "    <tr>\n",
       "      <th>4</th>\n",
       "      <td>A375ZM4U047O79</td>\n",
       "      <td>B007WTAJTO</td>\n",
       "      <td>2&amp;amp;1/2Men</td>\n",
       "      <td>[0, 0]</td>\n",
       "      <td>Bought it with Retail Packaging, arrived legit...</td>\n",
       "      <td>5.00</td>\n",
       "      <td>best deal around</td>\n",
       "      <td>1373673600</td>\n",
       "      <td>2013-07-13</td>\n",
       "      <td>513</td>\n",
       "      <td>0</td>\n",
       "      <td>0</td>\n",
       "      <td>512</td>\n",
       "      <td>(430.0, 600.0]</td>\n",
       "      <td>0</td>\n",
       "      <td>0</td>\n",
       "      <td>0.00</td>\n",
       "      <td>0.00</td>\n",
       "    </tr>\n",
       "  </tbody>\n",
       "</table>\n",
       "</div>"
      ],
      "text/plain": [
       "       reviewerID        asin  reviewerName helpful                                         reviewText  overall                                 summary  unixReviewTime reviewTime  day_diff  helpful_yes  total_vote  days         days_cat  helpful_no  score_pos_nef_diff  score_average_rating  wilson_lower_bound\n",
       "0  A3SBTW3WS4IQSN  B007WTAJTO           NaN  [0, 0]                                         No issues.     4.00                              Four Stars      1406073600 2014-07-23       138            0           0   137  (-0.001, 280.0]           0                   0                  0.00                0.00\n",
       "1  A18K1ODH1I2MVB  B007WTAJTO          0mie  [0, 0]  Purchased this for my device, it worked as adv...     5.00                           MOAR SPACE!!!      1382659200 2013-10-25       409            0           0   408   (280.0, 430.0]           0                   0                  0.00                0.00\n",
       "2  A2FII3I2MBMUIA  B007WTAJTO           1K3  [0, 0]  it works as expected. I should have sprung for...     4.00               nothing to really say....      1356220800 2012-12-23       715            0           0   714  (600.0, 1063.0]           0                   0                  0.00                0.00\n",
       "3   A3H99DFEG68SR  B007WTAJTO           1m2  [0, 0]  This think has worked out great.Had a diff. br...     5.00  Great buy at this price!!!  *** UPDATE      1384992000 2013-11-21       382            0           0   381   (280.0, 430.0]           0                   0                  0.00                0.00\n",
       "4  A375ZM4U047O79  B007WTAJTO  2&amp;1/2Men  [0, 0]  Bought it with Retail Packaging, arrived legit...     5.00                        best deal around      1373673600 2013-07-13       513            0           0   512   (430.0, 600.0]           0                   0                  0.00                0.00"
      ]
     },
     "execution_count": 26,
     "metadata": {},
     "output_type": "execute_result"
    }
   ],
   "source": [
    "df.head()"
   ]
  },
  {
   "cell_type": "markdown",
   "id": "d37ec004",
   "metadata": {
    "papermill": {
     "duration": 0.015452,
     "end_time": "2022-10-31T20:54:30.929457",
     "exception": false,
     "start_time": "2022-10-31T20:54:30.914005",
     "status": "completed"
    },
    "tags": []
   },
   "source": [
    "#### Step 3: Identify the 20 Interpretations and Interpret the results.\n",
    "* Identify and rank the top 20 comments according to wilson_lower_bound.\n",
    "* Comment the results."
   ]
  },
  {
   "cell_type": "code",
   "execution_count": 27,
   "id": "da312473",
   "metadata": {
    "execution": {
     "iopub.execute_input": "2022-10-31T20:54:30.961491Z",
     "iopub.status.busy": "2022-10-31T20:54:30.961066Z",
     "iopub.status.idle": "2022-10-31T20:54:30.987873Z",
     "shell.execute_reply": "2022-10-31T20:54:30.986443Z"
    },
    "papermill": {
     "duration": 0.044887,
     "end_time": "2022-10-31T20:54:30.989707",
     "exception": false,
     "start_time": "2022-10-31T20:54:30.944820",
     "status": "completed"
    },
    "tags": []
   },
   "outputs": [
    {
     "data": {
      "text/html": [
       "<div>\n",
       "<style scoped>\n",
       "    .dataframe tbody tr th:only-of-type {\n",
       "        vertical-align: middle;\n",
       "    }\n",
       "\n",
       "    .dataframe tbody tr th {\n",
       "        vertical-align: top;\n",
       "    }\n",
       "\n",
       "    .dataframe thead th {\n",
       "        text-align: right;\n",
       "    }\n",
       "</style>\n",
       "<table border=\"1\" class=\"dataframe\">\n",
       "  <thead>\n",
       "    <tr style=\"text-align: right;\">\n",
       "      <th></th>\n",
       "      <th>reviewerID</th>\n",
       "      <th>asin</th>\n",
       "      <th>reviewerName</th>\n",
       "      <th>helpful</th>\n",
       "      <th>reviewText</th>\n",
       "      <th>overall</th>\n",
       "      <th>summary</th>\n",
       "      <th>unixReviewTime</th>\n",
       "      <th>reviewTime</th>\n",
       "      <th>day_diff</th>\n",
       "      <th>helpful_yes</th>\n",
       "      <th>total_vote</th>\n",
       "      <th>days</th>\n",
       "      <th>days_cat</th>\n",
       "      <th>helpful_no</th>\n",
       "      <th>score_pos_nef_diff</th>\n",
       "      <th>score_average_rating</th>\n",
       "      <th>wilson_lower_bound</th>\n",
       "    </tr>\n",
       "  </thead>\n",
       "  <tbody>\n",
       "    <tr>\n",
       "      <th>2031</th>\n",
       "      <td>A12B7ZMXFI6IXY</td>\n",
       "      <td>B007WTAJTO</td>\n",
       "      <td>Hyoun Kim \"Faluzure\"</td>\n",
       "      <td>[1952, 2020]</td>\n",
       "      <td>[[ UPDATE - 6/19/2014 ]]So my lovely wife boug...</td>\n",
       "      <td>5.00</td>\n",
       "      <td>UPDATED - Great w/ Galaxy S4 &amp; Galaxy Tab 4 10...</td>\n",
       "      <td>1367366400</td>\n",
       "      <td>2013-01-05</td>\n",
       "      <td>702</td>\n",
       "      <td>1952</td>\n",
       "      <td>2020</td>\n",
       "      <td>701</td>\n",
       "      <td>(600.0, 1063.0]</td>\n",
       "      <td>68</td>\n",
       "      <td>1884</td>\n",
       "      <td>0.97</td>\n",
       "      <td>0.96</td>\n",
       "    </tr>\n",
       "    <tr>\n",
       "      <th>3449</th>\n",
       "      <td>AOEAD7DPLZE53</td>\n",
       "      <td>B007WTAJTO</td>\n",
       "      <td>NLee the Engineer</td>\n",
       "      <td>[1428, 1505]</td>\n",
       "      <td>I have tested dozens of SDHC and micro-SDHC ca...</td>\n",
       "      <td>5.00</td>\n",
       "      <td>Top of the class among all (budget-priced) mic...</td>\n",
       "      <td>1348617600</td>\n",
       "      <td>2012-09-26</td>\n",
       "      <td>803</td>\n",
       "      <td>1428</td>\n",
       "      <td>1505</td>\n",
       "      <td>802</td>\n",
       "      <td>(600.0, 1063.0]</td>\n",
       "      <td>77</td>\n",
       "      <td>1351</td>\n",
       "      <td>0.95</td>\n",
       "      <td>0.94</td>\n",
       "    </tr>\n",
       "    <tr>\n",
       "      <th>4212</th>\n",
       "      <td>AVBMZZAFEKO58</td>\n",
       "      <td>B007WTAJTO</td>\n",
       "      <td>SkincareCEO</td>\n",
       "      <td>[1568, 1694]</td>\n",
       "      <td>NOTE:  please read the last update (scroll to ...</td>\n",
       "      <td>1.00</td>\n",
       "      <td>1 Star reviews - Micro SDXC card unmounts itse...</td>\n",
       "      <td>1375660800</td>\n",
       "      <td>2013-05-08</td>\n",
       "      <td>579</td>\n",
       "      <td>1568</td>\n",
       "      <td>1694</td>\n",
       "      <td>578</td>\n",
       "      <td>(430.0, 600.0]</td>\n",
       "      <td>126</td>\n",
       "      <td>1442</td>\n",
       "      <td>0.93</td>\n",
       "      <td>0.91</td>\n",
       "    </tr>\n",
       "    <tr>\n",
       "      <th>317</th>\n",
       "      <td>A1ZQAQFYSXL5MQ</td>\n",
       "      <td>B007WTAJTO</td>\n",
       "      <td>Amazon Customer \"Kelly\"</td>\n",
       "      <td>[422, 495]</td>\n",
       "      <td>If your card gets hot enough to be painful, it...</td>\n",
       "      <td>1.00</td>\n",
       "      <td>Warning, read this!</td>\n",
       "      <td>1346544000</td>\n",
       "      <td>2012-02-09</td>\n",
       "      <td>1033</td>\n",
       "      <td>422</td>\n",
       "      <td>495</td>\n",
       "      <td>1032</td>\n",
       "      <td>(600.0, 1063.0]</td>\n",
       "      <td>73</td>\n",
       "      <td>349</td>\n",
       "      <td>0.85</td>\n",
       "      <td>0.82</td>\n",
       "    </tr>\n",
       "    <tr>\n",
       "      <th>4672</th>\n",
       "      <td>A2DKQQIZ793AV5</td>\n",
       "      <td>B007WTAJTO</td>\n",
       "      <td>Twister</td>\n",
       "      <td>[45, 49]</td>\n",
       "      <td>Sandisk announcement of the first 128GB micro ...</td>\n",
       "      <td>5.00</td>\n",
       "      <td>Super high capacity!!!  Excellent price (on Am...</td>\n",
       "      <td>1394150400</td>\n",
       "      <td>2014-07-03</td>\n",
       "      <td>158</td>\n",
       "      <td>45</td>\n",
       "      <td>49</td>\n",
       "      <td>157</td>\n",
       "      <td>(-0.001, 280.0]</td>\n",
       "      <td>4</td>\n",
       "      <td>41</td>\n",
       "      <td>0.92</td>\n",
       "      <td>0.81</td>\n",
       "    </tr>\n",
       "    <tr>\n",
       "      <th>1835</th>\n",
       "      <td>A1J6VSUM80UAF8</td>\n",
       "      <td>B007WTAJTO</td>\n",
       "      <td>goconfigure</td>\n",
       "      <td>[60, 68]</td>\n",
       "      <td>Bought from BestBuy online the day it was anno...</td>\n",
       "      <td>5.00</td>\n",
       "      <td>I own it</td>\n",
       "      <td>1393545600</td>\n",
       "      <td>2014-02-28</td>\n",
       "      <td>283</td>\n",
       "      <td>60</td>\n",
       "      <td>68</td>\n",
       "      <td>282</td>\n",
       "      <td>(280.0, 430.0]</td>\n",
       "      <td>8</td>\n",
       "      <td>52</td>\n",
       "      <td>0.88</td>\n",
       "      <td>0.78</td>\n",
       "    </tr>\n",
       "    <tr>\n",
       "      <th>3981</th>\n",
       "      <td>A1K91XXQ6ZEBQR</td>\n",
       "      <td>B007WTAJTO</td>\n",
       "      <td>R. Sutton, Jr. \"RWSynergy\"</td>\n",
       "      <td>[112, 139]</td>\n",
       "      <td>The last few days I have been diligently shopp...</td>\n",
       "      <td>5.00</td>\n",
       "      <td>Resolving confusion between \"Mobile Ultra\" and...</td>\n",
       "      <td>1350864000</td>\n",
       "      <td>2012-10-22</td>\n",
       "      <td>777</td>\n",
       "      <td>112</td>\n",
       "      <td>139</td>\n",
       "      <td>776</td>\n",
       "      <td>(600.0, 1063.0]</td>\n",
       "      <td>27</td>\n",
       "      <td>85</td>\n",
       "      <td>0.81</td>\n",
       "      <td>0.73</td>\n",
       "    </tr>\n",
       "    <tr>\n",
       "      <th>3807</th>\n",
       "      <td>AFGRMORWY2QNX</td>\n",
       "      <td>B007WTAJTO</td>\n",
       "      <td>R. Heisler</td>\n",
       "      <td>[22, 25]</td>\n",
       "      <td>I bought this card to replace a lost 16 gig in...</td>\n",
       "      <td>3.00</td>\n",
       "      <td>Good buy for the money but wait, I had an issue!</td>\n",
       "      <td>1361923200</td>\n",
       "      <td>2013-02-27</td>\n",
       "      <td>649</td>\n",
       "      <td>22</td>\n",
       "      <td>25</td>\n",
       "      <td>648</td>\n",
       "      <td>(600.0, 1063.0]</td>\n",
       "      <td>3</td>\n",
       "      <td>19</td>\n",
       "      <td>0.88</td>\n",
       "      <td>0.70</td>\n",
       "    </tr>\n",
       "    <tr>\n",
       "      <th>4306</th>\n",
       "      <td>AOHXKM5URSKAB</td>\n",
       "      <td>B007WTAJTO</td>\n",
       "      <td>Stellar Eller</td>\n",
       "      <td>[51, 65]</td>\n",
       "      <td>While I got this card as a \"deal of the day\" o...</td>\n",
       "      <td>5.00</td>\n",
       "      <td>Awesome Card!</td>\n",
       "      <td>1339200000</td>\n",
       "      <td>2012-09-06</td>\n",
       "      <td>823</td>\n",
       "      <td>51</td>\n",
       "      <td>65</td>\n",
       "      <td>822</td>\n",
       "      <td>(600.0, 1063.0]</td>\n",
       "      <td>14</td>\n",
       "      <td>37</td>\n",
       "      <td>0.78</td>\n",
       "      <td>0.67</td>\n",
       "    </tr>\n",
       "    <tr>\n",
       "      <th>4596</th>\n",
       "      <td>A1WTQUOQ4WG9AI</td>\n",
       "      <td>B007WTAJTO</td>\n",
       "      <td>Tom Henriksen \"Doggy Diner\"</td>\n",
       "      <td>[82, 109]</td>\n",
       "      <td>Hi:I ordered two card and they arrived the nex...</td>\n",
       "      <td>1.00</td>\n",
       "      <td>Designed incompatibility/Don't support SanDisk</td>\n",
       "      <td>1348272000</td>\n",
       "      <td>2012-09-22</td>\n",
       "      <td>807</td>\n",
       "      <td>82</td>\n",
       "      <td>109</td>\n",
       "      <td>806</td>\n",
       "      <td>(600.0, 1063.0]</td>\n",
       "      <td>27</td>\n",
       "      <td>55</td>\n",
       "      <td>0.75</td>\n",
       "      <td>0.66</td>\n",
       "    </tr>\n",
       "    <tr>\n",
       "      <th>315</th>\n",
       "      <td>A2J26NNQX6WKAU</td>\n",
       "      <td>B007WTAJTO</td>\n",
       "      <td>Amazon Customer \"johncrea\"</td>\n",
       "      <td>[38, 48]</td>\n",
       "      <td>Bought this card to use with my Samsung Galaxy...</td>\n",
       "      <td>5.00</td>\n",
       "      <td>Samsung Galaxy Tab2 works with this card if re...</td>\n",
       "      <td>1344816000</td>\n",
       "      <td>2012-08-13</td>\n",
       "      <td>847</td>\n",
       "      <td>38</td>\n",
       "      <td>48</td>\n",
       "      <td>846</td>\n",
       "      <td>(600.0, 1063.0]</td>\n",
       "      <td>10</td>\n",
       "      <td>28</td>\n",
       "      <td>0.79</td>\n",
       "      <td>0.66</td>\n",
       "    </tr>\n",
       "    <tr>\n",
       "      <th>1465</th>\n",
       "      <td>A6I8KXYK24RTB</td>\n",
       "      <td>B007WTAJTO</td>\n",
       "      <td>D. Stein</td>\n",
       "      <td>[7, 7]</td>\n",
       "      <td>I for one have not bought into Google's, or an...</td>\n",
       "      <td>4.00</td>\n",
       "      <td>Finally.</td>\n",
       "      <td>1397433600</td>\n",
       "      <td>2014-04-14</td>\n",
       "      <td>238</td>\n",
       "      <td>7</td>\n",
       "      <td>7</td>\n",
       "      <td>237</td>\n",
       "      <td>(-0.001, 280.0]</td>\n",
       "      <td>0</td>\n",
       "      <td>7</td>\n",
       "      <td>1.00</td>\n",
       "      <td>0.65</td>\n",
       "    </tr>\n",
       "    <tr>\n",
       "      <th>1609</th>\n",
       "      <td>A2TPXOZSU1DACQ</td>\n",
       "      <td>B007WTAJTO</td>\n",
       "      <td>Eskimo</td>\n",
       "      <td>[7, 7]</td>\n",
       "      <td>I have always been a sandisk guy.  This cards ...</td>\n",
       "      <td>5.00</td>\n",
       "      <td>Bet you wish you had one of these</td>\n",
       "      <td>1395792000</td>\n",
       "      <td>2014-03-26</td>\n",
       "      <td>257</td>\n",
       "      <td>7</td>\n",
       "      <td>7</td>\n",
       "      <td>256</td>\n",
       "      <td>(-0.001, 280.0]</td>\n",
       "      <td>0</td>\n",
       "      <td>7</td>\n",
       "      <td>1.00</td>\n",
       "      <td>0.65</td>\n",
       "    </tr>\n",
       "    <tr>\n",
       "      <th>4302</th>\n",
       "      <td>A2EL2GWJ9T0DWY</td>\n",
       "      <td>B007WTAJTO</td>\n",
       "      <td>Stayeraug</td>\n",
       "      <td>[14, 16]</td>\n",
       "      <td>So I got this SD specifically for my GoPro Bla...</td>\n",
       "      <td>5.00</td>\n",
       "      <td>Perfect with GoPro Black 3+</td>\n",
       "      <td>1395360000</td>\n",
       "      <td>2014-03-21</td>\n",
       "      <td>262</td>\n",
       "      <td>14</td>\n",
       "      <td>16</td>\n",
       "      <td>261</td>\n",
       "      <td>(-0.001, 280.0]</td>\n",
       "      <td>2</td>\n",
       "      <td>12</td>\n",
       "      <td>0.88</td>\n",
       "      <td>0.64</td>\n",
       "    </tr>\n",
       "    <tr>\n",
       "      <th>4072</th>\n",
       "      <td>A22GOZTFA02O2F</td>\n",
       "      <td>B007WTAJTO</td>\n",
       "      <td>sb21 \"sb21\"</td>\n",
       "      <td>[6, 6]</td>\n",
       "      <td>I used this for my Samsung Galaxy Tab 2 7.0 . ...</td>\n",
       "      <td>5.00</td>\n",
       "      <td>Used for my Samsung Galaxy Tab 2 7.0</td>\n",
       "      <td>1347321600</td>\n",
       "      <td>2012-11-09</td>\n",
       "      <td>759</td>\n",
       "      <td>6</td>\n",
       "      <td>6</td>\n",
       "      <td>758</td>\n",
       "      <td>(600.0, 1063.0]</td>\n",
       "      <td>0</td>\n",
       "      <td>6</td>\n",
       "      <td>1.00</td>\n",
       "      <td>0.61</td>\n",
       "    </tr>\n",
       "    <tr>\n",
       "      <th>1072</th>\n",
       "      <td>A2O96COBMVY9C4</td>\n",
       "      <td>B007WTAJTO</td>\n",
       "      <td>Crysis Complex</td>\n",
       "      <td>[5, 5]</td>\n",
       "      <td>What more can I say? The 64GB micro SD works f...</td>\n",
       "      <td>5.00</td>\n",
       "      <td>Works wonders for the Galaxy Note 2!</td>\n",
       "      <td>1349395200</td>\n",
       "      <td>2012-05-10</td>\n",
       "      <td>942</td>\n",
       "      <td>5</td>\n",
       "      <td>5</td>\n",
       "      <td>941</td>\n",
       "      <td>(600.0, 1063.0]</td>\n",
       "      <td>0</td>\n",
       "      <td>5</td>\n",
       "      <td>1.00</td>\n",
       "      <td>0.57</td>\n",
       "    </tr>\n",
       "    <tr>\n",
       "      <th>2583</th>\n",
       "      <td>A3MEPYZVTAV90W</td>\n",
       "      <td>B007WTAJTO</td>\n",
       "      <td>J. Wong</td>\n",
       "      <td>[5, 5]</td>\n",
       "      <td>I bought this Class 10 SD card for my GoPro 3 ...</td>\n",
       "      <td>5.00</td>\n",
       "      <td>Works Great with a GoPro 3 Black!</td>\n",
       "      <td>1370649600</td>\n",
       "      <td>2013-08-06</td>\n",
       "      <td>489</td>\n",
       "      <td>5</td>\n",
       "      <td>5</td>\n",
       "      <td>488</td>\n",
       "      <td>(430.0, 600.0]</td>\n",
       "      <td>0</td>\n",
       "      <td>5</td>\n",
       "      <td>1.00</td>\n",
       "      <td>0.57</td>\n",
       "    </tr>\n",
       "    <tr>\n",
       "      <th>121</th>\n",
       "      <td>A2Z4VVF1NTJWPB</td>\n",
       "      <td>B007WTAJTO</td>\n",
       "      <td>A. Lee</td>\n",
       "      <td>[5, 5]</td>\n",
       "      <td>Update: providing an update with regard to San...</td>\n",
       "      <td>5.00</td>\n",
       "      <td>ready for use on the Galaxy S3</td>\n",
       "      <td>1346803200</td>\n",
       "      <td>2012-05-09</td>\n",
       "      <td>943</td>\n",
       "      <td>5</td>\n",
       "      <td>5</td>\n",
       "      <td>942</td>\n",
       "      <td>(600.0, 1063.0]</td>\n",
       "      <td>0</td>\n",
       "      <td>5</td>\n",
       "      <td>1.00</td>\n",
       "      <td>0.57</td>\n",
       "    </tr>\n",
       "    <tr>\n",
       "      <th>1142</th>\n",
       "      <td>A1PLHPPAJ5MUXG</td>\n",
       "      <td>B007WTAJTO</td>\n",
       "      <td>Daniel Pham(Danpham_X @ yahoo.  com)</td>\n",
       "      <td>[5, 5]</td>\n",
       "      <td>As soon as I saw that this card was announced ...</td>\n",
       "      <td>5.00</td>\n",
       "      <td>Great large capacity card</td>\n",
       "      <td>1396396800</td>\n",
       "      <td>2014-02-04</td>\n",
       "      <td>307</td>\n",
       "      <td>5</td>\n",
       "      <td>5</td>\n",
       "      <td>306</td>\n",
       "      <td>(280.0, 430.0]</td>\n",
       "      <td>0</td>\n",
       "      <td>5</td>\n",
       "      <td>1.00</td>\n",
       "      <td>0.57</td>\n",
       "    </tr>\n",
       "    <tr>\n",
       "      <th>1753</th>\n",
       "      <td>ALPLKR59QMBUX</td>\n",
       "      <td>B007WTAJTO</td>\n",
       "      <td>G. Becker</td>\n",
       "      <td>[5, 5]</td>\n",
       "      <td>Puchased this card right after I received my S...</td>\n",
       "      <td>5.00</td>\n",
       "      <td>Use Nothing Other Than the Best</td>\n",
       "      <td>1350864000</td>\n",
       "      <td>2012-10-22</td>\n",
       "      <td>777</td>\n",
       "      <td>5</td>\n",
       "      <td>5</td>\n",
       "      <td>776</td>\n",
       "      <td>(600.0, 1063.0]</td>\n",
       "      <td>0</td>\n",
       "      <td>5</td>\n",
       "      <td>1.00</td>\n",
       "      <td>0.57</td>\n",
       "    </tr>\n",
       "  </tbody>\n",
       "</table>\n",
       "</div>"
      ],
      "text/plain": [
       "          reviewerID        asin                          reviewerName       helpful                                         reviewText  overall                                            summary  unixReviewTime reviewTime  day_diff  helpful_yes  total_vote  days         days_cat  helpful_no  score_pos_nef_diff  score_average_rating  wilson_lower_bound\n",
       "2031  A12B7ZMXFI6IXY  B007WTAJTO                  Hyoun Kim \"Faluzure\"  [1952, 2020]  [[ UPDATE - 6/19/2014 ]]So my lovely wife boug...     5.00  UPDATED - Great w/ Galaxy S4 & Galaxy Tab 4 10...      1367366400 2013-01-05       702         1952        2020   701  (600.0, 1063.0]          68                1884                  0.97                0.96\n",
       "3449   AOEAD7DPLZE53  B007WTAJTO                     NLee the Engineer  [1428, 1505]  I have tested dozens of SDHC and micro-SDHC ca...     5.00  Top of the class among all (budget-priced) mic...      1348617600 2012-09-26       803         1428        1505   802  (600.0, 1063.0]          77                1351                  0.95                0.94\n",
       "4212   AVBMZZAFEKO58  B007WTAJTO                           SkincareCEO  [1568, 1694]  NOTE:  please read the last update (scroll to ...     1.00  1 Star reviews - Micro SDXC card unmounts itse...      1375660800 2013-05-08       579         1568        1694   578   (430.0, 600.0]         126                1442                  0.93                0.91\n",
       "317   A1ZQAQFYSXL5MQ  B007WTAJTO               Amazon Customer \"Kelly\"    [422, 495]  If your card gets hot enough to be painful, it...     1.00                                Warning, read this!      1346544000 2012-02-09      1033          422         495  1032  (600.0, 1063.0]          73                 349                  0.85                0.82\n",
       "4672  A2DKQQIZ793AV5  B007WTAJTO                               Twister      [45, 49]  Sandisk announcement of the first 128GB micro ...     5.00  Super high capacity!!!  Excellent price (on Am...      1394150400 2014-07-03       158           45          49   157  (-0.001, 280.0]           4                  41                  0.92                0.81\n",
       "1835  A1J6VSUM80UAF8  B007WTAJTO                           goconfigure      [60, 68]  Bought from BestBuy online the day it was anno...     5.00                                           I own it      1393545600 2014-02-28       283           60          68   282   (280.0, 430.0]           8                  52                  0.88                0.78\n",
       "3981  A1K91XXQ6ZEBQR  B007WTAJTO            R. Sutton, Jr. \"RWSynergy\"    [112, 139]  The last few days I have been diligently shopp...     5.00  Resolving confusion between \"Mobile Ultra\" and...      1350864000 2012-10-22       777          112         139   776  (600.0, 1063.0]          27                  85                  0.81                0.73\n",
       "3807   AFGRMORWY2QNX  B007WTAJTO                            R. Heisler      [22, 25]  I bought this card to replace a lost 16 gig in...     3.00   Good buy for the money but wait, I had an issue!      1361923200 2013-02-27       649           22          25   648  (600.0, 1063.0]           3                  19                  0.88                0.70\n",
       "4306   AOHXKM5URSKAB  B007WTAJTO                         Stellar Eller      [51, 65]  While I got this card as a \"deal of the day\" o...     5.00                                      Awesome Card!      1339200000 2012-09-06       823           51          65   822  (600.0, 1063.0]          14                  37                  0.78                0.67\n",
       "4596  A1WTQUOQ4WG9AI  B007WTAJTO           Tom Henriksen \"Doggy Diner\"     [82, 109]  Hi:I ordered two card and they arrived the nex...     1.00     Designed incompatibility/Don't support SanDisk      1348272000 2012-09-22       807           82         109   806  (600.0, 1063.0]          27                  55                  0.75                0.66\n",
       "315   A2J26NNQX6WKAU  B007WTAJTO            Amazon Customer \"johncrea\"      [38, 48]  Bought this card to use with my Samsung Galaxy...     5.00  Samsung Galaxy Tab2 works with this card if re...      1344816000 2012-08-13       847           38          48   846  (600.0, 1063.0]          10                  28                  0.79                0.66\n",
       "1465   A6I8KXYK24RTB  B007WTAJTO                              D. Stein        [7, 7]  I for one have not bought into Google's, or an...     4.00                                           Finally.      1397433600 2014-04-14       238            7           7   237  (-0.001, 280.0]           0                   7                  1.00                0.65\n",
       "1609  A2TPXOZSU1DACQ  B007WTAJTO                                Eskimo        [7, 7]  I have always been a sandisk guy.  This cards ...     5.00                  Bet you wish you had one of these      1395792000 2014-03-26       257            7           7   256  (-0.001, 280.0]           0                   7                  1.00                0.65\n",
       "4302  A2EL2GWJ9T0DWY  B007WTAJTO                             Stayeraug      [14, 16]  So I got this SD specifically for my GoPro Bla...     5.00                        Perfect with GoPro Black 3+      1395360000 2014-03-21       262           14          16   261  (-0.001, 280.0]           2                  12                  0.88                0.64\n",
       "4072  A22GOZTFA02O2F  B007WTAJTO                           sb21 \"sb21\"        [6, 6]  I used this for my Samsung Galaxy Tab 2 7.0 . ...     5.00               Used for my Samsung Galaxy Tab 2 7.0      1347321600 2012-11-09       759            6           6   758  (600.0, 1063.0]           0                   6                  1.00                0.61\n",
       "1072  A2O96COBMVY9C4  B007WTAJTO                        Crysis Complex        [5, 5]  What more can I say? The 64GB micro SD works f...     5.00               Works wonders for the Galaxy Note 2!      1349395200 2012-05-10       942            5           5   941  (600.0, 1063.0]           0                   5                  1.00                0.57\n",
       "2583  A3MEPYZVTAV90W  B007WTAJTO                               J. Wong        [5, 5]  I bought this Class 10 SD card for my GoPro 3 ...     5.00                  Works Great with a GoPro 3 Black!      1370649600 2013-08-06       489            5           5   488   (430.0, 600.0]           0                   5                  1.00                0.57\n",
       "121   A2Z4VVF1NTJWPB  B007WTAJTO                                A. Lee        [5, 5]  Update: providing an update with regard to San...     5.00                     ready for use on the Galaxy S3      1346803200 2012-05-09       943            5           5   942  (600.0, 1063.0]           0                   5                  1.00                0.57\n",
       "1142  A1PLHPPAJ5MUXG  B007WTAJTO  Daniel Pham(Danpham_X @ yahoo.  com)        [5, 5]  As soon as I saw that this card was announced ...     5.00                          Great large capacity card      1396396800 2014-02-04       307            5           5   306   (280.0, 430.0]           0                   5                  1.00                0.57\n",
       "1753   ALPLKR59QMBUX  B007WTAJTO                             G. Becker        [5, 5]  Puchased this card right after I received my S...     5.00                    Use Nothing Other Than the Best      1350864000 2012-10-22       777            5           5   776  (600.0, 1063.0]           0                   5                  1.00                0.57"
      ]
     },
     "execution_count": 27,
     "metadata": {},
     "output_type": "execute_result"
    }
   ],
   "source": [
    "# sorting the results according to the variable wilson_lower_bound\n",
    "df.sort_values('wilson_lower_bound', ascending=False).head(20)"
   ]
  },
  {
   "cell_type": "code",
   "execution_count": 28,
   "id": "340a0996",
   "metadata": {
    "execution": {
     "iopub.execute_input": "2022-10-31T20:54:31.018700Z",
     "iopub.status.busy": "2022-10-31T20:54:31.017292Z",
     "iopub.status.idle": "2022-10-31T20:54:31.041256Z",
     "shell.execute_reply": "2022-10-31T20:54:31.040295Z"
    },
    "papermill": {
     "duration": 0.040226,
     "end_time": "2022-10-31T20:54:31.043234",
     "exception": false,
     "start_time": "2022-10-31T20:54:31.003008",
     "status": "completed"
    },
    "tags": []
   },
   "outputs": [
    {
     "data": {
      "text/html": [
       "<div>\n",
       "<style scoped>\n",
       "    .dataframe tbody tr th:only-of-type {\n",
       "        vertical-align: middle;\n",
       "    }\n",
       "\n",
       "    .dataframe tbody tr th {\n",
       "        vertical-align: top;\n",
       "    }\n",
       "\n",
       "    .dataframe thead th {\n",
       "        text-align: right;\n",
       "    }\n",
       "</style>\n",
       "<table border=\"1\" class=\"dataframe\">\n",
       "  <thead>\n",
       "    <tr style=\"text-align: right;\">\n",
       "      <th></th>\n",
       "      <th>reviewerID</th>\n",
       "      <th>asin</th>\n",
       "      <th>reviewerName</th>\n",
       "      <th>helpful</th>\n",
       "      <th>reviewText</th>\n",
       "      <th>overall</th>\n",
       "      <th>summary</th>\n",
       "      <th>unixReviewTime</th>\n",
       "      <th>reviewTime</th>\n",
       "      <th>day_diff</th>\n",
       "      <th>helpful_yes</th>\n",
       "      <th>total_vote</th>\n",
       "      <th>days</th>\n",
       "      <th>days_cat</th>\n",
       "      <th>helpful_no</th>\n",
       "      <th>score_pos_nef_diff</th>\n",
       "      <th>score_average_rating</th>\n",
       "      <th>wilson_lower_bound</th>\n",
       "    </tr>\n",
       "  </thead>\n",
       "  <tbody>\n",
       "    <tr>\n",
       "      <th>2031</th>\n",
       "      <td>A12B7ZMXFI6IXY</td>\n",
       "      <td>B007WTAJTO</td>\n",
       "      <td>Hyoun Kim \"Faluzure\"</td>\n",
       "      <td>[1952, 2020]</td>\n",
       "      <td>[[ UPDATE - 6/19/2014 ]]So my lovely wife boug...</td>\n",
       "      <td>5.00</td>\n",
       "      <td>UPDATED - Great w/ Galaxy S4 &amp; Galaxy Tab 4 10...</td>\n",
       "      <td>1367366400</td>\n",
       "      <td>2013-01-05</td>\n",
       "      <td>702</td>\n",
       "      <td>1952</td>\n",
       "      <td>2020</td>\n",
       "      <td>701</td>\n",
       "      <td>(600.0, 1063.0]</td>\n",
       "      <td>68</td>\n",
       "      <td>1884</td>\n",
       "      <td>0.97</td>\n",
       "      <td>0.96</td>\n",
       "    </tr>\n",
       "    <tr>\n",
       "      <th>4212</th>\n",
       "      <td>AVBMZZAFEKO58</td>\n",
       "      <td>B007WTAJTO</td>\n",
       "      <td>SkincareCEO</td>\n",
       "      <td>[1568, 1694]</td>\n",
       "      <td>NOTE:  please read the last update (scroll to ...</td>\n",
       "      <td>1.00</td>\n",
       "      <td>1 Star reviews - Micro SDXC card unmounts itse...</td>\n",
       "      <td>1375660800</td>\n",
       "      <td>2013-05-08</td>\n",
       "      <td>579</td>\n",
       "      <td>1568</td>\n",
       "      <td>1694</td>\n",
       "      <td>578</td>\n",
       "      <td>(430.0, 600.0]</td>\n",
       "      <td>126</td>\n",
       "      <td>1442</td>\n",
       "      <td>0.93</td>\n",
       "      <td>0.91</td>\n",
       "    </tr>\n",
       "    <tr>\n",
       "      <th>3449</th>\n",
       "      <td>AOEAD7DPLZE53</td>\n",
       "      <td>B007WTAJTO</td>\n",
       "      <td>NLee the Engineer</td>\n",
       "      <td>[1428, 1505]</td>\n",
       "      <td>I have tested dozens of SDHC and micro-SDHC ca...</td>\n",
       "      <td>5.00</td>\n",
       "      <td>Top of the class among all (budget-priced) mic...</td>\n",
       "      <td>1348617600</td>\n",
       "      <td>2012-09-26</td>\n",
       "      <td>803</td>\n",
       "      <td>1428</td>\n",
       "      <td>1505</td>\n",
       "      <td>802</td>\n",
       "      <td>(600.0, 1063.0]</td>\n",
       "      <td>77</td>\n",
       "      <td>1351</td>\n",
       "      <td>0.95</td>\n",
       "      <td>0.94</td>\n",
       "    </tr>\n",
       "    <tr>\n",
       "      <th>317</th>\n",
       "      <td>A1ZQAQFYSXL5MQ</td>\n",
       "      <td>B007WTAJTO</td>\n",
       "      <td>Amazon Customer \"Kelly\"</td>\n",
       "      <td>[422, 495]</td>\n",
       "      <td>If your card gets hot enough to be painful, it...</td>\n",
       "      <td>1.00</td>\n",
       "      <td>Warning, read this!</td>\n",
       "      <td>1346544000</td>\n",
       "      <td>2012-02-09</td>\n",
       "      <td>1033</td>\n",
       "      <td>422</td>\n",
       "      <td>495</td>\n",
       "      <td>1032</td>\n",
       "      <td>(600.0, 1063.0]</td>\n",
       "      <td>73</td>\n",
       "      <td>349</td>\n",
       "      <td>0.85</td>\n",
       "      <td>0.82</td>\n",
       "    </tr>\n",
       "    <tr>\n",
       "      <th>3981</th>\n",
       "      <td>A1K91XXQ6ZEBQR</td>\n",
       "      <td>B007WTAJTO</td>\n",
       "      <td>R. Sutton, Jr. \"RWSynergy\"</td>\n",
       "      <td>[112, 139]</td>\n",
       "      <td>The last few days I have been diligently shopp...</td>\n",
       "      <td>5.00</td>\n",
       "      <td>Resolving confusion between \"Mobile Ultra\" and...</td>\n",
       "      <td>1350864000</td>\n",
       "      <td>2012-10-22</td>\n",
       "      <td>777</td>\n",
       "      <td>112</td>\n",
       "      <td>139</td>\n",
       "      <td>776</td>\n",
       "      <td>(600.0, 1063.0]</td>\n",
       "      <td>27</td>\n",
       "      <td>85</td>\n",
       "      <td>0.81</td>\n",
       "      <td>0.73</td>\n",
       "    </tr>\n",
       "    <tr>\n",
       "      <th>4596</th>\n",
       "      <td>A1WTQUOQ4WG9AI</td>\n",
       "      <td>B007WTAJTO</td>\n",
       "      <td>Tom Henriksen \"Doggy Diner\"</td>\n",
       "      <td>[82, 109]</td>\n",
       "      <td>Hi:I ordered two card and they arrived the nex...</td>\n",
       "      <td>1.00</td>\n",
       "      <td>Designed incompatibility/Don't support SanDisk</td>\n",
       "      <td>1348272000</td>\n",
       "      <td>2012-09-22</td>\n",
       "      <td>807</td>\n",
       "      <td>82</td>\n",
       "      <td>109</td>\n",
       "      <td>806</td>\n",
       "      <td>(600.0, 1063.0]</td>\n",
       "      <td>27</td>\n",
       "      <td>55</td>\n",
       "      <td>0.75</td>\n",
       "      <td>0.66</td>\n",
       "    </tr>\n",
       "    <tr>\n",
       "      <th>1835</th>\n",
       "      <td>A1J6VSUM80UAF8</td>\n",
       "      <td>B007WTAJTO</td>\n",
       "      <td>goconfigure</td>\n",
       "      <td>[60, 68]</td>\n",
       "      <td>Bought from BestBuy online the day it was anno...</td>\n",
       "      <td>5.00</td>\n",
       "      <td>I own it</td>\n",
       "      <td>1393545600</td>\n",
       "      <td>2014-02-28</td>\n",
       "      <td>283</td>\n",
       "      <td>60</td>\n",
       "      <td>68</td>\n",
       "      <td>282</td>\n",
       "      <td>(280.0, 430.0]</td>\n",
       "      <td>8</td>\n",
       "      <td>52</td>\n",
       "      <td>0.88</td>\n",
       "      <td>0.78</td>\n",
       "    </tr>\n",
       "    <tr>\n",
       "      <th>4672</th>\n",
       "      <td>A2DKQQIZ793AV5</td>\n",
       "      <td>B007WTAJTO</td>\n",
       "      <td>Twister</td>\n",
       "      <td>[45, 49]</td>\n",
       "      <td>Sandisk announcement of the first 128GB micro ...</td>\n",
       "      <td>5.00</td>\n",
       "      <td>Super high capacity!!!  Excellent price (on Am...</td>\n",
       "      <td>1394150400</td>\n",
       "      <td>2014-07-03</td>\n",
       "      <td>158</td>\n",
       "      <td>45</td>\n",
       "      <td>49</td>\n",
       "      <td>157</td>\n",
       "      <td>(-0.001, 280.0]</td>\n",
       "      <td>4</td>\n",
       "      <td>41</td>\n",
       "      <td>0.92</td>\n",
       "      <td>0.81</td>\n",
       "    </tr>\n",
       "    <tr>\n",
       "      <th>4306</th>\n",
       "      <td>AOHXKM5URSKAB</td>\n",
       "      <td>B007WTAJTO</td>\n",
       "      <td>Stellar Eller</td>\n",
       "      <td>[51, 65]</td>\n",
       "      <td>While I got this card as a \"deal of the day\" o...</td>\n",
       "      <td>5.00</td>\n",
       "      <td>Awesome Card!</td>\n",
       "      <td>1339200000</td>\n",
       "      <td>2012-09-06</td>\n",
       "      <td>823</td>\n",
       "      <td>51</td>\n",
       "      <td>65</td>\n",
       "      <td>822</td>\n",
       "      <td>(600.0, 1063.0]</td>\n",
       "      <td>14</td>\n",
       "      <td>37</td>\n",
       "      <td>0.78</td>\n",
       "      <td>0.67</td>\n",
       "    </tr>\n",
       "    <tr>\n",
       "      <th>315</th>\n",
       "      <td>A2J26NNQX6WKAU</td>\n",
       "      <td>B007WTAJTO</td>\n",
       "      <td>Amazon Customer \"johncrea\"</td>\n",
       "      <td>[38, 48]</td>\n",
       "      <td>Bought this card to use with my Samsung Galaxy...</td>\n",
       "      <td>5.00</td>\n",
       "      <td>Samsung Galaxy Tab2 works with this card if re...</td>\n",
       "      <td>1344816000</td>\n",
       "      <td>2012-08-13</td>\n",
       "      <td>847</td>\n",
       "      <td>38</td>\n",
       "      <td>48</td>\n",
       "      <td>846</td>\n",
       "      <td>(600.0, 1063.0]</td>\n",
       "      <td>10</td>\n",
       "      <td>28</td>\n",
       "      <td>0.79</td>\n",
       "      <td>0.66</td>\n",
       "    </tr>\n",
       "    <tr>\n",
       "      <th>3807</th>\n",
       "      <td>AFGRMORWY2QNX</td>\n",
       "      <td>B007WTAJTO</td>\n",
       "      <td>R. Heisler</td>\n",
       "      <td>[22, 25]</td>\n",
       "      <td>I bought this card to replace a lost 16 gig in...</td>\n",
       "      <td>3.00</td>\n",
       "      <td>Good buy for the money but wait, I had an issue!</td>\n",
       "      <td>1361923200</td>\n",
       "      <td>2013-02-27</td>\n",
       "      <td>649</td>\n",
       "      <td>22</td>\n",
       "      <td>25</td>\n",
       "      <td>648</td>\n",
       "      <td>(600.0, 1063.0]</td>\n",
       "      <td>3</td>\n",
       "      <td>19</td>\n",
       "      <td>0.88</td>\n",
       "      <td>0.70</td>\n",
       "    </tr>\n",
       "    <tr>\n",
       "      <th>4302</th>\n",
       "      <td>A2EL2GWJ9T0DWY</td>\n",
       "      <td>B007WTAJTO</td>\n",
       "      <td>Stayeraug</td>\n",
       "      <td>[14, 16]</td>\n",
       "      <td>So I got this SD specifically for my GoPro Bla...</td>\n",
       "      <td>5.00</td>\n",
       "      <td>Perfect with GoPro Black 3+</td>\n",
       "      <td>1395360000</td>\n",
       "      <td>2014-03-21</td>\n",
       "      <td>262</td>\n",
       "      <td>14</td>\n",
       "      <td>16</td>\n",
       "      <td>261</td>\n",
       "      <td>(-0.001, 280.0]</td>\n",
       "      <td>2</td>\n",
       "      <td>12</td>\n",
       "      <td>0.88</td>\n",
       "      <td>0.64</td>\n",
       "    </tr>\n",
       "    <tr>\n",
       "      <th>93</th>\n",
       "      <td>A837QPVOZ9YAD</td>\n",
       "      <td>B007WTAJTO</td>\n",
       "      <td>Airedad</td>\n",
       "      <td>[15, 21]</td>\n",
       "      <td>I'm amazed.  I ordered this from Amazon on Tue...</td>\n",
       "      <td>5.00</td>\n",
       "      <td>Very fast class 10 card - and excellent servic...</td>\n",
       "      <td>1343174400</td>\n",
       "      <td>2012-07-25</td>\n",
       "      <td>866</td>\n",
       "      <td>15</td>\n",
       "      <td>21</td>\n",
       "      <td>865</td>\n",
       "      <td>(600.0, 1063.0]</td>\n",
       "      <td>6</td>\n",
       "      <td>9</td>\n",
       "      <td>0.71</td>\n",
       "      <td>0.50</td>\n",
       "    </tr>\n",
       "    <tr>\n",
       "      <th>1609</th>\n",
       "      <td>A2TPXOZSU1DACQ</td>\n",
       "      <td>B007WTAJTO</td>\n",
       "      <td>Eskimo</td>\n",
       "      <td>[7, 7]</td>\n",
       "      <td>I have always been a sandisk guy.  This cards ...</td>\n",
       "      <td>5.00</td>\n",
       "      <td>Bet you wish you had one of these</td>\n",
       "      <td>1395792000</td>\n",
       "      <td>2014-03-26</td>\n",
       "      <td>257</td>\n",
       "      <td>7</td>\n",
       "      <td>7</td>\n",
       "      <td>256</td>\n",
       "      <td>(-0.001, 280.0]</td>\n",
       "      <td>0</td>\n",
       "      <td>7</td>\n",
       "      <td>1.00</td>\n",
       "      <td>0.65</td>\n",
       "    </tr>\n",
       "    <tr>\n",
       "      <th>1465</th>\n",
       "      <td>A6I8KXYK24RTB</td>\n",
       "      <td>B007WTAJTO</td>\n",
       "      <td>D. Stein</td>\n",
       "      <td>[7, 7]</td>\n",
       "      <td>I for one have not bought into Google's, or an...</td>\n",
       "      <td>4.00</td>\n",
       "      <td>Finally.</td>\n",
       "      <td>1397433600</td>\n",
       "      <td>2014-04-14</td>\n",
       "      <td>238</td>\n",
       "      <td>7</td>\n",
       "      <td>7</td>\n",
       "      <td>237</td>\n",
       "      <td>(-0.001, 280.0]</td>\n",
       "      <td>0</td>\n",
       "      <td>7</td>\n",
       "      <td>1.00</td>\n",
       "      <td>0.65</td>\n",
       "    </tr>\n",
       "    <tr>\n",
       "      <th>4072</th>\n",
       "      <td>A22GOZTFA02O2F</td>\n",
       "      <td>B007WTAJTO</td>\n",
       "      <td>sb21 \"sb21\"</td>\n",
       "      <td>[6, 6]</td>\n",
       "      <td>I used this for my Samsung Galaxy Tab 2 7.0 . ...</td>\n",
       "      <td>5.00</td>\n",
       "      <td>Used for my Samsung Galaxy Tab 2 7.0</td>\n",
       "      <td>1347321600</td>\n",
       "      <td>2012-11-09</td>\n",
       "      <td>759</td>\n",
       "      <td>6</td>\n",
       "      <td>6</td>\n",
       "      <td>758</td>\n",
       "      <td>(600.0, 1063.0]</td>\n",
       "      <td>0</td>\n",
       "      <td>6</td>\n",
       "      <td>1.00</td>\n",
       "      <td>0.61</td>\n",
       "    </tr>\n",
       "    <tr>\n",
       "      <th>2268</th>\n",
       "      <td>A680RUE1FDO8B</td>\n",
       "      <td>B007WTAJTO</td>\n",
       "      <td>Jerry Saperstein</td>\n",
       "      <td>[8, 10]</td>\n",
       "      <td>My Samsung Galaxy S4 now has 119GB of fast mic...</td>\n",
       "      <td>5.00</td>\n",
       "      <td>Incredible simply incredible.</td>\n",
       "      <td>1395014400</td>\n",
       "      <td>2014-03-17</td>\n",
       "      <td>266</td>\n",
       "      <td>8</td>\n",
       "      <td>10</td>\n",
       "      <td>265</td>\n",
       "      <td>(-0.001, 280.0]</td>\n",
       "      <td>2</td>\n",
       "      <td>6</td>\n",
       "      <td>0.80</td>\n",
       "      <td>0.49</td>\n",
       "    </tr>\n",
       "    <tr>\n",
       "      <th>121</th>\n",
       "      <td>A2Z4VVF1NTJWPB</td>\n",
       "      <td>B007WTAJTO</td>\n",
       "      <td>A. Lee</td>\n",
       "      <td>[5, 5]</td>\n",
       "      <td>Update: providing an update with regard to San...</td>\n",
       "      <td>5.00</td>\n",
       "      <td>ready for use on the Galaxy S3</td>\n",
       "      <td>1346803200</td>\n",
       "      <td>2012-05-09</td>\n",
       "      <td>943</td>\n",
       "      <td>5</td>\n",
       "      <td>5</td>\n",
       "      <td>942</td>\n",
       "      <td>(600.0, 1063.0]</td>\n",
       "      <td>0</td>\n",
       "      <td>5</td>\n",
       "      <td>1.00</td>\n",
       "      <td>0.57</td>\n",
       "    </tr>\n",
       "    <tr>\n",
       "      <th>323</th>\n",
       "      <td>A15X60NOGL3WDW</td>\n",
       "      <td>B007WTAJTO</td>\n",
       "      <td>Amazon Customer \"Milo\"</td>\n",
       "      <td>[6, 7]</td>\n",
       "      <td>I replaced a 64GB card in my note 3 with this ...</td>\n",
       "      <td>5.00</td>\n",
       "      <td>Working fine in my Note 3</td>\n",
       "      <td>1396310400</td>\n",
       "      <td>2014-01-04</td>\n",
       "      <td>338</td>\n",
       "      <td>6</td>\n",
       "      <td>7</td>\n",
       "      <td>337</td>\n",
       "      <td>(280.0, 430.0]</td>\n",
       "      <td>1</td>\n",
       "      <td>5</td>\n",
       "      <td>0.86</td>\n",
       "      <td>0.49</td>\n",
       "    </tr>\n",
       "    <tr>\n",
       "      <th>2695</th>\n",
       "      <td>A1Y6RTMK10TWWF</td>\n",
       "      <td>B007WTAJTO</td>\n",
       "      <td>kinematic</td>\n",
       "      <td>[6, 7]</td>\n",
       "      <td>did not work when first inserted into my samsu...</td>\n",
       "      <td>5.00</td>\n",
       "      <td>Works in Samsung Galaxy Tab 2 10.1 after forma...</td>\n",
       "      <td>1347062400</td>\n",
       "      <td>2012-08-09</td>\n",
       "      <td>851</td>\n",
       "      <td>6</td>\n",
       "      <td>7</td>\n",
       "      <td>850</td>\n",
       "      <td>(600.0, 1063.0]</td>\n",
       "      <td>1</td>\n",
       "      <td>5</td>\n",
       "      <td>0.86</td>\n",
       "      <td>0.49</td>\n",
       "    </tr>\n",
       "  </tbody>\n",
       "</table>\n",
       "</div>"
      ],
      "text/plain": [
       "          reviewerID        asin                 reviewerName       helpful                                         reviewText  overall                                            summary  unixReviewTime reviewTime  day_diff  helpful_yes  total_vote  days         days_cat  helpful_no  score_pos_nef_diff  score_average_rating  wilson_lower_bound\n",
       "2031  A12B7ZMXFI6IXY  B007WTAJTO         Hyoun Kim \"Faluzure\"  [1952, 2020]  [[ UPDATE - 6/19/2014 ]]So my lovely wife boug...     5.00  UPDATED - Great w/ Galaxy S4 & Galaxy Tab 4 10...      1367366400 2013-01-05       702         1952        2020   701  (600.0, 1063.0]          68                1884                  0.97                0.96\n",
       "4212   AVBMZZAFEKO58  B007WTAJTO                  SkincareCEO  [1568, 1694]  NOTE:  please read the last update (scroll to ...     1.00  1 Star reviews - Micro SDXC card unmounts itse...      1375660800 2013-05-08       579         1568        1694   578   (430.0, 600.0]         126                1442                  0.93                0.91\n",
       "3449   AOEAD7DPLZE53  B007WTAJTO            NLee the Engineer  [1428, 1505]  I have tested dozens of SDHC and micro-SDHC ca...     5.00  Top of the class among all (budget-priced) mic...      1348617600 2012-09-26       803         1428        1505   802  (600.0, 1063.0]          77                1351                  0.95                0.94\n",
       "317   A1ZQAQFYSXL5MQ  B007WTAJTO      Amazon Customer \"Kelly\"    [422, 495]  If your card gets hot enough to be painful, it...     1.00                                Warning, read this!      1346544000 2012-02-09      1033          422         495  1032  (600.0, 1063.0]          73                 349                  0.85                0.82\n",
       "3981  A1K91XXQ6ZEBQR  B007WTAJTO   R. Sutton, Jr. \"RWSynergy\"    [112, 139]  The last few days I have been diligently shopp...     5.00  Resolving confusion between \"Mobile Ultra\" and...      1350864000 2012-10-22       777          112         139   776  (600.0, 1063.0]          27                  85                  0.81                0.73\n",
       "4596  A1WTQUOQ4WG9AI  B007WTAJTO  Tom Henriksen \"Doggy Diner\"     [82, 109]  Hi:I ordered two card and they arrived the nex...     1.00     Designed incompatibility/Don't support SanDisk      1348272000 2012-09-22       807           82         109   806  (600.0, 1063.0]          27                  55                  0.75                0.66\n",
       "1835  A1J6VSUM80UAF8  B007WTAJTO                  goconfigure      [60, 68]  Bought from BestBuy online the day it was anno...     5.00                                           I own it      1393545600 2014-02-28       283           60          68   282   (280.0, 430.0]           8                  52                  0.88                0.78\n",
       "4672  A2DKQQIZ793AV5  B007WTAJTO                      Twister      [45, 49]  Sandisk announcement of the first 128GB micro ...     5.00  Super high capacity!!!  Excellent price (on Am...      1394150400 2014-07-03       158           45          49   157  (-0.001, 280.0]           4                  41                  0.92                0.81\n",
       "4306   AOHXKM5URSKAB  B007WTAJTO                Stellar Eller      [51, 65]  While I got this card as a \"deal of the day\" o...     5.00                                      Awesome Card!      1339200000 2012-09-06       823           51          65   822  (600.0, 1063.0]          14                  37                  0.78                0.67\n",
       "315   A2J26NNQX6WKAU  B007WTAJTO   Amazon Customer \"johncrea\"      [38, 48]  Bought this card to use with my Samsung Galaxy...     5.00  Samsung Galaxy Tab2 works with this card if re...      1344816000 2012-08-13       847           38          48   846  (600.0, 1063.0]          10                  28                  0.79                0.66\n",
       "3807   AFGRMORWY2QNX  B007WTAJTO                   R. Heisler      [22, 25]  I bought this card to replace a lost 16 gig in...     3.00   Good buy for the money but wait, I had an issue!      1361923200 2013-02-27       649           22          25   648  (600.0, 1063.0]           3                  19                  0.88                0.70\n",
       "4302  A2EL2GWJ9T0DWY  B007WTAJTO                    Stayeraug      [14, 16]  So I got this SD specifically for my GoPro Bla...     5.00                        Perfect with GoPro Black 3+      1395360000 2014-03-21       262           14          16   261  (-0.001, 280.0]           2                  12                  0.88                0.64\n",
       "93     A837QPVOZ9YAD  B007WTAJTO                      Airedad      [15, 21]  I'm amazed.  I ordered this from Amazon on Tue...     5.00  Very fast class 10 card - and excellent servic...      1343174400 2012-07-25       866           15          21   865  (600.0, 1063.0]           6                   9                  0.71                0.50\n",
       "1609  A2TPXOZSU1DACQ  B007WTAJTO                       Eskimo        [7, 7]  I have always been a sandisk guy.  This cards ...     5.00                  Bet you wish you had one of these      1395792000 2014-03-26       257            7           7   256  (-0.001, 280.0]           0                   7                  1.00                0.65\n",
       "1465   A6I8KXYK24RTB  B007WTAJTO                     D. Stein        [7, 7]  I for one have not bought into Google's, or an...     4.00                                           Finally.      1397433600 2014-04-14       238            7           7   237  (-0.001, 280.0]           0                   7                  1.00                0.65\n",
       "4072  A22GOZTFA02O2F  B007WTAJTO                  sb21 \"sb21\"        [6, 6]  I used this for my Samsung Galaxy Tab 2 7.0 . ...     5.00               Used for my Samsung Galaxy Tab 2 7.0      1347321600 2012-11-09       759            6           6   758  (600.0, 1063.0]           0                   6                  1.00                0.61\n",
       "2268   A680RUE1FDO8B  B007WTAJTO             Jerry Saperstein       [8, 10]  My Samsung Galaxy S4 now has 119GB of fast mic...     5.00                      Incredible simply incredible.      1395014400 2014-03-17       266            8          10   265  (-0.001, 280.0]           2                   6                  0.80                0.49\n",
       "121   A2Z4VVF1NTJWPB  B007WTAJTO                       A. Lee        [5, 5]  Update: providing an update with regard to San...     5.00                     ready for use on the Galaxy S3      1346803200 2012-05-09       943            5           5   942  (600.0, 1063.0]           0                   5                  1.00                0.57\n",
       "323   A15X60NOGL3WDW  B007WTAJTO       Amazon Customer \"Milo\"        [6, 7]  I replaced a 64GB card in my note 3 with this ...     5.00                          Working fine in my Note 3      1396310400 2014-01-04       338            6           7   337   (280.0, 430.0]           1                   5                  0.86                0.49\n",
       "2695  A1Y6RTMK10TWWF  B007WTAJTO                    kinematic        [6, 7]  did not work when first inserted into my samsu...     5.00  Works in Samsung Galaxy Tab 2 10.1 after forma...      1347062400 2012-08-09       851            6           7   850  (600.0, 1063.0]           1                   5                  0.86                0.49"
      ]
     },
     "execution_count": 28,
     "metadata": {},
     "output_type": "execute_result"
    }
   ],
   "source": [
    "# sorting the results according to the variable score_pos_nef_diff\n",
    "df.sort_values('score_pos_nef_diff', ascending=False).head(20)"
   ]
  },
  {
   "cell_type": "code",
   "execution_count": 29,
   "id": "9d956d04",
   "metadata": {
    "execution": {
     "iopub.execute_input": "2022-10-31T20:54:31.074480Z",
     "iopub.status.busy": "2022-10-31T20:54:31.074157Z",
     "iopub.status.idle": "2022-10-31T20:54:31.097958Z",
     "shell.execute_reply": "2022-10-31T20:54:31.097081Z"
    },
    "papermill": {
     "duration": 0.041288,
     "end_time": "2022-10-31T20:54:31.099663",
     "exception": false,
     "start_time": "2022-10-31T20:54:31.058375",
     "status": "completed"
    },
    "tags": []
   },
   "outputs": [
    {
     "data": {
      "text/html": [
       "<div>\n",
       "<style scoped>\n",
       "    .dataframe tbody tr th:only-of-type {\n",
       "        vertical-align: middle;\n",
       "    }\n",
       "\n",
       "    .dataframe tbody tr th {\n",
       "        vertical-align: top;\n",
       "    }\n",
       "\n",
       "    .dataframe thead th {\n",
       "        text-align: right;\n",
       "    }\n",
       "</style>\n",
       "<table border=\"1\" class=\"dataframe\">\n",
       "  <thead>\n",
       "    <tr style=\"text-align: right;\">\n",
       "      <th></th>\n",
       "      <th>reviewerID</th>\n",
       "      <th>asin</th>\n",
       "      <th>reviewerName</th>\n",
       "      <th>helpful</th>\n",
       "      <th>reviewText</th>\n",
       "      <th>overall</th>\n",
       "      <th>summary</th>\n",
       "      <th>unixReviewTime</th>\n",
       "      <th>reviewTime</th>\n",
       "      <th>day_diff</th>\n",
       "      <th>helpful_yes</th>\n",
       "      <th>total_vote</th>\n",
       "      <th>days</th>\n",
       "      <th>days_cat</th>\n",
       "      <th>helpful_no</th>\n",
       "      <th>score_pos_nef_diff</th>\n",
       "      <th>score_average_rating</th>\n",
       "      <th>wilson_lower_bound</th>\n",
       "    </tr>\n",
       "  </thead>\n",
       "  <tbody>\n",
       "    <tr>\n",
       "      <th>4277</th>\n",
       "      <td>A35KXSU6AD1481</td>\n",
       "      <td>B007WTAJTO</td>\n",
       "      <td>S. Q.</td>\n",
       "      <td>[1, 1]</td>\n",
       "      <td>I have a galaxy note II and after rooting I no...</td>\n",
       "      <td>5.00</td>\n",
       "      <td>Perfect!!</td>\n",
       "      <td>1355875200</td>\n",
       "      <td>2012-12-19</td>\n",
       "      <td>719</td>\n",
       "      <td>1</td>\n",
       "      <td>1</td>\n",
       "      <td>718</td>\n",
       "      <td>(600.0, 1063.0]</td>\n",
       "      <td>0</td>\n",
       "      <td>1</td>\n",
       "      <td>1.00</td>\n",
       "      <td>0.21</td>\n",
       "    </tr>\n",
       "    <tr>\n",
       "      <th>2881</th>\n",
       "      <td>A3VSG5X7GPNNW6</td>\n",
       "      <td>B007WTAJTO</td>\n",
       "      <td>Lou Thomas</td>\n",
       "      <td>[1, 1]</td>\n",
       "      <td>The Nexus One is listed as supporting a maximu...</td>\n",
       "      <td>5.00</td>\n",
       "      <td>Nexus One Loves This Card!</td>\n",
       "      <td>1349049600</td>\n",
       "      <td>2012-01-10</td>\n",
       "      <td>1063</td>\n",
       "      <td>1</td>\n",
       "      <td>1</td>\n",
       "      <td>1062</td>\n",
       "      <td>(600.0, 1063.0]</td>\n",
       "      <td>0</td>\n",
       "      <td>1</td>\n",
       "      <td>1.00</td>\n",
       "      <td>0.21</td>\n",
       "    </tr>\n",
       "    <tr>\n",
       "      <th>1073</th>\n",
       "      <td>A2ZXEKQ2OBZLEE</td>\n",
       "      <td>B007WTAJTO</td>\n",
       "      <td>C. Sanchez</td>\n",
       "      <td>[1, 1]</td>\n",
       "      <td>I used it with my Samsung S4 and it works grea...</td>\n",
       "      <td>5.00</td>\n",
       "      <td>Tons of space for phone</td>\n",
       "      <td>1376352000</td>\n",
       "      <td>2013-08-13</td>\n",
       "      <td>482</td>\n",
       "      <td>1</td>\n",
       "      <td>1</td>\n",
       "      <td>481</td>\n",
       "      <td>(430.0, 600.0]</td>\n",
       "      <td>0</td>\n",
       "      <td>1</td>\n",
       "      <td>1.00</td>\n",
       "      <td>0.21</td>\n",
       "    </tr>\n",
       "    <tr>\n",
       "      <th>445</th>\n",
       "      <td>AIWBDRNBODLEA</td>\n",
       "      <td>B007WTAJTO</td>\n",
       "      <td>Apache \"Elizabeth\"</td>\n",
       "      <td>[1, 1]</td>\n",
       "      <td>This is exactly what I was looking for to upgr...</td>\n",
       "      <td>4.00</td>\n",
       "      <td>Amazon Great Prices</td>\n",
       "      <td>1387324800</td>\n",
       "      <td>2013-12-18</td>\n",
       "      <td>355</td>\n",
       "      <td>1</td>\n",
       "      <td>1</td>\n",
       "      <td>354</td>\n",
       "      <td>(280.0, 430.0]</td>\n",
       "      <td>0</td>\n",
       "      <td>1</td>\n",
       "      <td>1.00</td>\n",
       "      <td>0.21</td>\n",
       "    </tr>\n",
       "    <tr>\n",
       "      <th>3923</th>\n",
       "      <td>A2PH4RGYVR34L</td>\n",
       "      <td>B007WTAJTO</td>\n",
       "      <td>Rock Your Roots</td>\n",
       "      <td>[1, 1]</td>\n",
       "      <td>It's a SanDisk, so what more is there to say? ...</td>\n",
       "      <td>5.00</td>\n",
       "      <td>What more to say?</td>\n",
       "      <td>1388361600</td>\n",
       "      <td>2013-12-30</td>\n",
       "      <td>343</td>\n",
       "      <td>1</td>\n",
       "      <td>1</td>\n",
       "      <td>342</td>\n",
       "      <td>(280.0, 430.0]</td>\n",
       "      <td>0</td>\n",
       "      <td>1</td>\n",
       "      <td>1.00</td>\n",
       "      <td>0.21</td>\n",
       "    </tr>\n",
       "    <tr>\n",
       "      <th>435</th>\n",
       "      <td>AUH8I22ITG020</td>\n",
       "      <td>B007WTAJTO</td>\n",
       "      <td>Anthony L cate</td>\n",
       "      <td>[1, 1]</td>\n",
       "      <td>This is working great in my AT&amp;T Galaxy Note. ...</td>\n",
       "      <td>5.00</td>\n",
       "      <td>Love the extra storage</td>\n",
       "      <td>1343088000</td>\n",
       "      <td>2012-07-24</td>\n",
       "      <td>867</td>\n",
       "      <td>1</td>\n",
       "      <td>1</td>\n",
       "      <td>866</td>\n",
       "      <td>(600.0, 1063.0]</td>\n",
       "      <td>0</td>\n",
       "      <td>1</td>\n",
       "      <td>1.00</td>\n",
       "      <td>0.21</td>\n",
       "    </tr>\n",
       "    <tr>\n",
       "      <th>2901</th>\n",
       "      <td>A28TRYU3FJ039C</td>\n",
       "      <td>B007WTAJTO</td>\n",
       "      <td>luis</td>\n",
       "      <td>[1, 1]</td>\n",
       "      <td>Not a good typer or speller :) here is what I ...</td>\n",
       "      <td>5.00</td>\n",
       "      <td>Awesome and fast  card :)</td>\n",
       "      <td>1368403200</td>\n",
       "      <td>2013-05-13</td>\n",
       "      <td>574</td>\n",
       "      <td>1</td>\n",
       "      <td>1</td>\n",
       "      <td>573</td>\n",
       "      <td>(430.0, 600.0]</td>\n",
       "      <td>0</td>\n",
       "      <td>1</td>\n",
       "      <td>1.00</td>\n",
       "      <td>0.21</td>\n",
       "    </tr>\n",
       "    <tr>\n",
       "      <th>2204</th>\n",
       "      <td>AANX2UN8NPE22</td>\n",
       "      <td>B007WTAJTO</td>\n",
       "      <td>jbwam \"jbwam\"</td>\n",
       "      <td>[1, 1]</td>\n",
       "      <td>I just called Sandisk and they say they have a...</td>\n",
       "      <td>2.00</td>\n",
       "      <td>Sandisk will replace failures due to bad batch...</td>\n",
       "      <td>1371168000</td>\n",
       "      <td>2013-06-14</td>\n",
       "      <td>542</td>\n",
       "      <td>1</td>\n",
       "      <td>1</td>\n",
       "      <td>541</td>\n",
       "      <td>(430.0, 600.0]</td>\n",
       "      <td>0</td>\n",
       "      <td>1</td>\n",
       "      <td>1.00</td>\n",
       "      <td>0.21</td>\n",
       "    </tr>\n",
       "    <tr>\n",
       "      <th>2206</th>\n",
       "      <td>A3KO3964CNP0XN</td>\n",
       "      <td>B007WTAJTO</td>\n",
       "      <td>JCBiker</td>\n",
       "      <td>[1, 1]</td>\n",
       "      <td>I bought this for my garmin virb action cam.  ...</td>\n",
       "      <td>5.00</td>\n",
       "      <td>Great card</td>\n",
       "      <td>1383177600</td>\n",
       "      <td>2013-10-31</td>\n",
       "      <td>403</td>\n",
       "      <td>1</td>\n",
       "      <td>1</td>\n",
       "      <td>402</td>\n",
       "      <td>(280.0, 430.0]</td>\n",
       "      <td>0</td>\n",
       "      <td>1</td>\n",
       "      <td>1.00</td>\n",
       "      <td>0.21</td>\n",
       "    </tr>\n",
       "    <tr>\n",
       "      <th>3408</th>\n",
       "      <td>A20WUUD9EDWY4N</td>\n",
       "      <td>B007WTAJTO</td>\n",
       "      <td>Neng Vang \"Neng2012\"</td>\n",
       "      <td>[1, 1]</td>\n",
       "      <td>Very good card and still working now in my car...</td>\n",
       "      <td>5.00</td>\n",
       "      <td>working no problem</td>\n",
       "      <td>1374710400</td>\n",
       "      <td>2013-07-25</td>\n",
       "      <td>501</td>\n",
       "      <td>1</td>\n",
       "      <td>1</td>\n",
       "      <td>500</td>\n",
       "      <td>(430.0, 600.0]</td>\n",
       "      <td>0</td>\n",
       "      <td>1</td>\n",
       "      <td>1.00</td>\n",
       "      <td>0.21</td>\n",
       "    </tr>\n",
       "    <tr>\n",
       "      <th>4538</th>\n",
       "      <td>A2AF4ZAORAOI04</td>\n",
       "      <td>B007WTAJTO</td>\n",
       "      <td>Tim ha</td>\n",
       "      <td>[1, 1]</td>\n",
       "      <td>There is a speed penalty if exfat is used as o...</td>\n",
       "      <td>4.00</td>\n",
       "      <td>Decent speed for the card this size</td>\n",
       "      <td>1398384000</td>\n",
       "      <td>2014-04-25</td>\n",
       "      <td>227</td>\n",
       "      <td>1</td>\n",
       "      <td>1</td>\n",
       "      <td>226</td>\n",
       "      <td>(-0.001, 280.0]</td>\n",
       "      <td>0</td>\n",
       "      <td>1</td>\n",
       "      <td>1.00</td>\n",
       "      <td>0.21</td>\n",
       "    </tr>\n",
       "    <tr>\n",
       "      <th>1097</th>\n",
       "      <td>A28I19GM9HQ7IS</td>\n",
       "      <td>B007WTAJTO</td>\n",
       "      <td>Cyrus C. Cha \"moss\"</td>\n",
       "      <td>[1, 1]</td>\n",
       "      <td>My wife and I just upgraded our phone to Note ...</td>\n",
       "      <td>4.00</td>\n",
       "      <td>More space for Note 3</td>\n",
       "      <td>1381708800</td>\n",
       "      <td>2013-10-14</td>\n",
       "      <td>420</td>\n",
       "      <td>1</td>\n",
       "      <td>1</td>\n",
       "      <td>419</td>\n",
       "      <td>(280.0, 430.0]</td>\n",
       "      <td>0</td>\n",
       "      <td>1</td>\n",
       "      <td>1.00</td>\n",
       "      <td>0.21</td>\n",
       "    </tr>\n",
       "    <tr>\n",
       "      <th>2885</th>\n",
       "      <td>A3ABVT2M5M6IKE</td>\n",
       "      <td>B007WTAJTO</td>\n",
       "      <td>L. P. Nugaliyadda \"Pramod\"</td>\n",
       "      <td>[1, 1]</td>\n",
       "      <td>Superb! No complains what so ever. I bought th...</td>\n",
       "      <td>5.00</td>\n",
       "      <td>Excellent!</td>\n",
       "      <td>1395360000</td>\n",
       "      <td>2014-03-21</td>\n",
       "      <td>262</td>\n",
       "      <td>1</td>\n",
       "      <td>1</td>\n",
       "      <td>261</td>\n",
       "      <td>(-0.001, 280.0]</td>\n",
       "      <td>0</td>\n",
       "      <td>1</td>\n",
       "      <td>1.00</td>\n",
       "      <td>0.21</td>\n",
       "    </tr>\n",
       "    <tr>\n",
       "      <th>3418</th>\n",
       "      <td>A2IL8EBLBZJUEG</td>\n",
       "      <td>B007WTAJTO</td>\n",
       "      <td>Ni'anhel Moore</td>\n",
       "      <td>[1, 1]</td>\n",
       "      <td>There's really not much to say. I put it right...</td>\n",
       "      <td>5.00</td>\n",
       "      <td>Works Great</td>\n",
       "      <td>1388448000</td>\n",
       "      <td>2013-12-31</td>\n",
       "      <td>342</td>\n",
       "      <td>1</td>\n",
       "      <td>1</td>\n",
       "      <td>341</td>\n",
       "      <td>(280.0, 430.0]</td>\n",
       "      <td>0</td>\n",
       "      <td>1</td>\n",
       "      <td>1.00</td>\n",
       "      <td>0.21</td>\n",
       "    </tr>\n",
       "    <tr>\n",
       "      <th>4554</th>\n",
       "      <td>A202CZ4PJH83G4</td>\n",
       "      <td>B007WTAJTO</td>\n",
       "      <td>Tinfoot</td>\n",
       "      <td>[1, 1]</td>\n",
       "      <td>Has worked like an absolute charm in my PSP, a...</td>\n",
       "      <td>5.00</td>\n",
       "      <td>PSP 3000</td>\n",
       "      <td>1391817600</td>\n",
       "      <td>2014-08-02</td>\n",
       "      <td>128</td>\n",
       "      <td>1</td>\n",
       "      <td>1</td>\n",
       "      <td>127</td>\n",
       "      <td>(-0.001, 280.0]</td>\n",
       "      <td>0</td>\n",
       "      <td>1</td>\n",
       "      <td>1.00</td>\n",
       "      <td>0.21</td>\n",
       "    </tr>\n",
       "    <tr>\n",
       "      <th>1609</th>\n",
       "      <td>A2TPXOZSU1DACQ</td>\n",
       "      <td>B007WTAJTO</td>\n",
       "      <td>Eskimo</td>\n",
       "      <td>[7, 7]</td>\n",
       "      <td>I have always been a sandisk guy.  This cards ...</td>\n",
       "      <td>5.00</td>\n",
       "      <td>Bet you wish you had one of these</td>\n",
       "      <td>1395792000</td>\n",
       "      <td>2014-03-26</td>\n",
       "      <td>257</td>\n",
       "      <td>7</td>\n",
       "      <td>7</td>\n",
       "      <td>256</td>\n",
       "      <td>(-0.001, 280.0]</td>\n",
       "      <td>0</td>\n",
       "      <td>7</td>\n",
       "      <td>1.00</td>\n",
       "      <td>0.65</td>\n",
       "    </tr>\n",
       "    <tr>\n",
       "      <th>402</th>\n",
       "      <td>A342LSQCE5UESO</td>\n",
       "      <td>B007WTAJTO</td>\n",
       "      <td>Andrew R. Seiler \"bookfish\"</td>\n",
       "      <td>[1, 1]</td>\n",
       "      <td>Arrived in manufacturers packaging so it looke...</td>\n",
       "      <td>5.00</td>\n",
       "      <td>great, works well with galaxy s3</td>\n",
       "      <td>1348531200</td>\n",
       "      <td>2012-09-25</td>\n",
       "      <td>804</td>\n",
       "      <td>1</td>\n",
       "      <td>1</td>\n",
       "      <td>803</td>\n",
       "      <td>(600.0, 1063.0]</td>\n",
       "      <td>0</td>\n",
       "      <td>1</td>\n",
       "      <td>1.00</td>\n",
       "      <td>0.21</td>\n",
       "    </tr>\n",
       "    <tr>\n",
       "      <th>2226</th>\n",
       "      <td>AZKN9KO2ECFFZ</td>\n",
       "      <td>B007WTAJTO</td>\n",
       "      <td>JEFE</td>\n",
       "      <td>[1, 1]</td>\n",
       "      <td>Put this in the Samsung S5.  Works great.  sto...</td>\n",
       "      <td>5.00</td>\n",
       "      <td>great memory</td>\n",
       "      <td>1402876800</td>\n",
       "      <td>2014-06-16</td>\n",
       "      <td>175</td>\n",
       "      <td>1</td>\n",
       "      <td>1</td>\n",
       "      <td>174</td>\n",
       "      <td>(-0.001, 280.0]</td>\n",
       "      <td>0</td>\n",
       "      <td>1</td>\n",
       "      <td>1.00</td>\n",
       "      <td>0.21</td>\n",
       "    </tr>\n",
       "    <tr>\n",
       "      <th>3901</th>\n",
       "      <td>A15ADZE1K9839O</td>\n",
       "      <td>B007WTAJTO</td>\n",
       "      <td>Roberto K. Cho \"chorobe\"</td>\n",
       "      <td>[1, 1]</td>\n",
       "      <td>UPDATE:I raised my star rating on this from 1 ...</td>\n",
       "      <td>4.00</td>\n",
       "      <td>Good while it lasted! BUT good customer support!</td>\n",
       "      <td>1363737600</td>\n",
       "      <td>2013-03-20</td>\n",
       "      <td>628</td>\n",
       "      <td>1</td>\n",
       "      <td>1</td>\n",
       "      <td>627</td>\n",
       "      <td>(600.0, 1063.0]</td>\n",
       "      <td>0</td>\n",
       "      <td>1</td>\n",
       "      <td>1.00</td>\n",
       "      <td>0.21</td>\n",
       "    </tr>\n",
       "    <tr>\n",
       "      <th>3897</th>\n",
       "      <td>A3DSXJDE6PAXHZ</td>\n",
       "      <td>B007WTAJTO</td>\n",
       "      <td>Robert K. Harvey \"BobH\"</td>\n",
       "      <td>[1, 1]</td>\n",
       "      <td>Its going back because it doesn't meet spec.Te...</td>\n",
       "      <td>2.00</td>\n",
       "      <td>Poor write speed</td>\n",
       "      <td>1385510400</td>\n",
       "      <td>2013-11-27</td>\n",
       "      <td>376</td>\n",
       "      <td>1</td>\n",
       "      <td>1</td>\n",
       "      <td>375</td>\n",
       "      <td>(280.0, 430.0]</td>\n",
       "      <td>0</td>\n",
       "      <td>1</td>\n",
       "      <td>1.00</td>\n",
       "      <td>0.21</td>\n",
       "    </tr>\n",
       "  </tbody>\n",
       "</table>\n",
       "</div>"
      ],
      "text/plain": [
       "          reviewerID        asin                 reviewerName helpful                                         reviewText  overall                                            summary  unixReviewTime reviewTime  day_diff  helpful_yes  total_vote  days         days_cat  helpful_no  score_pos_nef_diff  score_average_rating  wilson_lower_bound\n",
       "4277  A35KXSU6AD1481  B007WTAJTO                        S. Q.  [1, 1]  I have a galaxy note II and after rooting I no...     5.00                                          Perfect!!      1355875200 2012-12-19       719            1           1   718  (600.0, 1063.0]           0                   1                  1.00                0.21\n",
       "2881  A3VSG5X7GPNNW6  B007WTAJTO                   Lou Thomas  [1, 1]  The Nexus One is listed as supporting a maximu...     5.00                         Nexus One Loves This Card!      1349049600 2012-01-10      1063            1           1  1062  (600.0, 1063.0]           0                   1                  1.00                0.21\n",
       "1073  A2ZXEKQ2OBZLEE  B007WTAJTO                   C. Sanchez  [1, 1]  I used it with my Samsung S4 and it works grea...     5.00                            Tons of space for phone      1376352000 2013-08-13       482            1           1   481   (430.0, 600.0]           0                   1                  1.00                0.21\n",
       "445    AIWBDRNBODLEA  B007WTAJTO           Apache \"Elizabeth\"  [1, 1]  This is exactly what I was looking for to upgr...     4.00                                Amazon Great Prices      1387324800 2013-12-18       355            1           1   354   (280.0, 430.0]           0                   1                  1.00                0.21\n",
       "3923   A2PH4RGYVR34L  B007WTAJTO              Rock Your Roots  [1, 1]  It's a SanDisk, so what more is there to say? ...     5.00                                  What more to say?      1388361600 2013-12-30       343            1           1   342   (280.0, 430.0]           0                   1                  1.00                0.21\n",
       "435    AUH8I22ITG020  B007WTAJTO               Anthony L cate  [1, 1]  This is working great in my AT&T Galaxy Note. ...     5.00                             Love the extra storage      1343088000 2012-07-24       867            1           1   866  (600.0, 1063.0]           0                   1                  1.00                0.21\n",
       "2901  A28TRYU3FJ039C  B007WTAJTO                         luis  [1, 1]  Not a good typer or speller :) here is what I ...     5.00                          Awesome and fast  card :)      1368403200 2013-05-13       574            1           1   573   (430.0, 600.0]           0                   1                  1.00                0.21\n",
       "2204   AANX2UN8NPE22  B007WTAJTO                jbwam \"jbwam\"  [1, 1]  I just called Sandisk and they say they have a...     2.00  Sandisk will replace failures due to bad batch...      1371168000 2013-06-14       542            1           1   541   (430.0, 600.0]           0                   1                  1.00                0.21\n",
       "2206  A3KO3964CNP0XN  B007WTAJTO                      JCBiker  [1, 1]  I bought this for my garmin virb action cam.  ...     5.00                                         Great card      1383177600 2013-10-31       403            1           1   402   (280.0, 430.0]           0                   1                  1.00                0.21\n",
       "3408  A20WUUD9EDWY4N  B007WTAJTO         Neng Vang \"Neng2012\"  [1, 1]  Very good card and still working now in my car...     5.00                                 working no problem      1374710400 2013-07-25       501            1           1   500   (430.0, 600.0]           0                   1                  1.00                0.21\n",
       "4538  A2AF4ZAORAOI04  B007WTAJTO                       Tim ha  [1, 1]  There is a speed penalty if exfat is used as o...     4.00                Decent speed for the card this size      1398384000 2014-04-25       227            1           1   226  (-0.001, 280.0]           0                   1                  1.00                0.21\n",
       "1097  A28I19GM9HQ7IS  B007WTAJTO          Cyrus C. Cha \"moss\"  [1, 1]  My wife and I just upgraded our phone to Note ...     4.00                              More space for Note 3      1381708800 2013-10-14       420            1           1   419   (280.0, 430.0]           0                   1                  1.00                0.21\n",
       "2885  A3ABVT2M5M6IKE  B007WTAJTO   L. P. Nugaliyadda \"Pramod\"  [1, 1]  Superb! No complains what so ever. I bought th...     5.00                                         Excellent!      1395360000 2014-03-21       262            1           1   261  (-0.001, 280.0]           0                   1                  1.00                0.21\n",
       "3418  A2IL8EBLBZJUEG  B007WTAJTO               Ni'anhel Moore  [1, 1]  There's really not much to say. I put it right...     5.00                                        Works Great      1388448000 2013-12-31       342            1           1   341   (280.0, 430.0]           0                   1                  1.00                0.21\n",
       "4554  A202CZ4PJH83G4  B007WTAJTO                      Tinfoot  [1, 1]  Has worked like an absolute charm in my PSP, a...     5.00                                           PSP 3000      1391817600 2014-08-02       128            1           1   127  (-0.001, 280.0]           0                   1                  1.00                0.21\n",
       "1609  A2TPXOZSU1DACQ  B007WTAJTO                       Eskimo  [7, 7]  I have always been a sandisk guy.  This cards ...     5.00                  Bet you wish you had one of these      1395792000 2014-03-26       257            7           7   256  (-0.001, 280.0]           0                   7                  1.00                0.65\n",
       "402   A342LSQCE5UESO  B007WTAJTO  Andrew R. Seiler \"bookfish\"  [1, 1]  Arrived in manufacturers packaging so it looke...     5.00                   great, works well with galaxy s3      1348531200 2012-09-25       804            1           1   803  (600.0, 1063.0]           0                   1                  1.00                0.21\n",
       "2226   AZKN9KO2ECFFZ  B007WTAJTO                         JEFE  [1, 1]  Put this in the Samsung S5.  Works great.  sto...     5.00                                       great memory      1402876800 2014-06-16       175            1           1   174  (-0.001, 280.0]           0                   1                  1.00                0.21\n",
       "3901  A15ADZE1K9839O  B007WTAJTO     Roberto K. Cho \"chorobe\"  [1, 1]  UPDATE:I raised my star rating on this from 1 ...     4.00   Good while it lasted! BUT good customer support!      1363737600 2013-03-20       628            1           1   627  (600.0, 1063.0]           0                   1                  1.00                0.21\n",
       "3897  A3DSXJDE6PAXHZ  B007WTAJTO      Robert K. Harvey \"BobH\"  [1, 1]  Its going back because it doesn't meet spec.Te...     2.00                                   Poor write speed      1385510400 2013-11-27       376            1           1   375   (280.0, 430.0]           0                   1                  1.00                0.21"
      ]
     },
     "execution_count": 29,
     "metadata": {},
     "output_type": "execute_result"
    }
   ],
   "source": [
    "# sorting the results according to the variable score_average_rating\n",
    "df.sort_values('score_average_rating', ascending=False).head(20)"
   ]
  }
 ],
 "metadata": {
  "kernelspec": {
   "display_name": "Python 3",
   "language": "python",
   "name": "python3"
  },
  "language_info": {
   "codemirror_mode": {
    "name": "ipython",
    "version": 3
   },
   "file_extension": ".py",
   "mimetype": "text/x-python",
   "name": "python",
   "nbconvert_exporter": "python",
   "pygments_lexer": "ipython3",
   "version": "3.7.12"
  },
  "papermill": {
   "default_parameters": {},
   "duration": 13.045183,
   "end_time": "2022-10-31T20:54:31.733551",
   "environment_variables": {},
   "exception": null,
   "input_path": "__notebook__.ipynb",
   "output_path": "__notebook__.ipynb",
   "parameters": {},
   "start_time": "2022-10-31T20:54:18.688368",
   "version": "2.3.4"
  }
 },
 "nbformat": 4,
 "nbformat_minor": 5
}
