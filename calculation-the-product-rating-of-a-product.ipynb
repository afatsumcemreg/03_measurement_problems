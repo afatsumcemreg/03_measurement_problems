{
 "cells": [
  {
   "cell_type": "markdown",
   "id": "dcec27ff",
   "metadata": {
    "papermill": {
     "duration": 0.009935,
     "end_time": "2022-11-23T00:54:14.715859",
     "exception": false,
     "start_time": "2022-11-23T00:54:14.705924",
     "status": "completed"
    },
    "tags": []
   },
   "source": [
    "# **An application for calculating the product rating over the ratings given to a product**\n",
    "\n",
    "# Story of the dataset\n",
    "### (50+ Hours) Python A-Z™: Data Science and Machine Learning\n",
    "### Rating: 4.8 (4.764925)\n",
    "### Total Rating: 4611\n",
    "### Score Percentages: 75, 20, 4, 1, <1\n",
    "### Approximate Numerical Equivalents: 3458, 922, 184, 46, 6"
   ]
  },
  {
   "cell_type": "markdown",
   "id": "0507e1e1",
   "metadata": {
    "papermill": {
     "duration": 0.009953,
     "end_time": "2022-11-23T00:54:14.734897",
     "exception": false,
     "start_time": "2022-11-23T00:54:14.724944",
     "status": "completed"
    },
    "tags": []
   },
   "source": [
    "# Importing libraries"
   ]
  },
  {
   "cell_type": "code",
   "execution_count": 1,
   "id": "635cf4c4",
   "metadata": {
    "_cell_guid": "b1076dfc-b9ad-4769-8c92-a6c4dae69d19",
    "_uuid": "8f2839f25d086af736a60e9eeb907d3b93b6e0e5",
    "execution": {
     "iopub.execute_input": "2022-11-23T00:54:14.754628Z",
     "iopub.status.busy": "2022-11-23T00:54:14.753953Z",
     "iopub.status.idle": "2022-11-23T00:54:15.648048Z",
     "shell.execute_reply": "2022-11-23T00:54:15.646293Z"
    },
    "papermill": {
     "duration": 0.907317,
     "end_time": "2022-11-23T00:54:15.651046",
     "exception": false,
     "start_time": "2022-11-23T00:54:14.743729",
     "status": "completed"
    },
    "tags": []
   },
   "outputs": [],
   "source": [
    "import pandas as pd\n",
    "import math\n",
    "import datetime as dt\n",
    "import scipy.stats as st\n",
    "from sklearn.preprocessing import MinMaxScaler\n",
    "pd.set_option('display.max_columns', None)\n",
    "pd.set_option('display.max_rows', None)\n",
    "pd.set_option('display.width', 500)\n",
    "pd.set_option('display.expand_frame_repr', False)\n",
    "pd.set_option('display.float_format', lambda x: '%.2f' % x)"
   ]
  },
  {
   "cell_type": "markdown",
   "id": "daf65cf2",
   "metadata": {
    "papermill": {
     "duration": 0.008898,
     "end_time": "2022-11-23T00:54:15.669429",
     "exception": false,
     "start_time": "2022-11-23T00:54:15.660531",
     "status": "completed"
    },
    "tags": []
   },
   "source": [
    "# Reading the dataset"
   ]
  },
  {
   "cell_type": "code",
   "execution_count": 2,
   "id": "564ed1d0",
   "metadata": {
    "execution": {
     "iopub.execute_input": "2022-11-23T00:54:15.689545Z",
     "iopub.status.busy": "2022-11-23T00:54:15.689187Z",
     "iopub.status.idle": "2022-11-23T00:54:15.735589Z",
     "shell.execute_reply": "2022-11-23T00:54:15.734207Z"
    },
    "papermill": {
     "duration": 0.059149,
     "end_time": "2022-11-23T00:54:15.737810",
     "exception": false,
     "start_time": "2022-11-23T00:54:15.678661",
     "status": "completed"
    },
    "tags": []
   },
   "outputs": [
    {
     "data": {
      "text/html": [
       "<div>\n",
       "<style scoped>\n",
       "    .dataframe tbody tr th:only-of-type {\n",
       "        vertical-align: middle;\n",
       "    }\n",
       "\n",
       "    .dataframe tbody tr th {\n",
       "        vertical-align: top;\n",
       "    }\n",
       "\n",
       "    .dataframe thead th {\n",
       "        text-align: right;\n",
       "    }\n",
       "</style>\n",
       "<table border=\"1\" class=\"dataframe\">\n",
       "  <thead>\n",
       "    <tr style=\"text-align: right;\">\n",
       "      <th></th>\n",
       "      <th>rating</th>\n",
       "      <th>timestamp</th>\n",
       "      <th>enrolled</th>\n",
       "      <th>progress</th>\n",
       "      <th>questions asked</th>\n",
       "      <th>questions answered</th>\n",
       "    </tr>\n",
       "  </thead>\n",
       "  <tbody>\n",
       "    <tr>\n",
       "      <th>0</th>\n",
       "      <td>5.00</td>\n",
       "      <td>2021-02-05 07:45:55</td>\n",
       "      <td>2021-01-25 15:12:08</td>\n",
       "      <td>5.00</td>\n",
       "      <td>0.00</td>\n",
       "      <td>0.00</td>\n",
       "    </tr>\n",
       "    <tr>\n",
       "      <th>1</th>\n",
       "      <td>5.00</td>\n",
       "      <td>2021-02-04 21:05:32</td>\n",
       "      <td>2021-02-04 20:43:40</td>\n",
       "      <td>1.00</td>\n",
       "      <td>0.00</td>\n",
       "      <td>0.00</td>\n",
       "    </tr>\n",
       "    <tr>\n",
       "      <th>2</th>\n",
       "      <td>4.50</td>\n",
       "      <td>2021-02-04 20:34:03</td>\n",
       "      <td>2019-07-04 23:23:27</td>\n",
       "      <td>1.00</td>\n",
       "      <td>0.00</td>\n",
       "      <td>0.00</td>\n",
       "    </tr>\n",
       "    <tr>\n",
       "      <th>3</th>\n",
       "      <td>5.00</td>\n",
       "      <td>2021-02-04 16:56:28</td>\n",
       "      <td>2021-02-04 14:41:29</td>\n",
       "      <td>10.00</td>\n",
       "      <td>0.00</td>\n",
       "      <td>0.00</td>\n",
       "    </tr>\n",
       "    <tr>\n",
       "      <th>4</th>\n",
       "      <td>4.00</td>\n",
       "      <td>2021-02-04 15:00:24</td>\n",
       "      <td>2020-10-13 03:10:07</td>\n",
       "      <td>10.00</td>\n",
       "      <td>0.00</td>\n",
       "      <td>0.00</td>\n",
       "    </tr>\n",
       "  </tbody>\n",
       "</table>\n",
       "</div>"
      ],
      "text/plain": [
       "   rating            timestamp             enrolled  progress  questions asked  questions answered\n",
       "0    5.00  2021-02-05 07:45:55  2021-01-25 15:12:08      5.00             0.00                0.00\n",
       "1    5.00  2021-02-04 21:05:32  2021-02-04 20:43:40      1.00             0.00                0.00\n",
       "2    4.50  2021-02-04 20:34:03  2019-07-04 23:23:27      1.00             0.00                0.00\n",
       "3    5.00  2021-02-04 16:56:28  2021-02-04 14:41:29     10.00             0.00                0.00\n",
       "4    4.00  2021-02-04 15:00:24  2020-10-13 03:10:07     10.00             0.00                0.00"
      ]
     },
     "execution_count": 2,
     "metadata": {},
     "output_type": "execute_result"
    }
   ],
   "source": [
    "df = pd.read_csv('/kaggle/input/course-reviews/course_reviews.csv')\n",
    "df.columns = [col.lower() for col in df.columns]\n",
    "df.head()"
   ]
  },
  {
   "cell_type": "markdown",
   "id": "ecda0017",
   "metadata": {
    "papermill": {
     "duration": 0.008909,
     "end_time": "2022-11-23T00:54:15.756161",
     "exception": false,
     "start_time": "2022-11-23T00:54:15.747252",
     "status": "completed"
    },
    "tags": []
   },
   "source": [
    "# Average"
   ]
  },
  {
   "cell_type": "markdown",
   "id": "0e7d7933",
   "metadata": {
    "papermill": {
     "duration": 0.009286,
     "end_time": "2022-11-23T00:54:15.774617",
     "exception": false,
     "start_time": "2022-11-23T00:54:15.765331",
     "status": "completed"
    },
    "tags": []
   },
   "source": [
    "### rating distribution"
   ]
  },
  {
   "cell_type": "code",
   "execution_count": 3,
   "id": "71ac2e0c",
   "metadata": {
    "execution": {
     "iopub.execute_input": "2022-11-23T00:54:15.794972Z",
     "iopub.status.busy": "2022-11-23T00:54:15.794619Z",
     "iopub.status.idle": "2022-11-23T00:54:15.811145Z",
     "shell.execute_reply": "2022-11-23T00:54:15.810393Z"
    },
    "papermill": {
     "duration": 0.028984,
     "end_time": "2022-11-23T00:54:15.813106",
     "exception": false,
     "start_time": "2022-11-23T00:54:15.784122",
     "status": "completed"
    },
    "tags": []
   },
   "outputs": [
    {
     "data": {
      "text/plain": [
       "5.00    3267\n",
       "4.50     475\n",
       "4.00     383\n",
       "3.50      96\n",
       "3.00      62\n",
       "1.00      15\n",
       "2.00      12\n",
       "2.50      11\n",
       "1.50       2\n",
       "Name: rating, dtype: int64"
      ]
     },
     "execution_count": 3,
     "metadata": {},
     "output_type": "execute_result"
    }
   ],
   "source": [
    "df['rating'].value_counts()"
   ]
  },
  {
   "cell_type": "markdown",
   "id": "def303ba",
   "metadata": {
    "papermill": {
     "duration": 0.009,
     "end_time": "2022-11-23T00:54:15.831430",
     "exception": false,
     "start_time": "2022-11-23T00:54:15.822430",
     "status": "completed"
    },
    "tags": []
   },
   "source": [
    "### questions asked distribution"
   ]
  },
  {
   "cell_type": "code",
   "execution_count": 4,
   "id": "14524030",
   "metadata": {
    "execution": {
     "iopub.execute_input": "2022-11-23T00:54:15.851669Z",
     "iopub.status.busy": "2022-11-23T00:54:15.851337Z",
     "iopub.status.idle": "2022-11-23T00:54:15.859185Z",
     "shell.execute_reply": "2022-11-23T00:54:15.858284Z"
    },
    "papermill": {
     "duration": 0.020845,
     "end_time": "2022-11-23T00:54:15.861643",
     "exception": false,
     "start_time": "2022-11-23T00:54:15.840798",
     "status": "completed"
    },
    "tags": []
   },
   "outputs": [
    {
     "data": {
      "text/plain": [
       "0.00     3867\n",
       "1.00      276\n",
       "2.00       80\n",
       "3.00       43\n",
       "4.00       15\n",
       "5.00       13\n",
       "6.00        9\n",
       "8.00        5\n",
       "9.00        3\n",
       "14.00       2\n",
       "11.00       2\n",
       "7.00        2\n",
       "10.00       2\n",
       "15.00       2\n",
       "22.00       1\n",
       "12.00       1\n",
       "Name: questions asked, dtype: int64"
      ]
     },
     "execution_count": 4,
     "metadata": {},
     "output_type": "execute_result"
    }
   ],
   "source": [
    "df['questions asked'].value_counts()"
   ]
  },
  {
   "cell_type": "markdown",
   "id": "56c76c8b",
   "metadata": {
    "papermill": {
     "duration": 0.009991,
     "end_time": "2022-11-23T00:54:15.881503",
     "exception": false,
     "start_time": "2022-11-23T00:54:15.871512",
     "status": "completed"
    },
    "tags": []
   },
   "source": [
    "### get the rating mean in the questions asked breakdown"
   ]
  },
  {
   "cell_type": "code",
   "execution_count": 5,
   "id": "588fc16b",
   "metadata": {
    "execution": {
     "iopub.execute_input": "2022-11-23T00:54:15.903775Z",
     "iopub.status.busy": "2022-11-23T00:54:15.903140Z",
     "iopub.status.idle": "2022-11-23T00:54:15.926950Z",
     "shell.execute_reply": "2022-11-23T00:54:15.925971Z"
    },
    "papermill": {
     "duration": 0.036618,
     "end_time": "2022-11-23T00:54:15.929160",
     "exception": false,
     "start_time": "2022-11-23T00:54:15.892542",
     "status": "completed"
    },
    "tags": []
   },
   "outputs": [
    {
     "data": {
      "text/html": [
       "<div>\n",
       "<style scoped>\n",
       "    .dataframe tbody tr th:only-of-type {\n",
       "        vertical-align: middle;\n",
       "    }\n",
       "\n",
       "    .dataframe tbody tr th {\n",
       "        vertical-align: top;\n",
       "    }\n",
       "\n",
       "    .dataframe thead th {\n",
       "        text-align: right;\n",
       "    }\n",
       "</style>\n",
       "<table border=\"1\" class=\"dataframe\">\n",
       "  <thead>\n",
       "    <tr style=\"text-align: right;\">\n",
       "      <th></th>\n",
       "      <th>questions asked</th>\n",
       "      <th>rating</th>\n",
       "    </tr>\n",
       "    <tr>\n",
       "      <th>questions asked</th>\n",
       "      <th></th>\n",
       "      <th></th>\n",
       "    </tr>\n",
       "  </thead>\n",
       "  <tbody>\n",
       "    <tr>\n",
       "      <th>0.00</th>\n",
       "      <td>3867</td>\n",
       "      <td>4.77</td>\n",
       "    </tr>\n",
       "    <tr>\n",
       "      <th>1.00</th>\n",
       "      <td>276</td>\n",
       "      <td>4.74</td>\n",
       "    </tr>\n",
       "    <tr>\n",
       "      <th>2.00</th>\n",
       "      <td>80</td>\n",
       "      <td>4.81</td>\n",
       "    </tr>\n",
       "    <tr>\n",
       "      <th>3.00</th>\n",
       "      <td>43</td>\n",
       "      <td>4.74</td>\n",
       "    </tr>\n",
       "    <tr>\n",
       "      <th>4.00</th>\n",
       "      <td>15</td>\n",
       "      <td>4.83</td>\n",
       "    </tr>\n",
       "    <tr>\n",
       "      <th>5.00</th>\n",
       "      <td>13</td>\n",
       "      <td>4.65</td>\n",
       "    </tr>\n",
       "    <tr>\n",
       "      <th>6.00</th>\n",
       "      <td>9</td>\n",
       "      <td>5.00</td>\n",
       "    </tr>\n",
       "    <tr>\n",
       "      <th>7.00</th>\n",
       "      <td>2</td>\n",
       "      <td>4.75</td>\n",
       "    </tr>\n",
       "    <tr>\n",
       "      <th>8.00</th>\n",
       "      <td>5</td>\n",
       "      <td>4.90</td>\n",
       "    </tr>\n",
       "    <tr>\n",
       "      <th>9.00</th>\n",
       "      <td>3</td>\n",
       "      <td>5.00</td>\n",
       "    </tr>\n",
       "    <tr>\n",
       "      <th>10.00</th>\n",
       "      <td>2</td>\n",
       "      <td>5.00</td>\n",
       "    </tr>\n",
       "    <tr>\n",
       "      <th>11.00</th>\n",
       "      <td>2</td>\n",
       "      <td>5.00</td>\n",
       "    </tr>\n",
       "    <tr>\n",
       "      <th>12.00</th>\n",
       "      <td>1</td>\n",
       "      <td>5.00</td>\n",
       "    </tr>\n",
       "    <tr>\n",
       "      <th>14.00</th>\n",
       "      <td>2</td>\n",
       "      <td>4.50</td>\n",
       "    </tr>\n",
       "    <tr>\n",
       "      <th>15.00</th>\n",
       "      <td>2</td>\n",
       "      <td>3.00</td>\n",
       "    </tr>\n",
       "    <tr>\n",
       "      <th>22.00</th>\n",
       "      <td>1</td>\n",
       "      <td>5.00</td>\n",
       "    </tr>\n",
       "  </tbody>\n",
       "</table>\n",
       "</div>"
      ],
      "text/plain": [
       "                 questions asked  rating\n",
       "questions asked                         \n",
       "0.00                        3867    4.77\n",
       "1.00                         276    4.74\n",
       "2.00                          80    4.81\n",
       "3.00                          43    4.74\n",
       "4.00                          15    4.83\n",
       "5.00                          13    4.65\n",
       "6.00                           9    5.00\n",
       "7.00                           2    4.75\n",
       "8.00                           5    4.90\n",
       "9.00                           3    5.00\n",
       "10.00                          2    5.00\n",
       "11.00                          2    5.00\n",
       "12.00                          1    5.00\n",
       "14.00                          2    4.50\n",
       "15.00                          2    3.00\n",
       "22.00                          1    5.00"
      ]
     },
     "execution_count": 5,
     "metadata": {},
     "output_type": "execute_result"
    }
   ],
   "source": [
    "df.groupby('questions asked').agg({\n",
    "    'questions asked': 'count',\n",
    "    'rating': 'mean'})"
   ]
  },
  {
   "cell_type": "markdown",
   "id": "4b6cf80a",
   "metadata": {
    "papermill": {
     "duration": 0.010111,
     "end_time": "2022-11-23T00:54:15.951986",
     "exception": false,
     "start_time": "2022-11-23T00:54:15.941875",
     "status": "completed"
    },
    "tags": []
   },
   "source": [
    "### get the rating mean"
   ]
  },
  {
   "cell_type": "code",
   "execution_count": 6,
   "id": "65f2c8f8",
   "metadata": {
    "execution": {
     "iopub.execute_input": "2022-11-23T00:54:15.976488Z",
     "iopub.status.busy": "2022-11-23T00:54:15.975790Z",
     "iopub.status.idle": "2022-11-23T00:54:15.984593Z",
     "shell.execute_reply": "2022-11-23T00:54:15.983176Z"
    },
    "papermill": {
     "duration": 0.024934,
     "end_time": "2022-11-23T00:54:15.986936",
     "exception": false,
     "start_time": "2022-11-23T00:54:15.962002",
     "status": "completed"
    },
    "tags": []
   },
   "outputs": [
    {
     "data": {
      "text/plain": [
       "4.764284061993986"
      ]
     },
     "execution_count": 6,
     "metadata": {},
     "output_type": "execute_result"
    }
   ],
   "source": [
    "df['rating'].mean()"
   ]
  },
  {
   "cell_type": "markdown",
   "id": "c0b4a506",
   "metadata": {
    "papermill": {
     "duration": 0.009489,
     "end_time": "2022-11-23T00:54:16.006578",
     "exception": false,
     "start_time": "2022-11-23T00:54:15.997089",
     "status": "completed"
    },
    "tags": []
   },
   "source": [
    "# Time-based weighted average"
   ]
  },
  {
   "cell_type": "markdown",
   "id": "584445b9",
   "metadata": {
    "papermill": {
     "duration": 0.009814,
     "end_time": "2022-11-23T00:54:16.027094",
     "exception": false,
     "start_time": "2022-11-23T00:54:16.017280",
     "status": "completed"
    },
    "tags": []
   },
   "source": [
    "### changing type of the the variable 'timestamp' to 'datetime"
   ]
  },
  {
   "cell_type": "code",
   "execution_count": 7,
   "id": "2da3df69",
   "metadata": {
    "execution": {
     "iopub.execute_input": "2022-11-23T00:54:16.048335Z",
     "iopub.status.busy": "2022-11-23T00:54:16.047913Z",
     "iopub.status.idle": "2022-11-23T00:54:16.066711Z",
     "shell.execute_reply": "2022-11-23T00:54:16.065925Z"
    },
    "papermill": {
     "duration": 0.032359,
     "end_time": "2022-11-23T00:54:16.069363",
     "exception": false,
     "start_time": "2022-11-23T00:54:16.037004",
     "status": "completed"
    },
    "tags": []
   },
   "outputs": [
    {
     "name": "stdout",
     "output_type": "stream",
     "text": [
      "<class 'pandas.core.frame.DataFrame'>\n",
      "RangeIndex: 4323 entries, 0 to 4322\n",
      "Data columns (total 6 columns):\n",
      " #   Column              Non-Null Count  Dtype         \n",
      "---  ------              --------------  -----         \n",
      " 0   rating              4323 non-null   float64       \n",
      " 1   timestamp           4323 non-null   datetime64[ns]\n",
      " 2   enrolled            4323 non-null   object        \n",
      " 3   progress            4323 non-null   float64       \n",
      " 4   questions asked     4323 non-null   float64       \n",
      " 5   questions answered  4323 non-null   float64       \n",
      "dtypes: datetime64[ns](1), float64(4), object(1)\n",
      "memory usage: 202.8+ KB\n"
     ]
    }
   ],
   "source": [
    "df['timestamp'] = pd.to_datetime(df['timestamp'])\n",
    "df.info()"
   ]
  },
  {
   "cell_type": "markdown",
   "id": "e8a887c2",
   "metadata": {
    "papermill": {
     "duration": 0.009523,
     "end_time": "2022-11-23T00:54:16.088919",
     "exception": false,
     "start_time": "2022-11-23T00:54:16.079396",
     "status": "completed"
    },
    "tags": []
   },
   "source": [
    "### observing the comments date"
   ]
  },
  {
   "cell_type": "code",
   "execution_count": 8,
   "id": "a974aac7",
   "metadata": {
    "execution": {
     "iopub.execute_input": "2022-11-23T00:54:16.111696Z",
     "iopub.status.busy": "2022-11-23T00:54:16.111110Z",
     "iopub.status.idle": "2022-11-23T00:54:16.124525Z",
     "shell.execute_reply": "2022-11-23T00:54:16.123611Z"
    },
    "papermill": {
     "duration": 0.027628,
     "end_time": "2022-11-23T00:54:16.127262",
     "exception": false,
     "start_time": "2022-11-23T00:54:16.099634",
     "status": "completed"
    },
    "tags": []
   },
   "outputs": [
    {
     "name": "stdout",
     "output_type": "stream",
     "text": [
      "<class 'pandas.core.frame.DataFrame'>\n",
      "RangeIndex: 4323 entries, 0 to 4322\n",
      "Data columns (total 7 columns):\n",
      " #   Column              Non-Null Count  Dtype         \n",
      "---  ------              --------------  -----         \n",
      " 0   rating              4323 non-null   float64       \n",
      " 1   timestamp           4323 non-null   datetime64[ns]\n",
      " 2   enrolled            4323 non-null   object        \n",
      " 3   progress            4323 non-null   float64       \n",
      " 4   questions asked     4323 non-null   float64       \n",
      " 5   questions answered  4323 non-null   float64       \n",
      " 6   days                4323 non-null   int64         \n",
      "dtypes: datetime64[ns](1), float64(4), int64(1), object(1)\n",
      "memory usage: 236.5+ KB\n"
     ]
    }
   ],
   "source": [
    "current_day = pd.to_datetime('2021-02-10 0:0:0')\n",
    "df['days'] = (current_day - df['timestamp']).dt.days\n",
    "df.info()"
   ]
  },
  {
   "cell_type": "markdown",
   "id": "6499a560",
   "metadata": {
    "papermill": {
     "duration": 0.010165,
     "end_time": "2022-11-23T00:54:16.148638",
     "exception": false,
     "start_time": "2022-11-23T00:54:16.138473",
     "status": "completed"
    },
    "tags": []
   },
   "source": [
    "### get the comments in the last 30 days"
   ]
  },
  {
   "cell_type": "code",
   "execution_count": 9,
   "id": "7eda02b9",
   "metadata": {
    "execution": {
     "iopub.execute_input": "2022-11-23T00:54:16.171372Z",
     "iopub.status.busy": "2022-11-23T00:54:16.171034Z",
     "iopub.status.idle": "2022-11-23T00:54:16.186557Z",
     "shell.execute_reply": "2022-11-23T00:54:16.184976Z"
    },
    "papermill": {
     "duration": 0.029384,
     "end_time": "2022-11-23T00:54:16.188501",
     "exception": false,
     "start_time": "2022-11-23T00:54:16.159117",
     "status": "completed"
    },
    "tags": []
   },
   "outputs": [
    {
     "data": {
      "text/html": [
       "<div>\n",
       "<style scoped>\n",
       "    .dataframe tbody tr th:only-of-type {\n",
       "        vertical-align: middle;\n",
       "    }\n",
       "\n",
       "    .dataframe tbody tr th {\n",
       "        vertical-align: top;\n",
       "    }\n",
       "\n",
       "    .dataframe thead th {\n",
       "        text-align: right;\n",
       "    }\n",
       "</style>\n",
       "<table border=\"1\" class=\"dataframe\">\n",
       "  <thead>\n",
       "    <tr style=\"text-align: right;\">\n",
       "      <th></th>\n",
       "      <th>rating</th>\n",
       "      <th>timestamp</th>\n",
       "      <th>enrolled</th>\n",
       "      <th>progress</th>\n",
       "      <th>questions asked</th>\n",
       "      <th>questions answered</th>\n",
       "      <th>days</th>\n",
       "    </tr>\n",
       "  </thead>\n",
       "  <tbody>\n",
       "    <tr>\n",
       "      <th>0</th>\n",
       "      <td>5.00</td>\n",
       "      <td>2021-02-05 07:45:55</td>\n",
       "      <td>2021-01-25 15:12:08</td>\n",
       "      <td>5.00</td>\n",
       "      <td>0.00</td>\n",
       "      <td>0.00</td>\n",
       "      <td>4</td>\n",
       "    </tr>\n",
       "    <tr>\n",
       "      <th>1</th>\n",
       "      <td>5.00</td>\n",
       "      <td>2021-02-04 21:05:32</td>\n",
       "      <td>2021-02-04 20:43:40</td>\n",
       "      <td>1.00</td>\n",
       "      <td>0.00</td>\n",
       "      <td>0.00</td>\n",
       "      <td>5</td>\n",
       "    </tr>\n",
       "    <tr>\n",
       "      <th>2</th>\n",
       "      <td>4.50</td>\n",
       "      <td>2021-02-04 20:34:03</td>\n",
       "      <td>2019-07-04 23:23:27</td>\n",
       "      <td>1.00</td>\n",
       "      <td>0.00</td>\n",
       "      <td>0.00</td>\n",
       "      <td>5</td>\n",
       "    </tr>\n",
       "    <tr>\n",
       "      <th>3</th>\n",
       "      <td>5.00</td>\n",
       "      <td>2021-02-04 16:56:28</td>\n",
       "      <td>2021-02-04 14:41:29</td>\n",
       "      <td>10.00</td>\n",
       "      <td>0.00</td>\n",
       "      <td>0.00</td>\n",
       "      <td>5</td>\n",
       "    </tr>\n",
       "    <tr>\n",
       "      <th>4</th>\n",
       "      <td>4.00</td>\n",
       "      <td>2021-02-04 15:00:24</td>\n",
       "      <td>2020-10-13 03:10:07</td>\n",
       "      <td>10.00</td>\n",
       "      <td>0.00</td>\n",
       "      <td>0.00</td>\n",
       "      <td>5</td>\n",
       "    </tr>\n",
       "  </tbody>\n",
       "</table>\n",
       "</div>"
      ],
      "text/plain": [
       "   rating           timestamp             enrolled  progress  questions asked  questions answered  days\n",
       "0    5.00 2021-02-05 07:45:55  2021-01-25 15:12:08      5.00             0.00                0.00     4\n",
       "1    5.00 2021-02-04 21:05:32  2021-02-04 20:43:40      1.00             0.00                0.00     5\n",
       "2    4.50 2021-02-04 20:34:03  2019-07-04 23:23:27      1.00             0.00                0.00     5\n",
       "3    5.00 2021-02-04 16:56:28  2021-02-04 14:41:29     10.00             0.00                0.00     5\n",
       "4    4.00 2021-02-04 15:00:24  2020-10-13 03:10:07     10.00             0.00                0.00     5"
      ]
     },
     "execution_count": 9,
     "metadata": {},
     "output_type": "execute_result"
    }
   ],
   "source": [
    "df[df['days'] <= 30].head()"
   ]
  },
  {
   "cell_type": "markdown",
   "id": "96804039",
   "metadata": {
    "papermill": {
     "duration": 0.009818,
     "end_time": "2022-11-23T00:54:16.208574",
     "exception": false,
     "start_time": "2022-11-23T00:54:16.198756",
     "status": "completed"
    },
    "tags": []
   },
   "source": [
    "### get the rating counts in the last 30 days"
   ]
  },
  {
   "cell_type": "code",
   "execution_count": 10,
   "id": "7c75230b",
   "metadata": {
    "execution": {
     "iopub.execute_input": "2022-11-23T00:54:16.231565Z",
     "iopub.status.busy": "2022-11-23T00:54:16.230120Z",
     "iopub.status.idle": "2022-11-23T00:54:16.237929Z",
     "shell.execute_reply": "2022-11-23T00:54:16.236786Z"
    },
    "papermill": {
     "duration": 0.021018,
     "end_time": "2022-11-23T00:54:16.239729",
     "exception": false,
     "start_time": "2022-11-23T00:54:16.218711",
     "status": "completed"
    },
    "tags": []
   },
   "outputs": [
    {
     "data": {
      "text/plain": [
       "194"
      ]
     },
     "execution_count": 10,
     "metadata": {},
     "output_type": "execute_result"
    }
   ],
   "source": [
    "df.loc[df['days'] <= 30, 'rating'].count()"
   ]
  },
  {
   "cell_type": "markdown",
   "id": "6d14c231",
   "metadata": {
    "papermill": {
     "duration": 0.009845,
     "end_time": "2022-11-23T00:54:16.259987",
     "exception": false,
     "start_time": "2022-11-23T00:54:16.250142",
     "status": "completed"
    },
    "tags": []
   },
   "source": [
    "### get the average of the ratings in the last 30 days (1. range)"
   ]
  },
  {
   "cell_type": "code",
   "execution_count": 11,
   "id": "e3aa2df1",
   "metadata": {
    "execution": {
     "iopub.execute_input": "2022-11-23T00:54:16.283398Z",
     "iopub.status.busy": "2022-11-23T00:54:16.282172Z",
     "iopub.status.idle": "2022-11-23T00:54:16.289783Z",
     "shell.execute_reply": "2022-11-23T00:54:16.288789Z"
    },
    "papermill": {
     "duration": 0.021759,
     "end_time": "2022-11-23T00:54:16.292178",
     "exception": false,
     "start_time": "2022-11-23T00:54:16.270419",
     "status": "completed"
    },
    "tags": []
   },
   "outputs": [
    {
     "data": {
      "text/plain": [
       "4.775773195876289"
      ]
     },
     "execution_count": 11,
     "metadata": {},
     "output_type": "execute_result"
    }
   ],
   "source": [
    "df.loc[df['days'] <= 30, 'rating'].mean()"
   ]
  },
  {
   "cell_type": "markdown",
   "id": "8e6334d5",
   "metadata": {
    "papermill": {
     "duration": 0.010246,
     "end_time": "2022-11-23T00:54:16.313033",
     "exception": false,
     "start_time": "2022-11-23T00:54:16.302787",
     "status": "completed"
    },
    "tags": []
   },
   "source": [
    "### get the average of the ratings between 30 and 90 days (2. range)"
   ]
  },
  {
   "cell_type": "code",
   "execution_count": 12,
   "id": "32b3879c",
   "metadata": {
    "execution": {
     "iopub.execute_input": "2022-11-23T00:54:16.335927Z",
     "iopub.status.busy": "2022-11-23T00:54:16.335576Z",
     "iopub.status.idle": "2022-11-23T00:54:16.345605Z",
     "shell.execute_reply": "2022-11-23T00:54:16.344253Z"
    },
    "papermill": {
     "duration": 0.02436,
     "end_time": "2022-11-23T00:54:16.347700",
     "exception": false,
     "start_time": "2022-11-23T00:54:16.323340",
     "status": "completed"
    },
    "tags": []
   },
   "outputs": [
    {
     "data": {
      "text/plain": [
       "4.763833992094861"
      ]
     },
     "execution_count": 12,
     "metadata": {},
     "output_type": "execute_result"
    }
   ],
   "source": [
    "df.loc[(df['days'] > 30) & (df['days'] <= 90), 'rating'].mean()"
   ]
  },
  {
   "cell_type": "markdown",
   "id": "66559347",
   "metadata": {
    "papermill": {
     "duration": 0.010548,
     "end_time": "2022-11-23T00:54:16.369133",
     "exception": false,
     "start_time": "2022-11-23T00:54:16.358585",
     "status": "completed"
    },
    "tags": []
   },
   "source": [
    "### get the average of the ratings between 90 and 180 days (3. range)"
   ]
  },
  {
   "cell_type": "code",
   "execution_count": 13,
   "id": "1003955c",
   "metadata": {
    "execution": {
     "iopub.execute_input": "2022-11-23T00:54:16.392199Z",
     "iopub.status.busy": "2022-11-23T00:54:16.391773Z",
     "iopub.status.idle": "2022-11-23T00:54:16.399662Z",
     "shell.execute_reply": "2022-11-23T00:54:16.399050Z"
    },
    "papermill": {
     "duration": 0.021637,
     "end_time": "2022-11-23T00:54:16.401388",
     "exception": false,
     "start_time": "2022-11-23T00:54:16.379751",
     "status": "completed"
    },
    "tags": []
   },
   "outputs": [
    {
     "data": {
      "text/plain": [
       "4.752503576537912"
      ]
     },
     "execution_count": 13,
     "metadata": {},
     "output_type": "execute_result"
    }
   ],
   "source": [
    "df.loc[(df['days'] > 90) & (df['days'] <= 180), 'rating'].mean()"
   ]
  },
  {
   "cell_type": "markdown",
   "id": "344e77ac",
   "metadata": {
    "papermill": {
     "duration": 0.010404,
     "end_time": "2022-11-23T00:54:16.422708",
     "exception": false,
     "start_time": "2022-11-23T00:54:16.412304",
     "status": "completed"
    },
    "tags": []
   },
   "source": [
    "### get the average of the ratings after 180 days (4. range)"
   ]
  },
  {
   "cell_type": "code",
   "execution_count": 14,
   "id": "0ca40c47",
   "metadata": {
    "execution": {
     "iopub.execute_input": "2022-11-23T00:54:16.446488Z",
     "iopub.status.busy": "2022-11-23T00:54:16.445544Z",
     "iopub.status.idle": "2022-11-23T00:54:16.454529Z",
     "shell.execute_reply": "2022-11-23T00:54:16.453175Z"
    },
    "papermill": {
     "duration": 0.023322,
     "end_time": "2022-11-23T00:54:16.456662",
     "exception": false,
     "start_time": "2022-11-23T00:54:16.433340",
     "status": "completed"
    },
    "tags": []
   },
   "outputs": [
    {
     "data": {
      "text/plain": [
       "4.76641586867305"
      ]
     },
     "execution_count": 14,
     "metadata": {},
     "output_type": "execute_result"
    }
   ],
   "source": [
    "df.loc[df['days'] > 180, 'rating'].mean()"
   ]
  },
  {
   "cell_type": "markdown",
   "id": "16b282af",
   "metadata": {
    "papermill": {
     "duration": 0.012285,
     "end_time": "2022-11-23T00:54:16.480154",
     "exception": false,
     "start_time": "2022-11-23T00:54:16.467869",
     "status": "completed"
    },
    "tags": []
   },
   "source": [
    "### Let's consider the following weights\n",
    "### total of the percentages must be 100. \n",
    "* 1.range = 28%\n",
    "* 2.range = 26%\n",
    "* 3.range = 24%\n",
    "* 4.range = 22%"
   ]
  },
  {
   "cell_type": "code",
   "execution_count": 15,
   "id": "1b81c5c6",
   "metadata": {
    "execution": {
     "iopub.execute_input": "2022-11-23T00:54:16.503865Z",
     "iopub.status.busy": "2022-11-23T00:54:16.503448Z",
     "iopub.status.idle": "2022-11-23T00:54:16.517988Z",
     "shell.execute_reply": "2022-11-23T00:54:16.516966Z"
    },
    "papermill": {
     "duration": 0.029136,
     "end_time": "2022-11-23T00:54:16.520387",
     "exception": false,
     "start_time": "2022-11-23T00:54:16.491251",
     "status": "completed"
    },
    "tags": []
   },
   "outputs": [
    {
     "data": {
      "text/plain": [
       "4.765025682267194"
      ]
     },
     "execution_count": 15,
     "metadata": {},
     "output_type": "execute_result"
    }
   ],
   "source": [
    "df.loc[df['days'] <= 30, 'rating'].mean() * 0.28 + \\\n",
    "    df.loc[(df['days'] > 30) & (df['days'] <= 90), 'rating'].mean() * 0.26 + \\\n",
    "        df.loc[(df['days'] > 90) & (df['days'] <= 180), 'rating'].mean() * 0.24 + \\\n",
    "            df.loc[df['days'] > 180, 'rating'].mean() * 0.22"
   ]
  },
  {
   "cell_type": "markdown",
   "id": "1d6bb7d7",
   "metadata": {
    "papermill": {
     "duration": 0.010322,
     "end_time": "2022-11-23T00:54:16.541855",
     "exception": false,
     "start_time": "2022-11-23T00:54:16.531533",
     "status": "completed"
    },
    "tags": []
   },
   "source": [
    "### # functionalization of the above process"
   ]
  },
  {
   "cell_type": "code",
   "execution_count": 16,
   "id": "7a56a7f7",
   "metadata": {
    "execution": {
     "iopub.execute_input": "2022-11-23T00:54:16.565171Z",
     "iopub.status.busy": "2022-11-23T00:54:16.564413Z",
     "iopub.status.idle": "2022-11-23T00:54:16.575916Z",
     "shell.execute_reply": "2022-11-23T00:54:16.574576Z"
    },
    "papermill": {
     "duration": 0.025914,
     "end_time": "2022-11-23T00:54:16.578365",
     "exception": false,
     "start_time": "2022-11-23T00:54:16.552451",
     "status": "completed"
    },
    "tags": []
   },
   "outputs": [
    {
     "data": {
      "text/plain": [
       "4.765025682267194"
      ]
     },
     "execution_count": 16,
     "metadata": {},
     "output_type": "execute_result"
    }
   ],
   "source": [
    "def time_based_weighted_average(dataframe, w1=0.28, w2=0.26, w3=0.24, w4=0.22):\n",
    "    return dataframe.loc[dataframe['days'] <= 30, 'rating'].mean() * w1 + \\\n",
    "        dataframe.loc[(dataframe['days'] > 30) & (dataframe['days'] <= 90), 'rating'].mean() * w2 + \\\n",
    "            dataframe.loc[(dataframe['days'] > 90) & (dataframe['days'] <= 180), 'rating'].mean() * w3 + \\\n",
    "                dataframe.loc[dataframe['days'] > 180, 'rating'].mean() * w4\n",
    "\n",
    "time_based_weighted_average(df)"
   ]
  },
  {
   "cell_type": "markdown",
   "id": "cbad0aed",
   "metadata": {
    "papermill": {
     "duration": 0.010669,
     "end_time": "2022-11-23T00:54:16.600767",
     "exception": false,
     "start_time": "2022-11-23T00:54:16.590098",
     "status": "completed"
    },
    "tags": []
   },
   "source": [
    "### operating the function again by changing the weights"
   ]
  },
  {
   "cell_type": "code",
   "execution_count": 17,
   "id": "98c196d7",
   "metadata": {
    "execution": {
     "iopub.execute_input": "2022-11-23T00:54:16.624827Z",
     "iopub.status.busy": "2022-11-23T00:54:16.623892Z",
     "iopub.status.idle": "2022-11-23T00:54:16.632569Z",
     "shell.execute_reply": "2022-11-23T00:54:16.631739Z"
    },
    "papermill": {
     "duration": 0.023285,
     "end_time": "2022-11-23T00:54:16.635097",
     "exception": false,
     "start_time": "2022-11-23T00:54:16.611812",
     "status": "completed"
    },
    "tags": []
   },
   "outputs": [
    {
     "data": {
      "text/plain": [
       "4.765491074653962"
      ]
     },
     "execution_count": 17,
     "metadata": {},
     "output_type": "execute_result"
    }
   ],
   "source": [
    "time_based_weighted_average(df, w1=0.30, w3=0.22)"
   ]
  },
  {
   "cell_type": "markdown",
   "id": "ae2057e8",
   "metadata": {
    "papermill": {
     "duration": 0.010441,
     "end_time": "2022-11-23T00:54:16.656596",
     "exception": false,
     "start_time": "2022-11-23T00:54:16.646155",
     "status": "completed"
    },
    "tags": []
   },
   "source": [
    "# User-based weighted average"
   ]
  },
  {
   "cell_type": "markdown",
   "id": "473662a6",
   "metadata": {
    "papermill": {
     "duration": 0.010379,
     "end_time": "2022-11-23T00:54:16.677827",
     "exception": false,
     "start_time": "2022-11-23T00:54:16.667448",
     "status": "completed"
    },
    "tags": []
   },
   "source": [
    "### making a weighting related to the given rating according to the progress of the course"
   ]
  },
  {
   "cell_type": "code",
   "execution_count": 18,
   "id": "06b213cf",
   "metadata": {
    "execution": {
     "iopub.execute_input": "2022-11-23T00:54:16.701357Z",
     "iopub.status.busy": "2022-11-23T00:54:16.700676Z",
     "iopub.status.idle": "2022-11-23T00:54:16.714538Z",
     "shell.execute_reply": "2022-11-23T00:54:16.713528Z"
    },
    "papermill": {
     "duration": 0.028383,
     "end_time": "2022-11-23T00:54:16.716919",
     "exception": false,
     "start_time": "2022-11-23T00:54:16.688536",
     "status": "completed"
    },
    "tags": []
   },
   "outputs": [
    {
     "data": {
      "text/html": [
       "<div>\n",
       "<style scoped>\n",
       "    .dataframe tbody tr th:only-of-type {\n",
       "        vertical-align: middle;\n",
       "    }\n",
       "\n",
       "    .dataframe tbody tr th {\n",
       "        vertical-align: top;\n",
       "    }\n",
       "\n",
       "    .dataframe thead th {\n",
       "        text-align: right;\n",
       "    }\n",
       "</style>\n",
       "<table border=\"1\" class=\"dataframe\">\n",
       "  <thead>\n",
       "    <tr style=\"text-align: right;\">\n",
       "      <th></th>\n",
       "      <th>rating</th>\n",
       "    </tr>\n",
       "    <tr>\n",
       "      <th>progress</th>\n",
       "      <th></th>\n",
       "    </tr>\n",
       "  </thead>\n",
       "  <tbody>\n",
       "    <tr>\n",
       "      <th>100.00</th>\n",
       "      <td>4.87</td>\n",
       "    </tr>\n",
       "    <tr>\n",
       "      <th>98.00</th>\n",
       "      <td>5.00</td>\n",
       "    </tr>\n",
       "    <tr>\n",
       "      <th>97.00</th>\n",
       "      <td>5.00</td>\n",
       "    </tr>\n",
       "    <tr>\n",
       "      <th>95.00</th>\n",
       "      <td>4.79</td>\n",
       "    </tr>\n",
       "    <tr>\n",
       "      <th>94.00</th>\n",
       "      <td>5.00</td>\n",
       "    </tr>\n",
       "    <tr>\n",
       "      <th>93.00</th>\n",
       "      <td>4.83</td>\n",
       "    </tr>\n",
       "    <tr>\n",
       "      <th>91.00</th>\n",
       "      <td>5.00</td>\n",
       "    </tr>\n",
       "    <tr>\n",
       "      <th>90.00</th>\n",
       "      <td>4.92</td>\n",
       "    </tr>\n",
       "    <tr>\n",
       "      <th>89.00</th>\n",
       "      <td>4.79</td>\n",
       "    </tr>\n",
       "    <tr>\n",
       "      <th>87.00</th>\n",
       "      <td>5.00</td>\n",
       "    </tr>\n",
       "    <tr>\n",
       "      <th>85.00</th>\n",
       "      <td>4.91</td>\n",
       "    </tr>\n",
       "    <tr>\n",
       "      <th>84.00</th>\n",
       "      <td>5.00</td>\n",
       "    </tr>\n",
       "    <tr>\n",
       "      <th>83.00</th>\n",
       "      <td>5.00</td>\n",
       "    </tr>\n",
       "    <tr>\n",
       "      <th>80.00</th>\n",
       "      <td>4.75</td>\n",
       "    </tr>\n",
       "    <tr>\n",
       "      <th>78.00</th>\n",
       "      <td>5.00</td>\n",
       "    </tr>\n",
       "    <tr>\n",
       "      <th>77.00</th>\n",
       "      <td>5.00</td>\n",
       "    </tr>\n",
       "    <tr>\n",
       "      <th>75.00</th>\n",
       "      <td>4.94</td>\n",
       "    </tr>\n",
       "    <tr>\n",
       "      <th>74.00</th>\n",
       "      <td>5.00</td>\n",
       "    </tr>\n",
       "    <tr>\n",
       "      <th>73.00</th>\n",
       "      <td>5.00</td>\n",
       "    </tr>\n",
       "    <tr>\n",
       "      <th>72.00</th>\n",
       "      <td>5.00</td>\n",
       "    </tr>\n",
       "    <tr>\n",
       "      <th>71.00</th>\n",
       "      <td>5.00</td>\n",
       "    </tr>\n",
       "    <tr>\n",
       "      <th>70.00</th>\n",
       "      <td>4.79</td>\n",
       "    </tr>\n",
       "    <tr>\n",
       "      <th>69.00</th>\n",
       "      <td>5.00</td>\n",
       "    </tr>\n",
       "    <tr>\n",
       "      <th>67.00</th>\n",
       "      <td>5.00</td>\n",
       "    </tr>\n",
       "    <tr>\n",
       "      <th>66.00</th>\n",
       "      <td>5.00</td>\n",
       "    </tr>\n",
       "    <tr>\n",
       "      <th>65.00</th>\n",
       "      <td>4.84</td>\n",
       "    </tr>\n",
       "    <tr>\n",
       "      <th>64.00</th>\n",
       "      <td>4.81</td>\n",
       "    </tr>\n",
       "    <tr>\n",
       "      <th>63.00</th>\n",
       "      <td>4.80</td>\n",
       "    </tr>\n",
       "    <tr>\n",
       "      <th>62.00</th>\n",
       "      <td>5.00</td>\n",
       "    </tr>\n",
       "    <tr>\n",
       "      <th>61.00</th>\n",
       "      <td>5.00</td>\n",
       "    </tr>\n",
       "    <tr>\n",
       "      <th>60.00</th>\n",
       "      <td>4.79</td>\n",
       "    </tr>\n",
       "    <tr>\n",
       "      <th>59.00</th>\n",
       "      <td>5.00</td>\n",
       "    </tr>\n",
       "    <tr>\n",
       "      <th>58.00</th>\n",
       "      <td>4.50</td>\n",
       "    </tr>\n",
       "    <tr>\n",
       "      <th>57.00</th>\n",
       "      <td>5.00</td>\n",
       "    </tr>\n",
       "    <tr>\n",
       "      <th>56.00</th>\n",
       "      <td>5.00</td>\n",
       "    </tr>\n",
       "    <tr>\n",
       "      <th>55.00</th>\n",
       "      <td>4.78</td>\n",
       "    </tr>\n",
       "    <tr>\n",
       "      <th>54.00</th>\n",
       "      <td>4.94</td>\n",
       "    </tr>\n",
       "    <tr>\n",
       "      <th>53.00</th>\n",
       "      <td>4.86</td>\n",
       "    </tr>\n",
       "    <tr>\n",
       "      <th>52.00</th>\n",
       "      <td>5.00</td>\n",
       "    </tr>\n",
       "    <tr>\n",
       "      <th>51.00</th>\n",
       "      <td>4.50</td>\n",
       "    </tr>\n",
       "    <tr>\n",
       "      <th>50.00</th>\n",
       "      <td>4.80</td>\n",
       "    </tr>\n",
       "    <tr>\n",
       "      <th>49.00</th>\n",
       "      <td>5.00</td>\n",
       "    </tr>\n",
       "    <tr>\n",
       "      <th>48.00</th>\n",
       "      <td>5.00</td>\n",
       "    </tr>\n",
       "    <tr>\n",
       "      <th>47.00</th>\n",
       "      <td>5.00</td>\n",
       "    </tr>\n",
       "    <tr>\n",
       "      <th>46.00</th>\n",
       "      <td>5.00</td>\n",
       "    </tr>\n",
       "    <tr>\n",
       "      <th>45.00</th>\n",
       "      <td>4.81</td>\n",
       "    </tr>\n",
       "    <tr>\n",
       "      <th>44.00</th>\n",
       "      <td>4.95</td>\n",
       "    </tr>\n",
       "    <tr>\n",
       "      <th>43.00</th>\n",
       "      <td>5.00</td>\n",
       "    </tr>\n",
       "    <tr>\n",
       "      <th>42.00</th>\n",
       "      <td>5.00</td>\n",
       "    </tr>\n",
       "    <tr>\n",
       "      <th>41.00</th>\n",
       "      <td>3.17</td>\n",
       "    </tr>\n",
       "    <tr>\n",
       "      <th>40.00</th>\n",
       "      <td>4.77</td>\n",
       "    </tr>\n",
       "    <tr>\n",
       "      <th>39.00</th>\n",
       "      <td>4.58</td>\n",
       "    </tr>\n",
       "    <tr>\n",
       "      <th>38.00</th>\n",
       "      <td>4.90</td>\n",
       "    </tr>\n",
       "    <tr>\n",
       "      <th>37.00</th>\n",
       "      <td>5.00</td>\n",
       "    </tr>\n",
       "    <tr>\n",
       "      <th>36.00</th>\n",
       "      <td>4.33</td>\n",
       "    </tr>\n",
       "    <tr>\n",
       "      <th>35.00</th>\n",
       "      <td>4.86</td>\n",
       "    </tr>\n",
       "    <tr>\n",
       "      <th>34.00</th>\n",
       "      <td>4.75</td>\n",
       "    </tr>\n",
       "    <tr>\n",
       "      <th>33.00</th>\n",
       "      <td>4.94</td>\n",
       "    </tr>\n",
       "    <tr>\n",
       "      <th>32.00</th>\n",
       "      <td>5.00</td>\n",
       "    </tr>\n",
       "    <tr>\n",
       "      <th>31.00</th>\n",
       "      <td>4.92</td>\n",
       "    </tr>\n",
       "    <tr>\n",
       "      <th>30.00</th>\n",
       "      <td>4.80</td>\n",
       "    </tr>\n",
       "    <tr>\n",
       "      <th>29.00</th>\n",
       "      <td>4.58</td>\n",
       "    </tr>\n",
       "    <tr>\n",
       "      <th>28.00</th>\n",
       "      <td>4.94</td>\n",
       "    </tr>\n",
       "    <tr>\n",
       "      <th>27.00</th>\n",
       "      <td>4.81</td>\n",
       "    </tr>\n",
       "    <tr>\n",
       "      <th>26.00</th>\n",
       "      <td>5.00</td>\n",
       "    </tr>\n",
       "    <tr>\n",
       "      <th>25.00</th>\n",
       "      <td>4.82</td>\n",
       "    </tr>\n",
       "    <tr>\n",
       "      <th>24.00</th>\n",
       "      <td>4.73</td>\n",
       "    </tr>\n",
       "    <tr>\n",
       "      <th>23.00</th>\n",
       "      <td>4.85</td>\n",
       "    </tr>\n",
       "    <tr>\n",
       "      <th>22.00</th>\n",
       "      <td>4.60</td>\n",
       "    </tr>\n",
       "    <tr>\n",
       "      <th>21.00</th>\n",
       "      <td>4.80</td>\n",
       "    </tr>\n",
       "    <tr>\n",
       "      <th>20.00</th>\n",
       "      <td>4.78</td>\n",
       "    </tr>\n",
       "    <tr>\n",
       "      <th>19.00</th>\n",
       "      <td>4.81</td>\n",
       "    </tr>\n",
       "    <tr>\n",
       "      <th>18.00</th>\n",
       "      <td>4.88</td>\n",
       "    </tr>\n",
       "    <tr>\n",
       "      <th>17.00</th>\n",
       "      <td>4.85</td>\n",
       "    </tr>\n",
       "    <tr>\n",
       "      <th>16.00</th>\n",
       "      <td>4.90</td>\n",
       "    </tr>\n",
       "    <tr>\n",
       "      <th>15.00</th>\n",
       "      <td>4.71</td>\n",
       "    </tr>\n",
       "    <tr>\n",
       "      <th>14.00</th>\n",
       "      <td>4.87</td>\n",
       "    </tr>\n",
       "    <tr>\n",
       "      <th>13.00</th>\n",
       "      <td>4.59</td>\n",
       "    </tr>\n",
       "    <tr>\n",
       "      <th>12.00</th>\n",
       "      <td>4.83</td>\n",
       "    </tr>\n",
       "    <tr>\n",
       "      <th>11.00</th>\n",
       "      <td>4.83</td>\n",
       "    </tr>\n",
       "    <tr>\n",
       "      <th>10.00</th>\n",
       "      <td>4.75</td>\n",
       "    </tr>\n",
       "    <tr>\n",
       "      <th>9.00</th>\n",
       "      <td>4.83</td>\n",
       "    </tr>\n",
       "    <tr>\n",
       "      <th>8.00</th>\n",
       "      <td>4.74</td>\n",
       "    </tr>\n",
       "    <tr>\n",
       "      <th>7.00</th>\n",
       "      <td>4.73</td>\n",
       "    </tr>\n",
       "    <tr>\n",
       "      <th>6.00</th>\n",
       "      <td>4.76</td>\n",
       "    </tr>\n",
       "    <tr>\n",
       "      <th>5.00</th>\n",
       "      <td>4.70</td>\n",
       "    </tr>\n",
       "    <tr>\n",
       "      <th>4.00</th>\n",
       "      <td>4.78</td>\n",
       "    </tr>\n",
       "    <tr>\n",
       "      <th>3.00</th>\n",
       "      <td>4.66</td>\n",
       "    </tr>\n",
       "    <tr>\n",
       "      <th>2.00</th>\n",
       "      <td>4.65</td>\n",
       "    </tr>\n",
       "    <tr>\n",
       "      <th>1.00</th>\n",
       "      <td>4.64</td>\n",
       "    </tr>\n",
       "    <tr>\n",
       "      <th>0.00</th>\n",
       "      <td>4.67</td>\n",
       "    </tr>\n",
       "  </tbody>\n",
       "</table>\n",
       "</div>"
      ],
      "text/plain": [
       "          rating\n",
       "progress        \n",
       "100.00      4.87\n",
       "98.00       5.00\n",
       "97.00       5.00\n",
       "95.00       4.79\n",
       "94.00       5.00\n",
       "93.00       4.83\n",
       "91.00       5.00\n",
       "90.00       4.92\n",
       "89.00       4.79\n",
       "87.00       5.00\n",
       "85.00       4.91\n",
       "84.00       5.00\n",
       "83.00       5.00\n",
       "80.00       4.75\n",
       "78.00       5.00\n",
       "77.00       5.00\n",
       "75.00       4.94\n",
       "74.00       5.00\n",
       "73.00       5.00\n",
       "72.00       5.00\n",
       "71.00       5.00\n",
       "70.00       4.79\n",
       "69.00       5.00\n",
       "67.00       5.00\n",
       "66.00       5.00\n",
       "65.00       4.84\n",
       "64.00       4.81\n",
       "63.00       4.80\n",
       "62.00       5.00\n",
       "61.00       5.00\n",
       "60.00       4.79\n",
       "59.00       5.00\n",
       "58.00       4.50\n",
       "57.00       5.00\n",
       "56.00       5.00\n",
       "55.00       4.78\n",
       "54.00       4.94\n",
       "53.00       4.86\n",
       "52.00       5.00\n",
       "51.00       4.50\n",
       "50.00       4.80\n",
       "49.00       5.00\n",
       "48.00       5.00\n",
       "47.00       5.00\n",
       "46.00       5.00\n",
       "45.00       4.81\n",
       "44.00       4.95\n",
       "43.00       5.00\n",
       "42.00       5.00\n",
       "41.00       3.17\n",
       "40.00       4.77\n",
       "39.00       4.58\n",
       "38.00       4.90\n",
       "37.00       5.00\n",
       "36.00       4.33\n",
       "35.00       4.86\n",
       "34.00       4.75\n",
       "33.00       4.94\n",
       "32.00       5.00\n",
       "31.00       4.92\n",
       "30.00       4.80\n",
       "29.00       4.58\n",
       "28.00       4.94\n",
       "27.00       4.81\n",
       "26.00       5.00\n",
       "25.00       4.82\n",
       "24.00       4.73\n",
       "23.00       4.85\n",
       "22.00       4.60\n",
       "21.00       4.80\n",
       "20.00       4.78\n",
       "19.00       4.81\n",
       "18.00       4.88\n",
       "17.00       4.85\n",
       "16.00       4.90\n",
       "15.00       4.71\n",
       "14.00       4.87\n",
       "13.00       4.59\n",
       "12.00       4.83\n",
       "11.00       4.83\n",
       "10.00       4.75\n",
       "9.00        4.83\n",
       "8.00        4.74\n",
       "7.00        4.73\n",
       "6.00        4.76\n",
       "5.00        4.70\n",
       "4.00        4.78\n",
       "3.00        4.66\n",
       "2.00        4.65\n",
       "1.00        4.64\n",
       "0.00        4.67"
      ]
     },
     "execution_count": 18,
     "metadata": {},
     "output_type": "execute_result"
    }
   ],
   "source": [
    "df.groupby('progress').agg({'rating': 'mean'}).sort_values('progress', ascending=False)"
   ]
  },
  {
   "cell_type": "markdown",
   "id": "97f496e9",
   "metadata": {
    "papermill": {
     "duration": 0.012137,
     "end_time": "2022-11-23T00:54:16.740661",
     "exception": false,
     "start_time": "2022-11-23T00:54:16.728524",
     "status": "completed"
    },
    "tags": []
   },
   "source": [
    "### Let's consider the following user weights\n",
    "* for the progress > 75% = 28%\n",
    "* 45% < the progress <= 75% = 26%\n",
    "* 10% < the progress <= 45% = 24%\n",
    "* for the progress <= 10% = 22%"
   ]
  },
  {
   "cell_type": "code",
   "execution_count": 19,
   "id": "7126213a",
   "metadata": {
    "execution": {
     "iopub.execute_input": "2022-11-23T00:54:16.766064Z",
     "iopub.status.busy": "2022-11-23T00:54:16.765492Z",
     "iopub.status.idle": "2022-11-23T00:54:16.775909Z",
     "shell.execute_reply": "2022-11-23T00:54:16.775069Z"
    },
    "papermill": {
     "duration": 0.025686,
     "end_time": "2022-11-23T00:54:16.777960",
     "exception": false,
     "start_time": "2022-11-23T00:54:16.752274",
     "status": "completed"
    },
    "tags": []
   },
   "outputs": [
    {
     "data": {
      "text/plain": [
       "4.800257704672543"
      ]
     },
     "execution_count": 19,
     "metadata": {},
     "output_type": "execute_result"
    }
   ],
   "source": [
    "df.loc[(df['progress'] <= 10), 'rating'].mean() * 0.22 + \\\n",
    "    df.loc[(df['progress'] > 10) & (df['progress'] <= 45), 'rating'].mean() * 0.24 + \\\n",
    "        df.loc[(df['progress'] > 45) & (df['progress'] <= 75), 'rating'].mean() * 0.26 + \\\n",
    "            df.loc[(df['progress'] > 75), 'rating'].mean() * 0.28"
   ]
  },
  {
   "cell_type": "markdown",
   "id": "5c20abf1",
   "metadata": {
    "papermill": {
     "duration": 0.011174,
     "end_time": "2022-11-23T00:54:16.800679",
     "exception": false,
     "start_time": "2022-11-23T00:54:16.789505",
     "status": "completed"
    },
    "tags": []
   },
   "source": [
    "### functionalization of the above process"
   ]
  },
  {
   "cell_type": "code",
   "execution_count": 20,
   "id": "ada455dc",
   "metadata": {
    "execution": {
     "iopub.execute_input": "2022-11-23T00:54:16.826477Z",
     "iopub.status.busy": "2022-11-23T00:54:16.825248Z",
     "iopub.status.idle": "2022-11-23T00:54:16.837881Z",
     "shell.execute_reply": "2022-11-23T00:54:16.836941Z"
    },
    "papermill": {
     "duration": 0.027456,
     "end_time": "2022-11-23T00:54:16.839867",
     "exception": false,
     "start_time": "2022-11-23T00:54:16.812411",
     "status": "completed"
    },
    "tags": []
   },
   "outputs": [
    {
     "data": {
      "text/plain": [
       "4.800257704672543"
      ]
     },
     "execution_count": 20,
     "metadata": {},
     "output_type": "execute_result"
    }
   ],
   "source": [
    "def user_based_weighted_average(dataframe, w1=0.22, w2=0.24, w3=0.26, w4=0.28):\n",
    "    return dataframe.loc[(dataframe['progress'] <= 10), 'rating'].mean() * w1 + \\\n",
    "    dataframe.loc[(dataframe['progress'] > 10) & (dataframe['progress'] <= 45), 'rating'].mean() * w2 + \\\n",
    "        dataframe.loc[(dataframe['progress'] > 45) & (dataframe['progress'] <= 75), 'rating'].mean() * w3 + \\\n",
    "            dataframe.loc[(dataframe['progress'] > 75), 'rating'].mean() * w4\n",
    "\n",
    "user_based_weighted_average(df)"
   ]
  },
  {
   "cell_type": "markdown",
   "id": "d9de2f2d",
   "metadata": {
    "papermill": {
     "duration": 0.011691,
     "end_time": "2022-11-23T00:54:16.863604",
     "exception": false,
     "start_time": "2022-11-23T00:54:16.851913",
     "status": "completed"
    },
    "tags": []
   },
   "source": [
    "### operating the function again by changing the weights"
   ]
  },
  {
   "cell_type": "code",
   "execution_count": 21,
   "id": "29b78961",
   "metadata": {
    "execution": {
     "iopub.execute_input": "2022-11-23T00:54:16.889703Z",
     "iopub.status.busy": "2022-11-23T00:54:16.889150Z",
     "iopub.status.idle": "2022-11-23T00:54:16.898201Z",
     "shell.execute_reply": "2022-11-23T00:54:16.896979Z"
    },
    "papermill": {
     "duration": 0.025062,
     "end_time": "2022-11-23T00:54:16.900784",
     "exception": false,
     "start_time": "2022-11-23T00:54:16.875722",
     "status": "completed"
    },
    "tags": []
   },
   "outputs": [
    {
     "data": {
      "text/plain": [
       "4.803286469062915"
      ]
     },
     "execution_count": 21,
     "metadata": {},
     "output_type": "execute_result"
    }
   ],
   "source": [
    "user_based_weighted_average(df, w1=0.20, w4=0.30)"
   ]
  },
  {
   "cell_type": "markdown",
   "id": "1d62cb7d",
   "metadata": {
    "papermill": {
     "duration": 0.011656,
     "end_time": "2022-11-23T00:54:16.924987",
     "exception": false,
     "start_time": "2022-11-23T00:54:16.913331",
     "status": "completed"
    },
    "tags": []
   },
   "source": [
    "# Weighted rating\n"
   ]
  },
  {
   "cell_type": "markdown",
   "id": "8ec27ebb",
   "metadata": {
    "papermill": {
     "duration": 0.011592,
     "end_time": "2022-11-23T00:54:16.948383",
     "exception": false,
     "start_time": "2022-11-23T00:54:16.936791",
     "status": "completed"
    },
    "tags": []
   },
   "source": [
    "### combining the functions time_based_weighted_average and user_based_weighted_average"
   ]
  },
  {
   "cell_type": "code",
   "execution_count": 22,
   "id": "2cb5995d",
   "metadata": {
    "execution": {
     "iopub.execute_input": "2022-11-23T00:54:16.974482Z",
     "iopub.status.busy": "2022-11-23T00:54:16.973600Z",
     "iopub.status.idle": "2022-11-23T00:54:16.985329Z",
     "shell.execute_reply": "2022-11-23T00:54:16.984095Z"
    },
    "papermill": {
     "duration": 0.027666,
     "end_time": "2022-11-23T00:54:16.988044",
     "exception": false,
     "start_time": "2022-11-23T00:54:16.960378",
     "status": "completed"
    },
    "tags": []
   },
   "outputs": [
    {
     "data": {
      "text/plain": [
       "4.782641693469868"
      ]
     },
     "execution_count": 22,
     "metadata": {},
     "output_type": "execute_result"
    }
   ],
   "source": [
    "def weighted_rating(dataframe, time_w=0.50, user_w=0.50):\n",
    "    return time_based_weighted_average(dataframe) * time_w + user_based_weighted_average(dataframe) * user_w\n",
    "\n",
    "weighted_rating(df)"
   ]
  },
  {
   "cell_type": "markdown",
   "id": "b8642282",
   "metadata": {
    "papermill": {
     "duration": 0.011405,
     "end_time": "2022-11-23T00:54:17.011261",
     "exception": false,
     "start_time": "2022-11-23T00:54:16.999856",
     "status": "completed"
    },
    "tags": []
   },
   "source": [
    "### operating the function again by changing the weights"
   ]
  },
  {
   "cell_type": "code",
   "execution_count": 23,
   "id": "10659954",
   "metadata": {
    "execution": {
     "iopub.execute_input": "2022-11-23T00:54:17.036593Z",
     "iopub.status.busy": "2022-11-23T00:54:17.035998Z",
     "iopub.status.idle": "2022-11-23T00:54:17.045695Z",
     "shell.execute_reply": "2022-11-23T00:54:17.045060Z"
    },
    "papermill": {
     "duration": 0.024694,
     "end_time": "2022-11-23T00:54:17.047612",
     "exception": false,
     "start_time": "2022-11-23T00:54:17.022918",
     "status": "completed"
    },
    "tags": []
   },
   "outputs": [
    {
     "data": {
      "text/plain": [
       "4.786164895710403"
      ]
     },
     "execution_count": 23,
     "metadata": {},
     "output_type": "execute_result"
    }
   ],
   "source": [
    "weighted_rating(df, 0.4, 0.6)"
   ]
  },
  {
   "cell_type": "code",
   "execution_count": 24,
   "id": "fa2fa357",
   "metadata": {
    "execution": {
     "iopub.execute_input": "2022-11-23T00:54:17.075125Z",
     "iopub.status.busy": "2022-11-23T00:54:17.074680Z",
     "iopub.status.idle": "2022-11-23T00:54:17.084643Z",
     "shell.execute_reply": "2022-11-23T00:54:17.084055Z"
    },
    "papermill": {
     "duration": 0.02631,
     "end_time": "2022-11-23T00:54:17.086977",
     "exception": false,
     "start_time": "2022-11-23T00:54:17.060667",
     "status": "completed"
    },
    "tags": []
   },
   "outputs": [
    {
     "data": {
      "text/plain": [
       "4.779118491229334"
      ]
     },
     "execution_count": 24,
     "metadata": {},
     "output_type": "execute_result"
    }
   ],
   "source": [
    "weighted_rating(df, 0.6, 0.4)"
   ]
  },
  {
   "cell_type": "markdown",
   "id": "ec94ee03",
   "metadata": {
    "papermill": {
     "duration": 0.011677,
     "end_time": "2022-11-23T00:54:17.110980",
     "exception": false,
     "start_time": "2022-11-23T00:54:17.099303",
     "status": "completed"
    },
    "tags": []
   },
   "source": [
    "### Consequently, when considering the first product rating (4.764925), it was increased to 4.76549, 4.80328, and 4.77912 by using tim-base weighted rating, user-based weighted rating, and weighted rating, respectively. On the other hand, if there is the distribution of the ratings, we can also here apply the bayesian average rating function."
   ]
  },
  {
   "cell_type": "markdown",
   "id": "6202e20a",
   "metadata": {
    "papermill": {
     "duration": 0.011888,
     "end_time": "2022-11-23T00:54:17.134957",
     "exception": false,
     "start_time": "2022-11-23T00:54:17.123069",
     "status": "completed"
    },
    "tags": []
   },
   "source": [
    "# **Thanks for checking my notebook!**"
   ]
  }
 ],
 "metadata": {
  "kernelspec": {
   "display_name": "Python 3",
   "language": "python",
   "name": "python3"
  },
  "language_info": {
   "codemirror_mode": {
    "name": "ipython",
    "version": 3
   },
   "file_extension": ".py",
   "mimetype": "text/x-python",
   "name": "python",
   "nbconvert_exporter": "python",
   "pygments_lexer": "ipython3",
   "version": "3.7.12"
  },
  "papermill": {
   "default_parameters": {},
   "duration": 11.98685,
   "end_time": "2022-11-23T00:54:17.868234",
   "environment_variables": {},
   "exception": null,
   "input_path": "__notebook__.ipynb",
   "output_path": "__notebook__.ipynb",
   "parameters": {},
   "start_time": "2022-11-23T00:54:05.881384",
   "version": "2.3.4"
  }
 },
 "nbformat": 4,
 "nbformat_minor": 5
}
